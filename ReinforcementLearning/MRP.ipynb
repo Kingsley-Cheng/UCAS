{
 "cells": [
  {
   "attachments": {},
   "cell_type": "markdown",
   "metadata": {},
   "source": [
    "## 计算序列回报"
   ]
  },
  {
   "cell_type": "code",
   "execution_count": 2,
   "metadata": {},
   "outputs": [
    {
     "name": "stdout",
     "output_type": "stream",
     "text": [
      "回报: -2.5\n"
     ]
    }
   ],
   "source": [
    "import numpy as np\n",
    "np.random.seed(0)\n",
    "# 定义状态转移概率矩阵 P\n",
    "P = [\n",
    "    [0.9, 0.1, 0.0, 0.0, 0.0, 0.0],\n",
    "    [0.5, 0.0, 0.5, 0.0, 0.0, 0.0],\n",
    "    [0.0, 0.0, 0.0, 0.6, 0.0, 0.4],\n",
    "    [0.0, 0.0, 0.0, 0.0, 0.3, 0.7],\n",
    "    [0.0, 0.2, 0.3, 0.5, 0.0, 0.0],\n",
    "    [0.0, 0.0, 0.0, 0.0, 0.0, 1.0]\n",
    "]\n",
    "P = np.array(P)\n",
    "rewards = [-1, -2, -2, 10, 1, 0] # 定义奖励函数\n",
    "gamma = 0.5 # 定义折扣因子\n",
    "# 给定一条序列，计算从某个索引（开始状态）开始到序列最后（终止状态）得到的回报\n",
    "\n",
    "def compute_return(start_index, chain, gamma):\n",
    "    G = 0\n",
    "    for i in reversed(range(start_index, len(chain))):\n",
    "        G = G*gamma + rewards[chain[i]-1]\n",
    "    return G\n",
    "\n",
    "# 一个状态序列，1-2-3-6\n",
    "chain = [1,2,3,6]\n",
    "start_index = 0\n",
    "G = compute_return(start_index,chain,gamma)\n",
    "print(\"回报: %s\"% G)"
   ]
  },
  {
   "attachments": {},
   "cell_type": "markdown",
   "metadata": {},
   "source": [
    "## 价值函数计算"
   ]
  },
  {
   "cell_type": "code",
   "execution_count": 3,
   "metadata": {},
   "outputs": [
    {
     "name": "stdout",
     "output_type": "stream",
     "text": [
      "MRP 中每个状态的价值：\n",
      " [[-2.01950168]\n",
      " [-2.21451846]\n",
      " [ 1.16142785]\n",
      " [10.53809283]\n",
      " [ 3.58728554]\n",
      " [ 0.        ]]\n"
     ]
    }
   ],
   "source": [
    "def compute_value_Bell(P, rewards, gamma, states_num):\n",
    "    \"\"\"\n",
    "    使用Bellman‘s Equation 计算解析解\n",
    "    \"\"\"\n",
    "    rewards = np.array(rewards).reshape((-1,1)) # rewards 转化为列向量的形式\n",
    "    values = np.dot(np.linalg.inv(np.eye(states_num,states_num)-gamma*P),rewards)\n",
    "    return values\n",
    "\n",
    "V = compute_value_Bell(P,rewards,gamma,P.shape[0])\n",
    "print(\"MRP 中每个状态的价值：\\n\",V)"
   ]
  }
 ],
 "metadata": {
  "kernelspec": {
   "display_name": "Python 3",
   "language": "python",
   "name": "python3"
  },
  "language_info": {
   "codemirror_mode": {
    "name": "ipython",
    "version": 3
   },
   "file_extension": ".py",
   "mimetype": "text/x-python",
   "name": "python",
   "nbconvert_exporter": "python",
   "pygments_lexer": "ipython3",
   "version": "3.9.13"
  },
  "orig_nbformat": 4
 },
 "nbformat": 4,
 "nbformat_minor": 2
}
