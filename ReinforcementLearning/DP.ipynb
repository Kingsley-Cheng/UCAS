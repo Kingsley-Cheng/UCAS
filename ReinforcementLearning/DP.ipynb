{
 "cells": [
  {
   "attachments": {},
   "cell_type": "markdown",
   "metadata": {},
   "source": [
    "## Cliff Walking\n",
    "### Environment Build"
   ]
  },
  {
   "cell_type": "code",
   "execution_count": 19,
   "metadata": {},
   "outputs": [],
   "source": [
    "import copy\n",
    "\n",
    "class CliffWalkingEnv:\n",
    "    \"\"\"\n",
    "    Cliff Walking Environment\n",
    "    \"\"\"\n",
    "    def __init__(self, ncol=12, nrow=4):\n",
    "        self.ncol = ncol # 定义网格世界的列\n",
    "        self.nrow = nrow # 定义网格世界的行\n",
    "        # 转移矩阵 P[state][action] = [(p, next_state, reward, done)] 包含下一个状态和奖励\n",
    "        self.P = self.createP()\n",
    "\n",
    "    def createP(self):\n",
    "        # 初始化\n",
    "        P = [[[] for j in range(4)] for i in range(self.ncol * self.nrow)]\n",
    "        # 4种动作，change[0]:上，change[1]：下，change[2]:左，change[3]：右。坐标原点（0,0）\n",
    "        # 定义在左上角\n",
    "        change = [[0, -1], [0, 1], [-1, 0], [1, 0]]\n",
    "        for i in range(self.nrow):\n",
    "            for j in range(self.ncol):\n",
    "                for a in range(4):\n",
    "                    # 位置在悬崖或者目标状态，因为无法继续交互，任何动作奖励都为0\n",
    "                    if i == self.nrow -1 and j > 0:\n",
    "                        P[i*self.ncol + j][a] = [(1, i*self.ncol + j, 0, True)]\n",
    "                        continue\n",
    "                    # 其他位置\n",
    "                    next_x = min(self.ncol - 1, max(0, j + change[a][0]))\n",
    "                    next_y = min(self.nrow - 1, max(0, i + change[a][1]))\n",
    "                    next_state = next_y * self.ncol + next_x\n",
    "                    reward = -1\n",
    "                    done = False\n",
    "                    # 下一个位置在终点或者是悬崖\n",
    "                    if next_y == self.nrow - 1 and next_x > 0:\n",
    "                        done = True\n",
    "                        if next_x != self.ncol - 1:\n",
    "                            reward = -100\n",
    "                    P[i * self.ncol + j][a] = [(1, next_state, reward, done)]\n",
    "        return P"
   ]
  },
  {
   "attachments": {},
   "cell_type": "markdown",
   "metadata": {},
   "source": [
    "### Policy Iteration"
   ]
  },
  {
   "cell_type": "code",
   "execution_count": 16,
   "metadata": {},
   "outputs": [
    {
     "ename": "NameError",
     "evalue": "name 'CliffWalkingEnv' is not defined",
     "output_type": "error",
     "traceback": [
      "\u001b[0;31m---------------------------------------------------------------------------\u001b[0m",
      "\u001b[0;31mNameError\u001b[0m                                 Traceback (most recent call last)",
      "\u001b[1;32m/Users/kingsleycheng/Documents/github/UCAS/ReinforcementLearning/DP.ipynb Cell 4\u001b[0m in \u001b[0;36m<cell line: 84>\u001b[0;34m()\u001b[0m\n\u001b[1;32m     <a href='vscode-notebook-cell:/Users/kingsleycheng/Documents/github/UCAS/ReinforcementLearning/DP.ipynb#W3sZmlsZQ%3D%3D?line=80'>81</a>\u001b[0m                 \u001b[39mprint\u001b[39m(pi_str, end\u001b[39m=\u001b[39m\u001b[39m\"\u001b[39m\u001b[39m \u001b[39m\u001b[39m\"\u001b[39m)\n\u001b[1;32m     <a href='vscode-notebook-cell:/Users/kingsleycheng/Documents/github/UCAS/ReinforcementLearning/DP.ipynb#W3sZmlsZQ%3D%3D?line=81'>82</a>\u001b[0m         \u001b[39mprint\u001b[39m()\n\u001b[0;32m---> <a href='vscode-notebook-cell:/Users/kingsleycheng/Documents/github/UCAS/ReinforcementLearning/DP.ipynb#W3sZmlsZQ%3D%3D?line=83'>84</a>\u001b[0m env \u001b[39m=\u001b[39m CliffWalkingEnv()\n\u001b[1;32m     <a href='vscode-notebook-cell:/Users/kingsleycheng/Documents/github/UCAS/ReinforcementLearning/DP.ipynb#W3sZmlsZQ%3D%3D?line=84'>85</a>\u001b[0m action_meaning \u001b[39m=\u001b[39m [\u001b[39m'\u001b[39m\u001b[39m^\u001b[39m\u001b[39m'\u001b[39m,\u001b[39m'\u001b[39m\u001b[39mv\u001b[39m\u001b[39m'\u001b[39m,\u001b[39m\"\u001b[39m\u001b[39m<\u001b[39m\u001b[39m\"\u001b[39m,\u001b[39m'\u001b[39m\u001b[39m>\u001b[39m\u001b[39m'\u001b[39m]\n\u001b[1;32m     <a href='vscode-notebook-cell:/Users/kingsleycheng/Documents/github/UCAS/ReinforcementLearning/DP.ipynb#W3sZmlsZQ%3D%3D?line=85'>86</a>\u001b[0m theta \u001b[39m=\u001b[39m \u001b[39m0.001\u001b[39m\n",
      "\u001b[0;31mNameError\u001b[0m: name 'CliffWalkingEnv' is not defined"
     ]
    }
   ],
   "source": [
    "class PolicyIteration:\n",
    "    \"\"\"\n",
    "    Algorithm: Policy Iteration\n",
    "    \"\"\"\n",
    "    def __init__(self, env, theta, gamma):\n",
    "        self.env = env\n",
    "        self.v = [0] * self.env.ncol * self.env.nrow # 初始化价值为 0 \n",
    "        self.pi = [[0.25, 0.25, 0.25, 0.25] for i in range(self.env.ncol * self.env.nrow)] # 初始化为均匀随机策略\n",
    "        self.theta = theta # 策略评估收敛阈值\n",
    "        self.gamma = gamma # 折扣因子\n",
    "\n",
    "    def policy_evaluation(self): # 策略评估\n",
    "        cnt = 1 # 计数器\n",
    "        while 1:\n",
    "            max_diff = 0\n",
    "            new_v = [0] * self.env.ncol * self.env.nrow\n",
    "            for s in range(self.env.ncol * self.env.nrow):\n",
    "                qsa_list = [] # 开始计算状态 s 下的所有 Q(s,a)价值\n",
    "                for a in range(4):\n",
    "                    qsa=0\n",
    "                    for res in self.env.P[s][a]:\n",
    "                        p, next_state, r, done = res\n",
    "                        qsa += p * (r + self.gamma * self.v[next_state] * (1 - done))\n",
    "                    qsa_list.append(self.pi[s][a] * qsa)\n",
    "                new_v[s] = sum(qsa_list) # 状态价值函数和动作价值函数之间的关系\n",
    "                max_diff = max(max_diff, abs(new_v[s] - self.v[s]))\n",
    "            self.v = new_v\n",
    "            if max_diff < self.theta:\n",
    "                break\n",
    "            cnt += 1\n",
    "        print(\"策论评估进行 %d 轮后完成\"% cnt)\n",
    "    \n",
    "    def policy_improvement(self): # 策略提升\n",
    "        for s in range(self.env.nrow * self.env.ncol):\n",
    "            qsa_list = []\n",
    "            for a in range(4):\n",
    "                qsa = 0\n",
    "                for res in self.env.P[s][a]:\n",
    "                    p, next_state, r, done = res\n",
    "                    qsa += p * (r + self.gamma * self.v[next_state] * (1 - done))\n",
    "                qsa_list.append(qsa)\n",
    "            maxq = max(qsa_list)\n",
    "            cntq = qsa_list.count(maxq) # 计算有几个动作得到了最大的 Q 值\n",
    "            # 让这些动作均分概率\n",
    "            self.pi[s] = [1/cntq if q == maxq else 0 for q in qsa_list]\n",
    "        print(\"策略提升完成\")\n",
    "        return self.pi\n",
    "    \n",
    "    def policy_iteration(self): # 策略迭代\n",
    "        while 1:\n",
    "            self.policy_evaluation()\n",
    "            old_pi = copy.deepcopy(self.pi) # 将列表进行深拷贝，方便接下来进行比较\n",
    "            new_pi = self.policy_improvement()\n",
    "            if old_pi == new_pi:\n",
    "                break\n",
    "\n",
    "\n",
    "def print_agent(agent, action_meaning, disaster=[], end=[]):\n",
    "    \"\"\"\n",
    "    help fuction:\n",
    "    打印当前策略在每个状态下的价值以及智能体采取的动作。\n",
    "    \"\"\"\n",
    "    print(\"状态价值：\")\n",
    "    for i in range(agent.env.nrow):\n",
    "        for j in range(agent.env.ncol):\n",
    "            print('%6.6s' % ('%.3f' % agent.v[i*agent.env.ncol + j]), end=' ')\n",
    "        print()\n",
    "    \n",
    "    print(\"策略：\")\n",
    "    for i in range(agent.env.nrow):\n",
    "        for j in range(agent.env.ncol):\n",
    "            if (i*agent.env.ncol+ j) in disaster:\n",
    "                print('****', end=\" \")\n",
    "            elif (i*agent.env.ncol + j) in end:\n",
    "                print(\"EEEE\", end=\" \")\n",
    "            else:\n",
    "                a = agent.pi[i*agent.env.ncol + j]\n",
    "                pi_str = \"\"\n",
    "                for k in range(len(action_meaning)):\n",
    "                    pi_str += action_meaning[k] if a[k] > 0 else 'o'\n",
    "                print(pi_str, end=\" \")\n",
    "        print()\n",
    "\n",
    "env = CliffWalkingEnv()\n",
    "action_meaning = ['^','v',\"<\",'>']\n",
    "theta = 0.001\n",
    "gamma = 0.9\n",
    "agent = PolicyIteration(env,theta,gamma)\n",
    "agent.policy_iteration()\n",
    "print_agent(agent, action_meaning, list(range(37,47)), [47])"
   ]
  },
  {
   "attachments": {},
   "cell_type": "markdown",
   "metadata": {},
   "source": [
    "### Value Iteration"
   ]
  },
  {
   "cell_type": "code",
   "execution_count": 11,
   "metadata": {},
   "outputs": [
    {
     "ename": "NameError",
     "evalue": "name 'CliffWalkingEnv' is not defined",
     "output_type": "error",
     "traceback": [
      "\u001b[0;31m---------------------------------------------------------------------------\u001b[0m",
      "\u001b[0;31mNameError\u001b[0m                                 Traceback (most recent call last)",
      "\u001b[1;32m/Users/kingsleycheng/Documents/github/UCAS/ReinforcementLearning/DP.ipynb Cell 6\u001b[0m in \u001b[0;36m<cell line: 48>\u001b[0;34m()\u001b[0m\n\u001b[1;32m     <a href='vscode-notebook-cell:/Users/kingsleycheng/Documents/github/UCAS/ReinforcementLearning/DP.ipynb#W5sZmlsZQ%3D%3D?line=44'>45</a>\u001b[0m             cntq \u001b[39m=\u001b[39m qsa_list\u001b[39m.\u001b[39mcount(maxq)\n\u001b[1;32m     <a href='vscode-notebook-cell:/Users/kingsleycheng/Documents/github/UCAS/ReinforcementLearning/DP.ipynb#W5sZmlsZQ%3D%3D?line=45'>46</a>\u001b[0m             \u001b[39mself\u001b[39m\u001b[39m.\u001b[39mpi[s] \u001b[39m=\u001b[39m [\u001b[39m1\u001b[39m\u001b[39m/\u001b[39mcntq \u001b[39mif\u001b[39;00m q \u001b[39m==\u001b[39m maxq \u001b[39melse\u001b[39;00m \u001b[39m0\u001b[39m \u001b[39mfor\u001b[39;00m q \u001b[39min\u001b[39;00m qsa_list]\n\u001b[0;32m---> <a href='vscode-notebook-cell:/Users/kingsleycheng/Documents/github/UCAS/ReinforcementLearning/DP.ipynb#W5sZmlsZQ%3D%3D?line=47'>48</a>\u001b[0m env \u001b[39m=\u001b[39m CliffWalkingEnv()\n\u001b[1;32m     <a href='vscode-notebook-cell:/Users/kingsleycheng/Documents/github/UCAS/ReinforcementLearning/DP.ipynb#W5sZmlsZQ%3D%3D?line=48'>49</a>\u001b[0m action_meaning \u001b[39m=\u001b[39m [\u001b[39m'\u001b[39m\u001b[39m^\u001b[39m\u001b[39m'\u001b[39m,\u001b[39m'\u001b[39m\u001b[39mv\u001b[39m\u001b[39m'\u001b[39m,\u001b[39m\"\u001b[39m\u001b[39m<\u001b[39m\u001b[39m\"\u001b[39m,\u001b[39m'\u001b[39m\u001b[39m>\u001b[39m\u001b[39m'\u001b[39m]\n\u001b[1;32m     <a href='vscode-notebook-cell:/Users/kingsleycheng/Documents/github/UCAS/ReinforcementLearning/DP.ipynb#W5sZmlsZQ%3D%3D?line=49'>50</a>\u001b[0m theta \u001b[39m=\u001b[39m \u001b[39m0.001\u001b[39m\n",
      "\u001b[0;31mNameError\u001b[0m: name 'CliffWalkingEnv' is not defined"
     ]
    }
   ],
   "source": [
    "class ValueIteration:\n",
    "    \"\"\"\n",
    "    Algorithm: Value Iteration\n",
    "    \"\"\"\n",
    "    def __init__(self, env, theta, gamma):\n",
    "        self.env = env\n",
    "        self.v = [0] * self.env.ncol * self.env.nrow # 初始化价值为 0\n",
    "        self.theta = theta # 价值收敛阈值\n",
    "        self.gamma = gamma # 折扣因子\n",
    "        self.pi = [None for i in range(self.env.ncol * self.env.nrow)] # 价值迭代结束后得到的策略\n",
    "\n",
    "    def value_iteration(self):\n",
    "        cnt = 0\n",
    "        while 1:\n",
    "            max_diff = 0\n",
    "            new_v = [0] * self.env.ncol * self.env.nrow\n",
    "            for s in range(self.env.ncol * self.env.nrow):\n",
    "                qsa_list = [] # 开始计算状态 s 下的所有 Q(s,a)价值\n",
    "                for a in range(4):\n",
    "                    qsa = 0\n",
    "                    for res in self.env.P[s][a]:\n",
    "                        p, next_state, r, done = res\n",
    "                        qsa += p*(r + self.gamma * self.v[next_state]* (1 - done))\n",
    "                    qsa_list.append(qsa)\n",
    "                new_v[s] = max(qsa_list)\n",
    "                max_diff = max(max_diff, abs(new_v[s]-self.v[s]))\n",
    "            self.v = new_v\n",
    "            if max_diff < self.theta:\n",
    "                break\n",
    "            cnt += 1\n",
    "        print(\"价值迭代一共进行 %d 轮\" % cnt)\n",
    "        self.get_policy()\n",
    "    \n",
    "    # 根据价值函数导出一个贪婪策略\n",
    "    def get_policy(self):\n",
    "        for s in range(self.env.ncol * self.env.nrow):\n",
    "            qsa_list = []\n",
    "            for a in range(4):\n",
    "                qsa = 0\n",
    "                for res in self.env.P[s][a]:\n",
    "                    p, next_state, r, done = res\n",
    "                    qsa += p*(r + self.gamma * self.v[next_state]* (1 - done))\n",
    "                qsa_list.append(qsa)\n",
    "            maxq = max(qsa_list)\n",
    "            cntq = qsa_list.count(maxq)\n",
    "            self.pi[s] = [1/cntq if q == maxq else 0 for q in qsa_list]\n",
    "                        \n",
    "env = CliffWalkingEnv()\n",
    "action_meaning = ['^','v',\"<\",'>']\n",
    "theta = 0.001\n",
    "gamma = 0.9\n",
    "agent = ValueIteration(env,theta,gamma)\n",
    "agent.value_iteration()\n",
    "print_agent(agent, action_meaning, list(range(37,47)), [47])"
   ]
  },
  {
   "attachments": {},
   "cell_type": "markdown",
   "metadata": {},
   "source": [
    "## Frozen Lake\n",
    "### Environment Build"
   ]
  },
  {
   "cell_type": "code",
   "execution_count": 11,
   "metadata": {},
   "outputs": [
    {
     "name": "stderr",
     "output_type": "stream",
     "text": [
      "/Library/Frameworks/Python.framework/Versions/3.9/lib/python3.9/site-packages/gym/envs/toy_text/frozen_lake.py:271: UserWarning: \u001b[33mWARN: You are calling render method without specifying any render mode. You can specify the render_mode at initialization, e.g. gym(\"FrozenLake-v1\", render_mode=\"rgb_array\")\u001b[0m\n",
      "  logger.warn(\n"
     ]
    }
   ],
   "source": [
    "import gym\n",
    "env = gym.make(\"FrozenLake-v1\") # 创建环境\n",
    "env = env.unwrapped # 解封装才能访问状态转移矩阵\n",
    "env.render() # 环境渲染"
   ]
  },
  {
   "cell_type": "code",
   "execution_count": 12,
   "metadata": {},
   "outputs": [
    {
     "name": "stdout",
     "output_type": "stream",
     "text": [
      "冰洞的索引： {11, 12, 5, 7}\n",
      "目标的索引： {15}\n"
     ]
    }
   ],
   "source": [
    "holes = set()\n",
    "ends = set()\n",
    "for s in env.P:\n",
    "    for a in env.P[s]:\n",
    "        for s_ in env.P[s][a]:\n",
    "            if s_[2] == 1.0: # 获得奖励为1，代表是目标\n",
    "                ends.add(s_[1])\n",
    "            if s_[3] == True:\n",
    "                holes.add(s_[1])\n",
    "holes = holes - ends\n",
    "print(\"冰洞的索引：\", holes)\n",
    "print(\"目标的索引：\", ends)"
   ]
  },
  {
   "cell_type": "code",
   "execution_count": 13,
   "metadata": {},
   "outputs": [
    {
     "name": "stdout",
     "output_type": "stream",
     "text": [
      "[(0.3333333333333333, 10, 0.0, False), (0.3333333333333333, 13, 0.0, False), (0.3333333333333333, 14, 0.0, False)]\n",
      "[(0.3333333333333333, 13, 0.0, False), (0.3333333333333333, 14, 0.0, False), (0.3333333333333333, 15, 1.0, True)]\n",
      "[(0.3333333333333333, 14, 0.0, False), (0.3333333333333333, 15, 1.0, True), (0.3333333333333333, 10, 0.0, False)]\n",
      "[(0.3333333333333333, 15, 1.0, True), (0.3333333333333333, 10, 0.0, False), (0.3333333333333333, 13, 0.0, False)]\n"
     ]
    }
   ],
   "source": [
    "for a in env.P[14]: # 查看目标左边一格的状态转移信息\n",
    "    print(env.P[14][a])"
   ]
  },
  {
   "attachments": {},
   "cell_type": "markdown",
   "metadata": {},
   "source": [
    "### Policy Iteration"
   ]
  },
  {
   "cell_type": "code",
   "execution_count": 15,
   "metadata": {},
   "outputs": [
    {
     "ename": "NameError",
     "evalue": "name 'PolicyIteration' is not defined",
     "output_type": "error",
     "traceback": [
      "\u001b[0;31m---------------------------------------------------------------------------\u001b[0m",
      "\u001b[0;31mNameError\u001b[0m                                 Traceback (most recent call last)",
      "\u001b[1;32m/Users/kingsleycheng/Documents/github/UCAS/ReinforcementLearning/DP.ipynb Cell 12\u001b[0m in \u001b[0;36m<cell line: 4>\u001b[0;34m()\u001b[0m\n\u001b[1;32m      <a href='vscode-notebook-cell:/Users/kingsleycheng/Documents/github/UCAS/ReinforcementLearning/DP.ipynb#X14sZmlsZQ%3D%3D?line=1'>2</a>\u001b[0m theta \u001b[39m=\u001b[39m \u001b[39m1e-5\u001b[39m\n\u001b[1;32m      <a href='vscode-notebook-cell:/Users/kingsleycheng/Documents/github/UCAS/ReinforcementLearning/DP.ipynb#X14sZmlsZQ%3D%3D?line=2'>3</a>\u001b[0m gamma \u001b[39m=\u001b[39m \u001b[39m0.9\u001b[39m\n\u001b[0;32m----> <a href='vscode-notebook-cell:/Users/kingsleycheng/Documents/github/UCAS/ReinforcementLearning/DP.ipynb#X14sZmlsZQ%3D%3D?line=3'>4</a>\u001b[0m agent \u001b[39m=\u001b[39m PolicyIteration(env, theta, gamma)\n\u001b[1;32m      <a href='vscode-notebook-cell:/Users/kingsleycheng/Documents/github/UCAS/ReinforcementLearning/DP.ipynb#X14sZmlsZQ%3D%3D?line=4'>5</a>\u001b[0m agent\u001b[39m.\u001b[39mpolicy_iteration()\n\u001b[1;32m      <a href='vscode-notebook-cell:/Users/kingsleycheng/Documents/github/UCAS/ReinforcementLearning/DP.ipynb#X14sZmlsZQ%3D%3D?line=5'>6</a>\u001b[0m print_agent(agent, action_meaning, [\u001b[39m5\u001b[39m,\u001b[39m7\u001b[39m,\u001b[39m11\u001b[39m,\u001b[39m12\u001b[39m], [\u001b[39m15\u001b[39m])\n",
      "\u001b[0;31mNameError\u001b[0m: name 'PolicyIteration' is not defined"
     ]
    }
   ],
   "source": [
    "action_meaning = ['<',\"v\",\">\",\"^\"]\n",
    "theta = 1e-5\n",
    "gamma = 0.9\n",
    "agent = PolicyIteration(env, theta, gamma)\n",
    "agent.policy_iteration()\n",
    "print_agent(agent, action_meaning, [5,7,11,12], [15])"
   ]
  },
  {
   "attachments": {},
   "cell_type": "markdown",
   "metadata": {},
   "source": [
    "### Value Iteration"
   ]
  },
  {
   "cell_type": "code",
   "execution_count": 15,
   "metadata": {},
   "outputs": [
    {
     "name": "stdout",
     "output_type": "stream",
     "text": [
      "价值迭代一共进行 60 轮\n",
      "状态价值：\n",
      " 0.069  0.061  0.074  0.056 \n",
      " 0.092  0.000  0.112  0.000 \n",
      " 0.145  0.247  0.300  0.000 \n",
      " 0.000  0.380  0.639  0.000 \n",
      "策略：\n",
      "<ooo ooo^ <ooo ooo^ \n",
      "<ooo **** <o>o **** \n",
      "ooo^ ovoo <ooo **** \n",
      "**** oo>o ovoo EEEE \n"
     ]
    }
   ],
   "source": [
    "action_meaning = ['<',\"v\",\">\",\"^\"]\n",
    "theta = 1e-5\n",
    "gamma = 0.9\n",
    "agent = ValueIteration(env, theta, gamma)\n",
    "agent.value_iteration()\n",
    "print_agent(agent, action_meaning, [5,7,11,12], [15])"
   ]
  },
  {
   "cell_type": "code",
   "execution_count": 13,
   "metadata": {},
   "outputs": [],
   "source": [
    "class Ex4_1:\n",
    "    def __init__(self, ncol = 4, nrow =4):\n",
    "        self.ncol = ncol\n",
    "        self.nrow = nrow\n",
    "        self.P = self.createP()\n",
    "\n",
    "    def createP(self):\n",
    "        # 初始化\n",
    "        P = [[[] for j in range(4)] for i in range(self.ncol * self.nrow)]\n",
    "        # 4种动作，change[0]:上，change[1]：下，change[2]:左，change[3]：右。坐标原点（0,0）\n",
    "        # 定义在左上角\n",
    "        change = [[0, -1], [0, 1], [-1, 0], [1, 0]]\n",
    "        for i in range(self.nrow):\n",
    "            for j in range(self.ncol):\n",
    "                for a in range(4):\n",
    "                    # 位置在悬崖或者目标状态，因为无法继续交互，任何动作奖励都为0\n",
    "                    P[self.ncol * self.nrow -1][a] = [(1, self.ncol * self.nrow -1, 0, True)]\n",
    "                    P[0][a] = [(1, 0, 0, True)]\n",
    "                    # 其他位置\n",
    "                    next_x = min(self.ncol - 1, max(0, j + change[a][0]))\n",
    "                    next_y = min(self.nrow - 1, max(0, i + change[a][1]))\n",
    "                    next_state = next_y * self.ncol + next_x\n",
    "                    reward = -1\n",
    "                    done = False\n",
    "                    # 下一个位置在终点或者是悬崖\n",
    "                    if next_y == self.nrow - 1 and next_x == self.nrow -1:\n",
    "                        done = True\n",
    "                    P[i * self.ncol + j][a] = [(1, next_state, reward, done)]\n",
    "        return P"
   ]
  },
  {
   "cell_type": "code",
   "execution_count": 20,
   "metadata": {},
   "outputs": [
    {
     "name": "stdout",
     "output_type": "stream",
     "text": [
      "策论评估进行 46 轮后完成\n",
      "策略提升完成\n",
      "策论评估进行 4 轮后完成\n",
      "策略提升完成\n",
      "策论评估进行 1 轮后完成\n",
      "策略提升完成\n",
      "状态价值：\n",
      " 0.000 -1.000 -1.900 -2.710 \n",
      "-1.000 -1.900 -2.710 -1.900 \n",
      "-1.900 -2.710 -1.900 -1.000 \n",
      "-2.710 -1.900 -1.000 -1.000 \n",
      "策略：\n",
      "EEEE oo<o oo<o ov<o \n",
      "^ooo ^o<o ^v<> ovoo \n",
      "^ooo ^v<> ovo> ovoo \n",
      "^oo> ooo> ooo> EEEE \n"
     ]
    }
   ],
   "source": [
    "env = Ex4_1()\n",
    "action_meaning = ['^','v',\"<\",'>']\n",
    "theta = 0.001\n",
    "gamma = 0.9\n",
    "agent = PolicyIteration(env,theta,gamma)\n",
    "agent.policy_iteration()\n",
    "print_agent(agent, action_meaning, [], [0, 15])"
   ]
  }
 ],
 "metadata": {
  "kernelspec": {
   "display_name": "Python 3",
   "language": "python",
   "name": "python3"
  },
  "language_info": {
   "codemirror_mode": {
    "name": "ipython",
    "version": 3
   },
   "file_extension": ".py",
   "mimetype": "text/x-python",
   "name": "python",
   "nbconvert_exporter": "python",
   "pygments_lexer": "ipython3",
   "version": "3.9.13"
  },
  "orig_nbformat": 4
 },
 "nbformat": 4,
 "nbformat_minor": 2
}
