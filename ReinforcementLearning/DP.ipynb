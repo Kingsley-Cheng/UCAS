{
 "cells": [
  {
   "attachments": {},
   "cell_type": "markdown",
   "metadata": {},
   "source": [
    "## Cliff Walking\n",
    "### Environment Build"
   ]
  },
  {
   "cell_type": "code",
   "execution_count": 29,
   "metadata": {},
   "outputs": [],
   "source": [
    "import copy\n",
    "\n",
    "class CliffWalkingEnv:\n",
    "    \"\"\"\n",
    "    Cliff Walking Environment\n",
    "    \"\"\"\n",
    "    def __init__(self, ncol=12, nrow=4):\n",
    "        self.ncol = ncol # 定义网格世界的列\n",
    "        self.nrow = nrow # 定义网格世界的行\n",
    "        # 转移矩阵 P[state][action] = [(p, next_state, reward, done)] 包含下一个状态和奖励\n",
    "        self.P = self.createP()\n",
    "\n",
    "    def createP(self):\n",
    "        # 初始化\n",
    "        P = [[[] for j in range(4)] for i in range(self.ncol * self.nrow)]\n",
    "        # 4种动作，change[0]:上，change[1]：下，change[2]:左，change[3]：右。坐标原点（0,0）\n",
    "        # 定义在左上角\n",
    "        change = [[0, -1], [0, 1], [-1, 0], [1, 0]]\n",
    "        for i in range(self.nrow):\n",
    "            for j in range(self.ncol):\n",
    "                for a in range(4):\n",
    "                    # 位置在悬崖或者目标状态，因为无法继续交互，任何动作奖励都为0\n",
    "                    if i == self.nrow -1 and j > 0:\n",
    "                        P[i*self.ncol + j][a] = [(1, i*self.ncol + j, 0, True)]\n",
    "                        continue\n",
    "                    # 其他位置\n",
    "                    next_x = min(self.ncol - 1, max(0, j + change[a][0]))\n",
    "                    next_y = min(self.nrow - 1, max(0, i + change[a][1]))\n",
    "                    next_state = next_y * self.ncol + next_x\n",
    "                    reward = -1\n",
    "                    done = False\n",
    "                    # 下一个位置在终点或者是悬崖\n",
    "                    if next_y == self.nrow - 1 and next_x > 0:\n",
    "                        done = True\n",
    "                        if next_x != self.ncol - 1:\n",
    "                            reward = -100\n",
    "                    P[i * self.ncol + j][a] = [(1, next_state, reward, done)]\n",
    "        return P"
   ]
  },
  {
   "attachments": {},
   "cell_type": "markdown",
   "metadata": {},
   "source": [
    "### Policy Iteration"
   ]
  },
  {
   "cell_type": "code",
   "execution_count": 30,
   "metadata": {},
   "outputs": [
    {
     "name": "stdout",
     "output_type": "stream",
     "text": [
      "策论评估进行 60 轮后完成\n",
      "[-27.238559676619346, -28.510206246429455, -29.62885270244113, -30.305628122512452, -30.63180044115316, -30.71290352575707, -30.576247758044943, -30.147026390044594, -29.224052962725274, -27.478407211415796, -24.65095855211554, -21.452783239853783, -33.6318737150897, -36.893230087142776, -38.79777435746743, -39.68392452942374, -40.0493986760689, -40.13912693311535, -40.01645050280487, -39.597576201305145, -38.59325411177045, -36.330852853611376, -31.53565514170566, -23.347152140868065, -47.269744178720174, -58.588300742368254, -61.78662689369652, -62.77814358941198, -63.10031193173464, -63.175112719696, -63.09561179906289, -62.790108249415496, -61.93065649443827, -59.42067040315814, -51.38701026633216, -22.98702501042819, -66.15535964969234, 0.0, 0.0, 0.0, 0.0, 0.0, 0.0, 0.0, 0.0, 0.0, 0.0, 0.0]\n",
      "策略提升完成\n",
      "策论评估进行 72 轮后完成\n",
      "[-10.008749065266038, -10.008749065266038, -10.008749065266038, -10.008749065266038, -10.008749065266038, -10.005812617174692, -10.005812617174692, -10.005812617174692, -10.005812617174692, -10.005812617174692, -10.005812617174692, -10.005812617174692, -10.008749065266038, -10.008749065266038, -10.008749065266038, -10.008749065266038, -10.008749065266038, -10.005812617174692, -10.005812617174692, -10.005812617174692, -10.005812617174692, -10.005812617174692, -10.005812617174692, -10.005812617174692, -10.008749065266038, -10.008749065266038, -10.008749065266038, -10.008749065266038, -10.008749065266038, -10.005812617174692, -10.005812617174692, -10.005812617174692, -10.005812617174692, -10.005812617174692, -1.9, -1.0, -10.008749065266038, 0.0, 0.0, 0.0, 0.0, 0.0, 0.0, 0.0, 0.0, 0.0, 0.0, 0.0]\n",
      "策略提升完成\n",
      "策论评估进行 44 轮后完成\n",
      "[-9.934054231790151, -9.901649293544942, -9.825790004575584, -9.678233074350125, -9.404856226650503, -9.337859425627054, -9.167899324436947, -8.717613584681501, -7.912901828692194, -6.729047542613879, -5.429178598832938, -4.8165771572243425, -9.933848754913415, -9.897957318246227, -9.816488071135886, -9.657373707344325, -9.356880689020185, -9.28455189559715, -9.075273073135302, -8.499493331748285, -7.36263056597774, -5.3902805955705, -2.71, -1.9, -9.936858472081928, -9.891111266774832, -9.799673435633801, -9.622033234308116, -9.280348776707994, -9.199561443150987, -8.935043255655607, -8.173105126833942, -6.474024539035442, -2.71, -1.9, -1.0, -9.954367442966525, 0.0, 0.0, 0.0, 0.0, 0.0, 0.0, 0.0, 0.0, 0.0, 0.0, 0.0]\n",
      "策略提升完成\n",
      "策论评估进行 12 轮后完成\n",
      "[-7.7123207545039, -7.458134171671, -7.175704635190001, -6.861894039100001, -6.5132155990000005, -6.12579511, -5.6953279000000006, -5.217031, -4.68559, -4.0951, -3.439, -2.71, -7.458134171671, -7.175704635190001, -6.861894039100001, -6.5132155990000005, -6.12579511, -5.6953279000000006, -5.217031, -4.68559, -4.0951, -3.439, -2.71, -1.9, -7.175704635190001, -6.861894039100001, -6.5132155990000005, -6.12579511, -5.6953279000000006, -5.217031, -4.68559, -4.0951, -3.439, -2.71, -1.9, -1.0, -7.458134171671, 0.0, 0.0, 0.0, 0.0, 0.0, 0.0, 0.0, 0.0, 0.0, 0.0, 0.0]\n",
      "策略提升完成\n",
      "策论评估进行 1 轮后完成\n",
      "[-7.7123207545039, -7.458134171671, -7.175704635190001, -6.861894039100001, -6.5132155990000005, -6.12579511, -5.6953279000000006, -5.217031, -4.68559, -4.0951, -3.439, -2.71, -7.458134171671, -7.175704635190001, -6.861894039100001, -6.5132155990000005, -6.12579511, -5.6953279000000006, -5.217031, -4.68559, -4.0951, -3.439, -2.71, -1.9, -7.175704635190001, -6.861894039100001, -6.5132155990000005, -6.12579511, -5.6953279000000006, -5.217031, -4.68559, -4.0951, -3.439, -2.71, -1.9, -1.0, -7.458134171671, 0.0, 0.0, 0.0, 0.0, 0.0, 0.0, 0.0, 0.0, 0.0, 0.0, 0.0]\n",
      "策略提升完成\n",
      "状态价值：\n",
      "-7.712 -7.458 -7.176 -6.862 -6.513 -6.126 -5.695 -5.217 -4.686 -4.095 -3.439 -2.710 \n",
      "-7.458 -7.176 -6.862 -6.513 -6.126 -5.695 -5.217 -4.686 -4.095 -3.439 -2.710 -1.900 \n",
      "-7.176 -6.862 -6.513 -6.126 -5.695 -5.217 -4.686 -4.095 -3.439 -2.710 -1.900 -1.000 \n",
      "-7.458  0.000  0.000  0.000  0.000  0.000  0.000  0.000  0.000  0.000  0.000  0.000 \n",
      "策略：\n",
      "ovo> ovo> ovo> ovo> ovo> ovo> ovo> ovo> ovo> ovo> ovo> ovoo \n",
      "ovo> ovo> ovo> ovo> ovo> ovo> ovo> ovo> ovo> ovo> ovo> ovoo \n",
      "ooo> ooo> ooo> ooo> ooo> ooo> ooo> ooo> ooo> ooo> ooo> ovoo \n",
      "^ooo **** **** **** **** **** **** **** **** **** **** EEEE \n"
     ]
    }
   ],
   "source": [
    "class PolicyIteration:\n",
    "    \"\"\"\n",
    "    Algorithm: Policy Iteration\n",
    "    \"\"\"\n",
    "    def __init__(self, env, theta, gamma):\n",
    "        self.env = env\n",
    "        self.v = [0] * self.env.ncol * self.env.nrow # 初始化价值为 0 \n",
    "        self.pi = [[0.25, 0.25, 0.25, 0.25] for i in range(self.env.ncol * self.env.nrow)] # 初始化为均匀随机策略\n",
    "        self.theta = theta # 策略评估收敛阈值\n",
    "        self.gamma = gamma # 折扣因子\n",
    "\n",
    "    def policy_evaluation(self): # 策略评估\n",
    "        cnt = 1 # 计数器\n",
    "        while 1:\n",
    "            max_diff = 0\n",
    "            new_v = [0] * self.env.ncol * self.env.nrow\n",
    "            for s in range(self.env.ncol * self.env.nrow):\n",
    "                qsa_list = [] # 开始计算状态 s 下的所有 Q(s,a)价值\n",
    "                for a in range(4):\n",
    "                    qsa=0\n",
    "                    for res in self.env.P[s][a]:\n",
    "                        p, next_state, r, done = res\n",
    "                        qsa += p * (r + self.gamma * self.v[next_state] * (1 - done))\n",
    "                    qsa_list.append(self.pi[s][a] * qsa)\n",
    "                new_v[s] = sum(qsa_list) # 状态价值函数和动作价值函数之间的关系\n",
    "                max_diff = max(max_diff, abs(new_v[s] - self.v[s]))\n",
    "            self.v = new_v\n",
    "            if max_diff < self.theta:\n",
    "                break\n",
    "            cnt += 1\n",
    "        print(\"策论评估进行 %d 轮后完成\"% cnt)\n",
    "        print(self.v)\n",
    "    \n",
    "    def policy_improvement(self): # 策略提升\n",
    "        for s in range(self.env.nrow * self.env.ncol):\n",
    "            qsa_list = []\n",
    "            for a in range(4):\n",
    "                qsa = 0\n",
    "                for res in self.env.P[s][a]:\n",
    "                    p, next_state, r, done = res\n",
    "                    qsa += p * (r + self.gamma * self.v[next_state] * (1 - done))\n",
    "                qsa_list.append(qsa)\n",
    "            maxq = max(qsa_list)\n",
    "            cntq = qsa_list.count(maxq) # 计算有几个动作得到了最大的 Q 值\n",
    "            # 让这些动作均分概率\n",
    "            self.pi[s] = [1/cntq if q == maxq else 0 for q in qsa_list]\n",
    "        print(\"策略提升完成\")\n",
    "        return self.pi\n",
    "    \n",
    "    def policy_iteration(self): # 策略迭代\n",
    "        while 1:\n",
    "            self.policy_evaluation()\n",
    "            old_pi = copy.deepcopy(self.pi) # 将列表进行深拷贝，方便接下来进行比较\n",
    "            new_pi = self.policy_improvement()\n",
    "            if old_pi == new_pi:\n",
    "                break\n",
    "\n",
    "\n",
    "def print_agent(agent, action_meaning, disaster=[], end=[]):\n",
    "    \"\"\"\n",
    "    help fuction:\n",
    "    打印当前策略在每个状态下的价值以及智能体采取的动作。\n",
    "    \"\"\"\n",
    "    print(\"状态价值：\")\n",
    "    for i in range(agent.env.nrow):\n",
    "        for j in range(agent.env.ncol):\n",
    "            print('%6.6s' % ('%.3f' % agent.v[i*agent.env.ncol + j]), end=' ')\n",
    "        print()\n",
    "    \n",
    "    print(\"策略：\")\n",
    "    for i in range(agent.env.nrow):\n",
    "        for j in range(agent.env.ncol):\n",
    "            if (i*agent.env.ncol+ j) in disaster:\n",
    "                print('****', end=\" \")\n",
    "            elif (i*agent.env.ncol + j) in end:\n",
    "                print(\"EEEE\", end=\" \")\n",
    "            else:\n",
    "                a = agent.pi[i*agent.env.ncol + j]\n",
    "                pi_str = \"\"\n",
    "                for k in range(len(action_meaning)):\n",
    "                    pi_str += action_meaning[k] if a[k] > 0 else 'o'\n",
    "                print(pi_str, end=\" \")\n",
    "        print()\n",
    "\n",
    "env = CliffWalkingEnv()\n",
    "action_meaning = ['^','v',\"<\",'>']\n",
    "theta = 0.001\n",
    "gamma = 0.9\n",
    "agent = PolicyIteration(env,theta,gamma)\n",
    "agent.policy_iteration()\n",
    "print_agent(agent, action_meaning, list(range(37,47)), [47])"
   ]
  },
  {
   "attachments": {},
   "cell_type": "markdown",
   "metadata": {},
   "source": [
    "### Value Iteration"
   ]
  },
  {
   "cell_type": "code",
   "execution_count": 31,
   "metadata": {},
   "outputs": [
    {
     "name": "stdout",
     "output_type": "stream",
     "text": [
      "价值迭代一共进行 14 轮\n",
      "[-7.7123207545039, -7.458134171671, -7.175704635190001, -6.861894039100001, -6.5132155990000005, -6.12579511, -5.6953279000000006, -5.217031, -4.68559, -4.0951, -3.439, -2.71, -7.458134171671, -7.175704635190001, -6.861894039100001, -6.5132155990000005, -6.12579511, -5.6953279000000006, -5.217031, -4.68559, -4.0951, -3.439, -2.71, -1.9, -7.175704635190001, -6.861894039100001, -6.5132155990000005, -6.12579511, -5.6953279000000006, -5.217031, -4.68559, -4.0951, -3.439, -2.71, -1.9, -1.0, -7.458134171671, 0.0, 0.0, 0.0, 0.0, 0.0, 0.0, 0.0, 0.0, 0.0, 0.0, 0.0]\n",
      "状态价值：\n",
      "-7.712 -7.458 -7.176 -6.862 -6.513 -6.126 -5.695 -5.217 -4.686 -4.095 -3.439 -2.710 \n",
      "-7.458 -7.176 -6.862 -6.513 -6.126 -5.695 -5.217 -4.686 -4.095 -3.439 -2.710 -1.900 \n",
      "-7.176 -6.862 -6.513 -6.126 -5.695 -5.217 -4.686 -4.095 -3.439 -2.710 -1.900 -1.000 \n",
      "-7.458  0.000  0.000  0.000  0.000  0.000  0.000  0.000  0.000  0.000  0.000  0.000 \n",
      "策略：\n",
      "ovo> ovo> ovo> ovo> ovo> ovo> ovo> ovo> ovo> ovo> ovo> ovoo \n",
      "ovo> ovo> ovo> ovo> ovo> ovo> ovo> ovo> ovo> ovo> ovo> ovoo \n",
      "ooo> ooo> ooo> ooo> ooo> ooo> ooo> ooo> ooo> ooo> ooo> ovoo \n",
      "^ooo **** **** **** **** **** **** **** **** **** **** EEEE \n"
     ]
    }
   ],
   "source": [
    "class ValueIteration:\n",
    "    \"\"\"\n",
    "    Algorithm: Value Iteration\n",
    "    \"\"\"\n",
    "    def __init__(self, env, theta, gamma):\n",
    "        self.env = env\n",
    "        self.v = [0] * self.env.ncol * self.env.nrow # 初始化价值为 0\n",
    "        self.theta = theta # 价值收敛阈值\n",
    "        self.gamma = gamma # 折扣因子\n",
    "        self.pi = [None for i in range(self.env.ncol * self.env.nrow)] # 价值迭代结束后得到的策略\n",
    "\n",
    "    def value_iteration(self):\n",
    "        cnt = 0\n",
    "        while 1:\n",
    "            max_diff = 0\n",
    "            new_v = [0] * self.env.ncol * self.env.nrow\n",
    "            for s in range(self.env.ncol * self.env.nrow):\n",
    "                qsa_list = [] # 开始计算状态 s 下的所有 Q(s,a)价值\n",
    "                for a in range(4):\n",
    "                    qsa = 0\n",
    "                    for res in self.env.P[s][a]:\n",
    "                        p, next_state, r, done = res\n",
    "                        qsa += p*(r + self.gamma * self.v[next_state]* (1 - done))\n",
    "                    qsa_list.append(qsa)\n",
    "                new_v[s] = max(qsa_list)\n",
    "                max_diff = max(max_diff, abs(new_v[s]-self.v[s]))\n",
    "            self.v = new_v\n",
    "            if max_diff < self.theta:\n",
    "                break\n",
    "            cnt += 1\n",
    "        print(\"价值迭代一共进行 %d 轮\" % cnt)\n",
    "        self.get_policy()\n",
    "    \n",
    "    # 根据价值函数导出一个贪婪策略\n",
    "    def get_policy(self):\n",
    "        for s in range(self.env.ncol * self.env.nrow):\n",
    "            qsa_list = []\n",
    "            for a in range(4):\n",
    "                qsa = 0\n",
    "                for res in self.env.P[s][a]:\n",
    "                    p, next_state, r, done = res\n",
    "                    qsa += p*(r + self.gamma * self.v[next_state]* (1 - done))\n",
    "                qsa_list.append(qsa)\n",
    "            maxq = max(qsa_list)\n",
    "            cntq = qsa_list.count(maxq)\n",
    "            self.pi[s] = [1/cntq if q == maxq else 0 for q in qsa_list]\n",
    "                        \n",
    "env = CliffWalkingEnv()\n",
    "action_meaning = ['^','v',\"<\",'>']\n",
    "theta = 0.001\n",
    "gamma = 0.9\n",
    "agent = ValueIteration(env,theta,gamma)\n",
    "agent.value_iteration()\n",
    "print_agent(agent, action_meaning, list(range(37,47)), [47])"
   ]
  },
  {
   "attachments": {},
   "cell_type": "markdown",
   "metadata": {},
   "source": [
    "## Frozen Lake\n",
    "### Environment Build"
   ]
  },
  {
   "cell_type": "code",
   "execution_count": 32,
   "metadata": {},
   "outputs": [],
   "source": [
    "import gym\n",
    "env = gym.make(\"FrozenLake-v1\") # 创建环境\n",
    "env = env.unwrapped # 解封装才能访问状态转移矩阵\n",
    "env.render() # 环境渲染"
   ]
  },
  {
   "cell_type": "code",
   "execution_count": 33,
   "metadata": {},
   "outputs": [
    {
     "name": "stdout",
     "output_type": "stream",
     "text": [
      "冰洞的索引： {11, 12, 5, 7}\n",
      "目标的索引： {15}\n"
     ]
    }
   ],
   "source": [
    "holes = set()\n",
    "ends = set()\n",
    "for s in env.P:\n",
    "    for a in env.P[s]:\n",
    "        for s_ in env.P[s][a]:\n",
    "            if s_[2] == 1.0: # 获得奖励为1，代表是目标\n",
    "                ends.add(s_[1])\n",
    "            if s_[3] == True:\n",
    "                holes.add(s_[1])\n",
    "holes = holes - ends\n",
    "print(\"冰洞的索引：\", holes)\n",
    "print(\"目标的索引：\", ends)"
   ]
  },
  {
   "cell_type": "code",
   "execution_count": 34,
   "metadata": {},
   "outputs": [
    {
     "name": "stdout",
     "output_type": "stream",
     "text": [
      "[(0.3333333333333333, 10, 0.0, False), (0.3333333333333333, 13, 0.0, False), (0.3333333333333333, 14, 0.0, False)]\n",
      "[(0.3333333333333333, 13, 0.0, False), (0.3333333333333333, 14, 0.0, False), (0.3333333333333333, 15, 1.0, True)]\n",
      "[(0.3333333333333333, 14, 0.0, False), (0.3333333333333333, 15, 1.0, True), (0.3333333333333333, 10, 0.0, False)]\n",
      "[(0.3333333333333333, 15, 1.0, True), (0.3333333333333333, 10, 0.0, False), (0.3333333333333333, 13, 0.0, False)]\n"
     ]
    }
   ],
   "source": [
    "for a in env.P[14]: # 查看目标左边一格的状态转移信息\n",
    "    print(env.P[14][a])"
   ]
  },
  {
   "attachments": {},
   "cell_type": "markdown",
   "metadata": {},
   "source": [
    "### Policy Iteration"
   ]
  },
  {
   "cell_type": "code",
   "execution_count": 35,
   "metadata": {},
   "outputs": [
    {
     "name": "stdout",
     "output_type": "stream",
     "text": [
      "策论评估进行 25 轮后完成\n",
      "[0.00444902630020078, 0.004202515082223095, 0.010049027274031766, 0.0041046187710215044, 0.006705089770241343, 0.0, 0.026326459459953325, 0.0, 0.01866569208458738, 0.05760016156109084, 0.10696591783020536, 0.0, 0.0, 0.13037747186484136, 0.3914848363371555, 0.0]\n",
      "策略提升完成\n",
      "策论评估进行 58 轮后完成\n",
      "[0.06882358543345177, 0.06135752557874739, 0.07436816193032114, 0.05576157533078255, 0.09179332520777392, 0.0, 0.11218582405176862, 0.0, 0.14538679668310456, 0.2474635485038229, 0.29959407556204687, 0.0, 0.0, 0.3799117892450865, 0.6390075188838532, 0.0]\n",
      "策略提升完成\n",
      "状态价值：\n",
      " 0.069  0.061  0.074  0.056 \n",
      " 0.092  0.000  0.112  0.000 \n",
      " 0.145  0.247  0.300  0.000 \n",
      " 0.000  0.380  0.639  0.000 \n",
      "策略：\n",
      "<ooo ooo^ <ooo ooo^ \n",
      "<ooo **** <o>o **** \n",
      "ooo^ ovoo <ooo **** \n",
      "**** oo>o ovoo EEEE \n"
     ]
    }
   ],
   "source": [
    "action_meaning = ['<',\"v\",\">\",\"^\"]\n",
    "theta = 1e-5\n",
    "gamma = 0.9\n",
    "agent = PolicyIteration(env, theta, gamma)\n",
    "agent.policy_iteration()\n",
    "print_agent(agent, action_meaning, [5,7,11,12], [15])"
   ]
  },
  {
   "attachments": {},
   "cell_type": "markdown",
   "metadata": {},
   "source": [
    "### Value Iteration"
   ]
  },
  {
   "cell_type": "code",
   "execution_count": 36,
   "metadata": {},
   "outputs": [
    {
     "name": "stdout",
     "output_type": "stream",
     "text": [
      "价值迭代一共进行 60 轮\n",
      "[0.06882785168244751, 0.06136114051594982, 0.07437079805287419, 0.05576447370854035, 0.09179720475646835, 0.0, 0.11218724255070185, 0.0, 0.1453899377624117, 0.24746566611902698, 0.2995955663221989, 0.0, 0.0, 0.3799133179330759, 0.639008319658704, 0.0]\n",
      "状态价值：\n",
      " 0.069  0.061  0.074  0.056 \n",
      " 0.092  0.000  0.112  0.000 \n",
      " 0.145  0.247  0.300  0.000 \n",
      " 0.000  0.380  0.639  0.000 \n",
      "策略：\n",
      "<ooo ooo^ <ooo ooo^ \n",
      "<ooo **** <o>o **** \n",
      "ooo^ ovoo <ooo **** \n",
      "**** oo>o ovoo EEEE \n"
     ]
    }
   ],
   "source": [
    "action_meaning = ['<',\"v\",\">\",\"^\"]\n",
    "theta = 1e-5\n",
    "gamma = 0.9\n",
    "agent = ValueIteration(env, theta, gamma)\n",
    "agent.value_iteration()\n",
    "print_agent(agent, action_meaning, [5,7,11,12], [15])"
   ]
  },
  {
   "attachments": {},
   "cell_type": "markdown",
   "metadata": {},
   "source": [
    "## Grid Word(4-1)"
   ]
  },
  {
   "cell_type": "code",
   "execution_count": 37,
   "metadata": {},
   "outputs": [],
   "source": [
    "class GridWord:\n",
    "    def __init__(self, ncol = 4, nrow =4):\n",
    "        self.ncol = ncol\n",
    "        self.nrow = nrow\n",
    "        self.P = self.createP()\n",
    "\n",
    "    def createP(self):\n",
    "        # 初始化\n",
    "        P = [[[] for j in range(4)] for i in range(self.ncol * self.nrow)]\n",
    "        # 4种动作，change[0]:上，change[1]：下，change[2]:左，change[3]：右。坐标原点（0,0）\n",
    "        # 定义在左上角\n",
    "        change = [[0, -1], [0, 1], [-1, 0], [1, 0]]\n",
    "        for i in range(self.nrow):\n",
    "            for j in range(self.ncol):\n",
    "                for a in range(4):\n",
    "                    if i!=0 or j!= 0:\n",
    "                    # 其他位置\n",
    "                        next_x = j + change[a][0]\n",
    "                        next_y = i + change[a][1]\n",
    "                        if next_x<0 or next_x>self.ncol-1:\n",
    "                            next_x = j\n",
    "                        if next_y<0 or next_y>self.nrow-1:\n",
    "                            next_y = i\n",
    "                        next_state = next_y * self.ncol + next_x\n",
    "                        reward = -1\n",
    "                        done = False\n",
    "                        P[i * self.ncol + j][a] = [(1, next_state, reward, done)]\n",
    "                        # 位置在目标状态，因为无法继续交互，任何动作奖励都为0\n",
    "                    P[self.ncol * self.nrow -1][a] = [(1, self.ncol * self.nrow -1, 0, True)]\n",
    "                    P[0][a] = [(1, 0, 0, True)]\n",
    "        return P"
   ]
  },
  {
   "cell_type": "code",
   "execution_count": 38,
   "metadata": {},
   "outputs": [
    {
     "name": "stdout",
     "output_type": "stream",
     "text": [
      "策论评估进行 131 轮后完成\n",
      "[0.0, -13.989457715062407, -19.98437823213207, -21.982518317902986, -13.989457715062407, -17.986238146361153, -19.98448273123845, -19.98437823213207, -19.984378232132066, -19.98448273123845, -17.986238146361153, -13.989457715062407, -21.982518317902983, -19.984378232132066, -13.989457715062407, 0.0]\n",
      "策略提升完成\n",
      "策论评估进行 4 轮后完成\n",
      "[0.0, -1.0, -2.0, -3.0, -1.0, -2.0, -3.0, -2.0, -2.0, -3.0, -2.0, -1.0, -3.0, -2.0, -1.0, 0.0]\n",
      "策略提升完成\n",
      "策论评估进行 1 轮后完成\n",
      "[0.0, -1.0, -2.0, -3.0, -1.0, -2.0, -3.0, -2.0, -2.0, -3.0, -2.0, -1.0, -3.0, -2.0, -1.0, 0.0]\n",
      "策略提升完成\n",
      "状态价值：\n",
      " 0.000 -1.000 -2.000 -3.000 \n",
      "-1.000 -2.000 -3.000 -2.000 \n",
      "-2.000 -3.000 -2.000 -1.000 \n",
      "-3.000 -2.000 -1.000  0.000 \n",
      "策略：\n",
      "EEEE oo<o oo<o ov<o \n",
      "^ooo ^o<o ^v<> ovoo \n",
      "^ooo ^v<> ovo> ovoo \n",
      "^oo> ooo> ooo> EEEE \n"
     ]
    }
   ],
   "source": [
    "env = GridWord()\n",
    "action_meaning = ['^','v',\"<\",'>']\n",
    "theta = 0.001\n",
    "gamma = 1\n",
    "agent = PolicyIteration(env,theta,gamma)\n",
    "agent.policy_iteration()\n",
    "print_agent(agent, action_meaning, [], [0, 15])"
   ]
  },
  {
   "cell_type": "code",
   "execution_count": 39,
   "metadata": {},
   "outputs": [
    {
     "name": "stdout",
     "output_type": "stream",
     "text": [
      "价值迭代一共进行 3 轮\n",
      "[0, -1, -2, -3, -1, -2, -3, -2, -2, -3, -2, -1, -3, -2, -1, 0]\n",
      "状态价值：\n",
      " 0.000 -1.000 -2.000 -3.000 \n",
      "-1.000 -2.000 -3.000 -2.000 \n",
      "-2.000 -3.000 -2.000 -1.000 \n",
      "-3.000 -2.000 -1.000  0.000 \n",
      "策略：\n",
      "EEEE oo<o oo<o ov<o \n",
      "^ooo ^o<o ^v<> ovoo \n",
      "^ooo ^v<> ovo> ovoo \n",
      "^oo> ooo> ooo> EEEE \n"
     ]
    }
   ],
   "source": [
    "env = Ex4_1()\n",
    "action_meaning = ['^','v',\"<\",'>']\n",
    "theta = 0.001\n",
    "gamma = 1\n",
    "agent = ValueIteration(env,theta,gamma)\n",
    "agent.value_iteration()\n",
    "print_agent(agent, action_meaning, [], [0, 15])"
   ]
  }
 ],
 "metadata": {
  "kernelspec": {
   "display_name": "Python 3",
   "language": "python",
   "name": "python3"
  },
  "language_info": {
   "codemirror_mode": {
    "name": "ipython",
    "version": 3
   },
   "file_extension": ".py",
   "mimetype": "text/x-python",
   "name": "python",
   "nbconvert_exporter": "python",
   "pygments_lexer": "ipython3",
   "version": "3.9.13"
  },
  "orig_nbformat": 4
 },
 "nbformat": 4,
 "nbformat_minor": 2
}
