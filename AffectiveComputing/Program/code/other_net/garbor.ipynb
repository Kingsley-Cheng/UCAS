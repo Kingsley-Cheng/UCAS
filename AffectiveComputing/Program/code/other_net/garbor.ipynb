{
 "cells": [
  {
   "cell_type": "code",
   "execution_count": 9,
   "metadata": {},
   "outputs": [],
   "source": [
    "import torchvision\n",
    "import matplotlib.pyplot as plt\n",
    "from tqdm import tqdm\n",
    "import cv2\n",
    "import numpy as np\n",
    "from skimage import filters\n",
    "from torchvision import transforms\n",
    "\n",
    "classes = ('anger', 'digust', 'fear', 'happy','sadness','surprise', 'normal')\n",
    "\n",
    "path_train = './data/train/'\n",
    "path_valid = './data/valid/'\n",
    "\n",
    "transforms_train = transforms.Compose([\n",
    "    transforms.Grayscale(num_output_channels=1),\n",
    "])\n",
    "\n",
    "transforms_vaild = transforms.Compose([\n",
    "    transforms.Grayscale(num_output_channels=1),\n",
    "])\n",
    "\n",
    "data_train = torchvision.datasets.ImageFolder(root=path_train, transform=transforms_train)\n",
    "data_valid = torchvision.datasets.ImageFolder(root=path_valid, transform=transforms_vaild)"
   ]
  },
  {
   "cell_type": "code",
   "execution_count": 8,
   "metadata": {},
   "outputs": [
    {
     "data": {
      "text/plain": [
       "0"
      ]
     },
     "execution_count": 8,
     "metadata": {},
     "output_type": "execute_result"
    }
   ],
   "source": [
    "data_train[2000][1]"
   ]
  },
  {
   "cell_type": "code",
   "execution_count": 95,
   "metadata": {},
   "outputs": [],
   "source": [
    "def feature(img,frequency):\n",
    "    img = cv2.cvtColor(np.array(img), cv2.COLOR_RGB2BGR)\n",
    "    img_gray = cv2.cvtColor(img, cv2.COLOR_BGR2GRAY)\n",
    "    real, imag = filters.gabor(img_gray, frequency=frequency, theta=0/180*np.pi)\n",
    "    img_mod = np.sqrt(real.astype(float)**2 + imag.astype(float)**2)\n",
    "    newimg = cv2.resize(img_mod, (0,0), fx=1/4, fy =1/4, interpolation=cv2.INTER_AREA)\n",
    "    tempfea = newimg.flatten()\n",
    "    tmean = np.mean(tempfea)\n",
    "    tstd = (np.std(tempfea)+1e-6)\n",
    "    newfea1 = (tempfea - tmean) / tstd\n",
    "    real, imag = filters.gabor(img_gray, frequency=frequency, theta=30/180*np.pi)\n",
    "    img_mod = np.sqrt(real.astype(float)**2 + imag.astype(float)**2)\n",
    "    newimg = cv2.resize(img_mod, (0,0), fx=1/4, fy =1/4, interpolation=cv2.INTER_AREA)\n",
    "    tempfea = newimg.flatten()\n",
    "    tmean = np.mean(tempfea)\n",
    "    tstd = (np.std(tempfea)+1e-6)\n",
    "    newfea2 = (tempfea - tmean) / tstd\n",
    "    real, imag = filters.gabor(img_gray, frequency=frequency, theta=60/180*np.pi)\n",
    "    img_mod = np.sqrt(real.astype(float)**2 + imag.astype(float)**2)\n",
    "    newimg = cv2.resize(img_mod, (0,0), fx=1/4, fy =1/4, interpolation=cv2.INTER_AREA)\n",
    "    tempfea = newimg.flatten()\n",
    "    tmean = np.mean(tempfea)\n",
    "    tstd = (np.std(tempfea)+1e-6)\n",
    "    newfea3 = (tempfea - tmean) / tstd\n",
    "    real, imag = filters.gabor(img_gray, frequency=frequency, theta=90/180*np.pi)\n",
    "    img_mod = np.sqrt(real.astype(float)**2 + imag.astype(float)**2)\n",
    "    newimg = cv2.resize(img_mod, (0,0), fx=1/4, fy =1/4, interpolation=cv2.INTER_AREA)\n",
    "    tempfea = newimg.flatten()\n",
    "    tmean = np.mean(tempfea)\n",
    "    tstd = (np.std(tempfea)+1e-6)\n",
    "    newfea4 = (tempfea - tmean) / tstd\n",
    "    real, imag = filters.gabor(img_gray, frequency=frequency, theta=120/180*np.pi)\n",
    "    img_mod = np.sqrt(real.astype(float)**2 + imag.astype(float)**2)\n",
    "    newimg = cv2.resize(img_mod, (0,0), fx=1/4, fy =1/4, interpolation=cv2.INTER_AREA)\n",
    "    tempfea = newimg.flatten()\n",
    "    tmean = np.mean(tempfea)\n",
    "    tstd = (np.std(tempfea)+1e-6)\n",
    "    newfea5 = (tempfea - tmean) / tstd\n",
    "    real, imag = filters.gabor(img_gray, frequency=frequency, theta=150/180*np.pi)\n",
    "    img_mod = np.sqrt(real.astype(float)**2 + imag.astype(float)**2)\n",
    "    newimg = cv2.resize(img_mod, (0,0), fx=1/4, fy =1/4, interpolation=cv2.INTER_AREA)\n",
    "    tempfea = newimg.flatten()\n",
    "    tmean = np.mean(tempfea)\n",
    "    tstd = (np.std(tempfea)+1e-6)\n",
    "    newfea6 = (tempfea - tmean) / tstd\n",
    "    newfea = np.hstack([newfea1, newfea2, newfea3, newfea4, newfea5, newfea6])\n",
    "    return newfea\n",
    "\n",
    "train_data, train_label = [],[]\n",
    "valid_data, valid_label = [],[]\n",
    "for i in range(len(data_train)):\n",
    "    img = data_train[i][0]\n",
    "    train_label.append(data_train[i][1])\n",
    "    train_data.append(feature(img,0.5))\n",
    "\n",
    "for i in range(len(data_valid)):\n",
    "    img = data_valid[i][0]\n",
    "    valid_label.append(data_valid[i][1])\n",
    "    valid_data.append(feature(img,0.5))"
   ]
  },
  {
   "cell_type": "code",
   "execution_count": 96,
   "metadata": {},
   "outputs": [
    {
     "data": {
      "text/plain": [
       "(864,)"
      ]
     },
     "execution_count": 96,
     "metadata": {},
     "output_type": "execute_result"
    }
   ],
   "source": [
    "train_data[1].shape"
   ]
  },
  {
   "cell_type": "code",
   "execution_count": 97,
   "metadata": {},
   "outputs": [],
   "source": [
    "from sklearn.decomposition import PCA\n",
    "pca = PCA(100)\n",
    "new_train_data = pca.fit_transform(train_data)\n",
    "new_valid_data = pca.fit_transform(valid_data)"
   ]
  },
  {
   "cell_type": "code",
   "execution_count": 98,
   "metadata": {},
   "outputs": [],
   "source": [
    "from sklearn.ensemble import AdaBoostClassifier\n",
    "clf = AdaBoostClassifier()\n",
    "clf.fit(new_train_data, train_label)\n",
    "prediction = clf.predict(new_valid_data)"
   ]
  },
  {
   "cell_type": "code",
   "execution_count": 99,
   "metadata": {},
   "outputs": [
    {
     "name": "stdout",
     "output_type": "stream",
     "text": [
      "0.27291724714405124\n",
      "              precision    recall  f1-score   support\n",
      "\n",
      "           0       0.17      0.09      0.12       958\n",
      "           1       0.08      0.05      0.06       111\n",
      "           2       0.19      0.08      0.12      1024\n",
      "           3       0.33      0.56      0.42      1774\n",
      "           4       0.27      0.24      0.25      1247\n",
      "           5       0.18      0.18      0.18       831\n",
      "           6       0.28      0.28      0.28      1233\n",
      "\n",
      "    accuracy                           0.27      7178\n",
      "   macro avg       0.21      0.21      0.20      7178\n",
      "weighted avg       0.25      0.27      0.25      7178\n",
      "\n"
     ]
    }
   ],
   "source": [
    "total = len(prediction)\n",
    "correct = sum(prediction == valid_label)\n",
    "accuracy = correct / total\n",
    "print(accuracy)\n",
    "\n",
    "from sklearn.metrics import classification_report\n",
    "print(classification_report(valid_label , prediction))"
   ]
  }
 ],
 "metadata": {
  "kernelspec": {
   "display_name": "Python 3",
   "language": "python",
   "name": "python3"
  },
  "language_info": {
   "codemirror_mode": {
    "name": "ipython",
    "version": 3
   },
   "file_extension": ".py",
   "mimetype": "text/x-python",
   "name": "python",
   "nbconvert_exporter": "python",
   "pygments_lexer": "ipython3",
   "version": "3.9.13"
  },
  "orig_nbformat": 4
 },
 "nbformat": 4,
 "nbformat_minor": 2
}
