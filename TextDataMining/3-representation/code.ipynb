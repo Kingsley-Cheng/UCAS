{
 "cells": [
  {
   "attachments": {},
   "cell_type": "markdown",
   "metadata": {},
   "source": [
    "## 读取数据集"
   ]
  },
  {
   "cell_type": "code",
   "execution_count": 2,
   "metadata": {},
   "outputs": [
    {
     "name": "stdout",
     "output_type": "stream",
     "text": [
      "# 文本总行数: 5184\n",
      " His soul swooned slowly as he heard the snow falling faintly through the universe and faintly falling like the descent of their last end upon all the living and the dead\n"
     ]
    }
   ],
   "source": [
    "import re\n",
    "import collections\n",
    "def read_book():\n",
    "    with open(\"book.txt\",'r') as f:\n",
    "        lines = f.read().split(\".\")\n",
    "        return [re.sub('[^A-Za-z]+', ' ', line) for line in lines]\n",
    "\n",
    "lines = read_book()[1:-1]\n",
    "print(f'# 文本总行数: {len(lines)}')\n",
    "print(lines[-1])\n"
   ]
  },
  {
   "attachments": {},
   "cell_type": "markdown",
   "metadata": {},
   "source": [
    "## TF-IDF"
   ]
  },
  {
   "cell_type": "code",
   "execution_count": 3,
   "metadata": {},
   "outputs": [
    {
     "name": "stdout",
     "output_type": "stream",
     "text": [
      "their:\n",
      "\n",
      "tf:  0.0019930106825200846\n",
      "\n",
      "idf:  3.817133789637615\n",
      "\n",
      "tf-idf:  0.00760758841935614\n"
     ]
    }
   ],
   "source": [
    "import math\n",
    "def TFIDF(lines):\n",
    "    tf_idf = {}\n",
    "    tf_dic = {}\n",
    "    idf_dic = {}\n",
    "    N = len(lines)\n",
    "    words = [word for line in lines for word in line.split()]\n",
    "    frequency = collections.Counter(words)\n",
    "    for word,freq in frequency.items():\n",
    "        tf = math.log(freq/len(words)+1)\n",
    "        tf_dic[word] = tf\n",
    "        idf = 0\n",
    "        for line in lines:\n",
    "            if word in line:\n",
    "                idf+= 1\n",
    "        idf = math.log(N/idf)\n",
    "        idf_dic[word] = idf\n",
    "        tf_idf[word] = tf*idf\n",
    "    return tf_dic,idf_dic,tf_idf                \n",
    "\n",
    "tf,idf,tf_idf = TFIDF(lines)\n",
    "print(\"their:\")\n",
    "print(\"\\ntf: \", tf['their'])\n",
    "print(\"\\nidf: \",idf['their'])\n",
    "print(\"\\ntf-idf: \",tf_idf['their'])"
   ]
  },
  {
   "cell_type": "code",
   "execution_count": 4,
   "metadata": {},
   "outputs": [
    {
     "name": "stdout",
     "output_type": "stream",
     "text": [
      "their:\n",
      "\n",
      "tf:  0.0019949980483714744\n",
      "\n",
      "idf:  3.834833366737016\n",
      "\n",
      "tf-idf:  0.007650485082470158\n"
     ]
    }
   ],
   "source": [
    "## 使用 nltk 计算 tf-idf\n",
    "from nltk.text import TextCollection\n",
    "words = [line.split() for line in lines]\n",
    "corpus = TextCollection(words)\n",
    "tf_idf = corpus.tf_idf('their',corpus)\n",
    "tf = corpus.tf('their',corpus)\n",
    "idf = corpus.idf('their')\n",
    "print(\"their:\")\n",
    "print(\"\\ntf: \", tf)\n",
    "print(\"\\nidf: \",idf)\n",
    "print(\"\\ntf-idf: \",tf_idf)"
   ]
  },
  {
   "attachments": {},
   "cell_type": "markdown",
   "metadata": {},
   "source": [
    "## FFNNLM（前馈神经网络语言模型）\n",
    "### 构建词表"
   ]
  },
  {
   "cell_type": "code",
   "execution_count": 5,
   "metadata": {},
   "outputs": [],
   "source": [
    "def count_corpus(tokens):\n",
    "    if len(tokens) == 0 or isinstance(tokens[0], list):\n",
    "        tokens = [token for line in tokens for token in line]\n",
    "    return collections.Counter(tokens)\n",
    "\n",
    "\n",
    "class Vocab:\n",
    "    def __init__(self,tokens=None, min_freq=0, reversed_tokens=None):\n",
    "        if tokens is None:\n",
    "            tokens = []\n",
    "        if reversed_tokens is None:\n",
    "            reversed_tokens = []\n",
    "        # 按出现频率排序\n",
    "        counter = count_corpus(tokens)\n",
    "        self._token_freqs = sorted(counter.items(),key= lambda x:x[1], reverse=True)\n",
    "        # 未知词元的索引为0\n",
    "        self.idx_to_token = ['<unk>'] + reversed_tokens\n",
    "        self.token_to_idx = {tokens:idx for idx,tokens in enumerate(self.idx_to_token)}\n",
    "\n",
    "        for token, freq in self._token_freqs:\n",
    "            if freq < min_freq:\n",
    "                break\n",
    "            if token not in self.token_to_idx:\n",
    "                self.idx_to_token.append(token)\n",
    "                self.token_to_idx[token] = len(self.idx_to_token)-1\n",
    "    \n",
    "    def __len__(self):\n",
    "        return len(self.idx_to_token)\n",
    "    \n",
    "    def __getitem__(self, tokens):\n",
    "        if not isinstance(tokens, (list,tuple)):\n",
    "            return self.token_to_idx.get(tokens, self.unk)\n",
    "        return [self.__getitem__(token) for token in tokens]\n",
    "    \n",
    "    def to_tokens(self, indices):\n",
    "        if not isinstance(indices, (list,tuple)):\n",
    "            return self.idx_to_token[indices]\n",
    "        return [self.idx_to_token[index] for index in indices]\n",
    "    \n",
    "    @property\n",
    "    def unk(self):\n",
    "        return 0\n",
    "    \n",
    "    @property\n",
    "    def token_freqs(self):\n",
    "        return self._token_freqs"
   ]
  },
  {
   "cell_type": "code",
   "execution_count": 6,
   "metadata": {},
   "outputs": [
    {
     "name": "stdout",
     "output_type": "stream",
     "text": [
      "[('<unk>', 0), ('<bos>', 1), ('<eos>', 2), ('<pad>', 3), ('the', 4), ('and', 5), ('of', 6), ('to', 7), ('a', 8), ('was', 9)]\n",
      "['<unk>', '<bos>', '<eos>', '<pad>', 'the', 'and', 'of', 'to', 'a', 'was']\n",
      "7680\n"
     ]
    }
   ],
   "source": [
    "BOS_TOKEN = \"<bos>\"\n",
    "EOS_TOKEN = \"<eos>\"\n",
    "PAD_TOKEN = '<pad>'\n",
    "\n",
    "vocab = Vocab(words, reversed_tokens=[BOS_TOKEN,EOS_TOKEN,PAD_TOKEN])\n",
    "print(list(vocab.token_to_idx.items())[:10])\n",
    "print(vocab.idx_to_token[:10])\n",
    "print(len(vocab))"
   ]
  },
  {
   "cell_type": "code",
   "execution_count": 7,
   "metadata": {},
   "outputs": [
    {
     "data": {
      "text/plain": [
       "1"
      ]
     },
     "execution_count": 7,
     "metadata": {},
     "output_type": "execute_result"
    }
   ],
   "source": [
    "vocab.token_to_idx[BOS_TOKEN]"
   ]
  },
  {
   "attachments": {},
   "cell_type": "markdown",
   "metadata": {},
   "source": [
    "### 构建NN"
   ]
  },
  {
   "cell_type": "code",
   "execution_count": 8,
   "metadata": {},
   "outputs": [],
   "source": [
    "import torch\n",
    "from tqdm.auto import tqdm\n",
    "from torch.utils.data import DataLoader, Dataset\n",
    "import torch.nn as nn\n",
    "import torch.nn.functional as F\n",
    "import torch.optim as optim\n",
    "\n",
    "class NGramDataset(Dataset):\n",
    "    def __init__(self, corpus,vocab, context_size=2):\n",
    "        self.data = []\n",
    "        self.bos = vocab.idx_to_token[vocab.token_to_idx[BOS_TOKEN]]\n",
    "        self.eos = vocab.idx_to_token[vocab.token_to_idx[EOS_TOKEN]]\n",
    "        for line in tqdm(corpus,desc=\"Dataset Construct\"):\n",
    "            if len(line) < context_size:\n",
    "                continue\n",
    "            for i in range(context_size,len(line.split())):\n",
    "                context = line.split()[i-context_size:i]\n",
    "                target = line.split()[i]\n",
    "                self.data.append((vocab[context],vocab[target]))\n",
    "    \n",
    "    def __len__(self):\n",
    "        return len(self.data)\n",
    "    \n",
    "    def __getitem__(self, i):\n",
    "        return self.data[i]\n",
    "    \n",
    "    def collate_fn(self, examples):\n",
    "        inputs = torch.tensor([ex[0] for ex in examples])\n",
    "        targets = torch.tensor([list(ex)[1] for ex in examples])\n",
    "        return (inputs, targets)\n",
    "    \n",
    "\n",
    "\n",
    "class FFNNLM(nn.Module):\n",
    "    def __init__(self, vocab_size, embedding_dim, context_size, hidden_dim):\n",
    "        super(FFNNLM, self).__init__()\n",
    "        self.embeddings = nn.Embedding(vocab_size, embedding_dim)\n",
    "        self.linear1 = nn.Linear(context_size*embedding_dim, hidden_dim)\n",
    "        self.linear2 = nn.Linear(hidden_dim, vocab_size)\n",
    "        self.activate = F.relu\n",
    "        self.init_weights()\n",
    "\n",
    "    def init_weights(self):\n",
    "        for name, param in self.named_parameters():\n",
    "            if \"embedding\" not in name:\n",
    "                torch.nn.init.uniform_(param,a=-0.1,b=0.1)\n",
    "\n",
    "    def forward(self, inputs):\n",
    "        embeds = self.embeddings(inputs).view((inputs.shape[0],-1))\n",
    "        hidden = self.activate(self.linear1(embeds))\n",
    "        output = self.linear2(hidden)\n",
    "        log_probs = F.log_softmax(output, dim=1)\n",
    "        return log_probs"
   ]
  },
  {
   "cell_type": "code",
   "execution_count": 15,
   "metadata": {},
   "outputs": [
    {
     "data": {
      "application/vnd.jupyter.widget-view+json": {
       "model_id": "e24e8cbf8fc84085a542bc222455a4c2",
       "version_major": 2,
       "version_minor": 0
      },
      "text/plain": [
       "Dataset Construct:   0%|          | 0/5184 [00:00<?, ?it/s]"
      ]
     },
     "metadata": {},
     "output_type": "display_data"
    },
    {
     "data": {
      "application/vnd.jupyter.widget-view+json": {
       "model_id": "4217b8d9412a46baa38285b23b30863b",
       "version_major": 2,
       "version_minor": 0
      },
      "text/plain": [
       "Training Epoch0:   0%|          | 0/51 [00:00<?, ?it/s]"
      ]
     },
     "metadata": {},
     "output_type": "display_data"
    },
    {
     "name": "stdout",
     "output_type": "stream",
     "text": [
      "396.24623441696167\n"
     ]
    },
    {
     "data": {
      "application/vnd.jupyter.widget-view+json": {
       "model_id": "756c304a43f4445aa760a04901aabf0d",
       "version_major": 2,
       "version_minor": 0
      },
      "text/plain": [
       "Training Epoch1:   0%|          | 0/51 [00:00<?, ?it/s]"
      ]
     },
     "metadata": {},
     "output_type": "display_data"
    },
    {
     "name": "stdout",
     "output_type": "stream",
     "text": [
      "321.2981810569763\n"
     ]
    },
    {
     "data": {
      "application/vnd.jupyter.widget-view+json": {
       "model_id": "bdb4223b05ad41a4910556229b231fbe",
       "version_major": 2,
       "version_minor": 0
      },
      "text/plain": [
       "Training Epoch2:   0%|          | 0/51 [00:00<?, ?it/s]"
      ]
     },
     "metadata": {},
     "output_type": "display_data"
    },
    {
     "name": "stdout",
     "output_type": "stream",
     "text": [
      "302.5915641784668\n"
     ]
    },
    {
     "data": {
      "application/vnd.jupyter.widget-view+json": {
       "model_id": "e64fbb41106f4e45ac4e9d4828f86ba8",
       "version_major": 2,
       "version_minor": 0
      },
      "text/plain": [
       "Training Epoch3:   0%|          | 0/51 [00:00<?, ?it/s]"
      ]
     },
     "metadata": {},
     "output_type": "display_data"
    },
    {
     "name": "stdout",
     "output_type": "stream",
     "text": [
      "287.56204986572266\n"
     ]
    },
    {
     "data": {
      "application/vnd.jupyter.widget-view+json": {
       "model_id": "45287b8367a343a5a074ca9d616614e4",
       "version_major": 2,
       "version_minor": 0
      },
      "text/plain": [
       "Training Epoch4:   0%|          | 0/51 [00:00<?, ?it/s]"
      ]
     },
     "metadata": {},
     "output_type": "display_data"
    },
    {
     "name": "stdout",
     "output_type": "stream",
     "text": [
      "272.5179977416992\n"
     ]
    },
    {
     "data": {
      "application/vnd.jupyter.widget-view+json": {
       "model_id": "eaeb243bdb434d708cb82519f4c119aa",
       "version_major": 2,
       "version_minor": 0
      },
      "text/plain": [
       "Training Epoch5:   0%|          | 0/51 [00:00<?, ?it/s]"
      ]
     },
     "metadata": {},
     "output_type": "display_data"
    },
    {
     "name": "stdout",
     "output_type": "stream",
     "text": [
      "257.2415370941162\n"
     ]
    },
    {
     "data": {
      "application/vnd.jupyter.widget-view+json": {
       "model_id": "641853ee8d0c480d9d44cb0580cda5a7",
       "version_major": 2,
       "version_minor": 0
      },
      "text/plain": [
       "Training Epoch6:   0%|          | 0/51 [00:00<?, ?it/s]"
      ]
     },
     "metadata": {},
     "output_type": "display_data"
    },
    {
     "name": "stdout",
     "output_type": "stream",
     "text": [
      "241.05612659454346\n"
     ]
    },
    {
     "data": {
      "application/vnd.jupyter.widget-view+json": {
       "model_id": "44d32b0054094229a311e969ccf94b44",
       "version_major": 2,
       "version_minor": 0
      },
      "text/plain": [
       "Training Epoch7:   0%|          | 0/51 [00:00<?, ?it/s]"
      ]
     },
     "metadata": {},
     "output_type": "display_data"
    },
    {
     "name": "stdout",
     "output_type": "stream",
     "text": [
      "223.31572818756104\n"
     ]
    },
    {
     "data": {
      "application/vnd.jupyter.widget-view+json": {
       "model_id": "d753a107d3a848ba8618dcbddb91cffe",
       "version_major": 2,
       "version_minor": 0
      },
      "text/plain": [
       "Training Epoch8:   0%|          | 0/51 [00:00<?, ?it/s]"
      ]
     },
     "metadata": {},
     "output_type": "display_data"
    },
    {
     "name": "stdout",
     "output_type": "stream",
     "text": [
      "204.8594090938568\n"
     ]
    },
    {
     "data": {
      "application/vnd.jupyter.widget-view+json": {
       "model_id": "d8d849922ff34d6e9aa20dd1fdb58fc9",
       "version_major": 2,
       "version_minor": 0
      },
      "text/plain": [
       "Training Epoch9:   0%|          | 0/51 [00:00<?, ?it/s]"
      ]
     },
     "metadata": {},
     "output_type": "display_data"
    },
    {
     "name": "stdout",
     "output_type": "stream",
     "text": [
      "187.3142638206482\n"
     ]
    },
    {
     "data": {
      "application/vnd.jupyter.widget-view+json": {
       "model_id": "a894cf39e49e4d63abc9daa19c0166f4",
       "version_major": 2,
       "version_minor": 0
      },
      "text/plain": [
       "Training Epoch10:   0%|          | 0/51 [00:00<?, ?it/s]"
      ]
     },
     "metadata": {},
     "output_type": "display_data"
    },
    {
     "name": "stdout",
     "output_type": "stream",
     "text": [
      "172.98214626312256\n"
     ]
    },
    {
     "data": {
      "application/vnd.jupyter.widget-view+json": {
       "model_id": "bbd5ff5da84843c7b763b65521bf2ea5",
       "version_major": 2,
       "version_minor": 0
      },
      "text/plain": [
       "Training Epoch11:   0%|          | 0/51 [00:00<?, ?it/s]"
      ]
     },
     "metadata": {},
     "output_type": "display_data"
    },
    {
     "name": "stdout",
     "output_type": "stream",
     "text": [
      "161.8591389656067\n"
     ]
    },
    {
     "data": {
      "application/vnd.jupyter.widget-view+json": {
       "model_id": "406a6d1864224029a146750a4b63dd94",
       "version_major": 2,
       "version_minor": 0
      },
      "text/plain": [
       "Training Epoch12:   0%|          | 0/51 [00:00<?, ?it/s]"
      ]
     },
     "metadata": {},
     "output_type": "display_data"
    },
    {
     "name": "stdout",
     "output_type": "stream",
     "text": [
      "153.96734833717346\n"
     ]
    },
    {
     "data": {
      "application/vnd.jupyter.widget-view+json": {
       "model_id": "80992335d8ac470cbb551f7cb2b2aad3",
       "version_major": 2,
       "version_minor": 0
      },
      "text/plain": [
       "Training Epoch13:   0%|          | 0/51 [00:00<?, ?it/s]"
      ]
     },
     "metadata": {},
     "output_type": "display_data"
    },
    {
     "name": "stdout",
     "output_type": "stream",
     "text": [
      "147.40804481506348\n"
     ]
    },
    {
     "data": {
      "application/vnd.jupyter.widget-view+json": {
       "model_id": "4a09a27f467a46419973212da0e6e9e0",
       "version_major": 2,
       "version_minor": 0
      },
      "text/plain": [
       "Training Epoch14:   0%|          | 0/51 [00:00<?, ?it/s]"
      ]
     },
     "metadata": {},
     "output_type": "display_data"
    },
    {
     "name": "stdout",
     "output_type": "stream",
     "text": [
      "141.64391088485718\n"
     ]
    },
    {
     "data": {
      "application/vnd.jupyter.widget-view+json": {
       "model_id": "a7a1f10239bc493bbd9ce9a3e16951e6",
       "version_major": 2,
       "version_minor": 0
      },
      "text/plain": [
       "Training Epoch15:   0%|          | 0/51 [00:00<?, ?it/s]"
      ]
     },
     "metadata": {},
     "output_type": "display_data"
    },
    {
     "name": "stdout",
     "output_type": "stream",
     "text": [
      "136.8999741077423\n"
     ]
    },
    {
     "data": {
      "application/vnd.jupyter.widget-view+json": {
       "model_id": "40c9ba00ed554c768a4a1030afe3845d",
       "version_major": 2,
       "version_minor": 0
      },
      "text/plain": [
       "Training Epoch16:   0%|          | 0/51 [00:00<?, ?it/s]"
      ]
     },
     "metadata": {},
     "output_type": "display_data"
    },
    {
     "name": "stdout",
     "output_type": "stream",
     "text": [
      "132.56900334358215\n"
     ]
    },
    {
     "data": {
      "application/vnd.jupyter.widget-view+json": {
       "model_id": "7beb3291feb94d45b87b9a8c1ca9b54b",
       "version_major": 2,
       "version_minor": 0
      },
      "text/plain": [
       "Training Epoch17:   0%|          | 0/51 [00:00<?, ?it/s]"
      ]
     },
     "metadata": {},
     "output_type": "display_data"
    },
    {
     "name": "stdout",
     "output_type": "stream",
     "text": [
      "128.12947463989258\n"
     ]
    },
    {
     "data": {
      "application/vnd.jupyter.widget-view+json": {
       "model_id": "a6f4419fcdb64ae596d1acc2fa3cd955",
       "version_major": 2,
       "version_minor": 0
      },
      "text/plain": [
       "Training Epoch18:   0%|          | 0/51 [00:00<?, ?it/s]"
      ]
     },
     "metadata": {},
     "output_type": "display_data"
    },
    {
     "name": "stdout",
     "output_type": "stream",
     "text": [
      "124.64132475852966\n"
     ]
    },
    {
     "data": {
      "application/vnd.jupyter.widget-view+json": {
       "model_id": "d156e39b2423452785f298979be77b76",
       "version_major": 2,
       "version_minor": 0
      },
      "text/plain": [
       "Training Epoch19:   0%|          | 0/51 [00:00<?, ?it/s]"
      ]
     },
     "metadata": {},
     "output_type": "display_data"
    },
    {
     "name": "stdout",
     "output_type": "stream",
     "text": [
      "121.33000326156616\n"
     ]
    },
    {
     "data": {
      "application/vnd.jupyter.widget-view+json": {
       "model_id": "ab6f21534aba4eceaa05d4da7b2f28a4",
       "version_major": 2,
       "version_minor": 0
      },
      "text/plain": [
       "Training Epoch20:   0%|          | 0/51 [00:00<?, ?it/s]"
      ]
     },
     "metadata": {},
     "output_type": "display_data"
    },
    {
     "name": "stdout",
     "output_type": "stream",
     "text": [
      "118.22473382949829\n"
     ]
    },
    {
     "data": {
      "application/vnd.jupyter.widget-view+json": {
       "model_id": "c4051598eb5143ff8d291d9f82bdf829",
       "version_major": 2,
       "version_minor": 0
      },
      "text/plain": [
       "Training Epoch21:   0%|          | 0/51 [00:00<?, ?it/s]"
      ]
     },
     "metadata": {},
     "output_type": "display_data"
    },
    {
     "name": "stdout",
     "output_type": "stream",
     "text": [
      "114.95947647094727\n"
     ]
    },
    {
     "data": {
      "application/vnd.jupyter.widget-view+json": {
       "model_id": "86e567816cf6453db5e352918e007efe",
       "version_major": 2,
       "version_minor": 0
      },
      "text/plain": [
       "Training Epoch22:   0%|          | 0/51 [00:00<?, ?it/s]"
      ]
     },
     "metadata": {},
     "output_type": "display_data"
    },
    {
     "name": "stdout",
     "output_type": "stream",
     "text": [
      "112.25889015197754\n"
     ]
    },
    {
     "data": {
      "application/vnd.jupyter.widget-view+json": {
       "model_id": "a9514062fede427ba54df515e33c4138",
       "version_major": 2,
       "version_minor": 0
      },
      "text/plain": [
       "Training Epoch23:   0%|          | 0/51 [00:00<?, ?it/s]"
      ]
     },
     "metadata": {},
     "output_type": "display_data"
    },
    {
     "name": "stdout",
     "output_type": "stream",
     "text": [
      "109.19596791267395\n"
     ]
    },
    {
     "data": {
      "application/vnd.jupyter.widget-view+json": {
       "model_id": "5b483424ca75461084fd4fa41bbfe41b",
       "version_major": 2,
       "version_minor": 0
      },
      "text/plain": [
       "Training Epoch24:   0%|          | 0/51 [00:00<?, ?it/s]"
      ]
     },
     "metadata": {},
     "output_type": "display_data"
    },
    {
     "name": "stdout",
     "output_type": "stream",
     "text": [
      "106.90535247325897\n"
     ]
    },
    {
     "data": {
      "application/vnd.jupyter.widget-view+json": {
       "model_id": "d789279b256c474c9aebd51d7bb9b8fd",
       "version_major": 2,
       "version_minor": 0
      },
      "text/plain": [
       "Training Epoch25:   0%|          | 0/51 [00:00<?, ?it/s]"
      ]
     },
     "metadata": {},
     "output_type": "display_data"
    },
    {
     "name": "stdout",
     "output_type": "stream",
     "text": [
      "104.4155284166336\n"
     ]
    },
    {
     "data": {
      "application/vnd.jupyter.widget-view+json": {
       "model_id": "ce031d0869f44583a4e687a4ffcb028a",
       "version_major": 2,
       "version_minor": 0
      },
      "text/plain": [
       "Training Epoch26:   0%|          | 0/51 [00:00<?, ?it/s]"
      ]
     },
     "metadata": {},
     "output_type": "display_data"
    },
    {
     "name": "stdout",
     "output_type": "stream",
     "text": [
      "101.84089934825897\n"
     ]
    },
    {
     "data": {
      "application/vnd.jupyter.widget-view+json": {
       "model_id": "270a8a3c899c4127b147c9c20a5a6863",
       "version_major": 2,
       "version_minor": 0
      },
      "text/plain": [
       "Training Epoch27:   0%|          | 0/51 [00:00<?, ?it/s]"
      ]
     },
     "metadata": {},
     "output_type": "display_data"
    },
    {
     "name": "stdout",
     "output_type": "stream",
     "text": [
      "99.68476998806\n"
     ]
    },
    {
     "data": {
      "application/vnd.jupyter.widget-view+json": {
       "model_id": "2ff6572455124984a82385c997432a31",
       "version_major": 2,
       "version_minor": 0
      },
      "text/plain": [
       "Training Epoch28:   0%|          | 0/51 [00:00<?, ?it/s]"
      ]
     },
     "metadata": {},
     "output_type": "display_data"
    },
    {
     "name": "stdout",
     "output_type": "stream",
     "text": [
      "97.4443382024765\n"
     ]
    },
    {
     "data": {
      "application/vnd.jupyter.widget-view+json": {
       "model_id": "3bc72fcbaaab43cba26d1723e70fa65b",
       "version_major": 2,
       "version_minor": 0
      },
      "text/plain": [
       "Training Epoch29:   0%|          | 0/51 [00:00<?, ?it/s]"
      ]
     },
     "metadata": {},
     "output_type": "display_data"
    },
    {
     "name": "stdout",
     "output_type": "stream",
     "text": [
      "95.09939682483673\n"
     ]
    },
    {
     "data": {
      "application/vnd.jupyter.widget-view+json": {
       "model_id": "c0d6448e32f44618b1a6ba0012ccd108",
       "version_major": 2,
       "version_minor": 0
      },
      "text/plain": [
       "Training Epoch30:   0%|          | 0/51 [00:00<?, ?it/s]"
      ]
     },
     "metadata": {},
     "output_type": "display_data"
    },
    {
     "name": "stdout",
     "output_type": "stream",
     "text": [
      "93.3386367559433\n"
     ]
    },
    {
     "data": {
      "application/vnd.jupyter.widget-view+json": {
       "model_id": "5c4e216a23324509a012bde15537393f",
       "version_major": 2,
       "version_minor": 0
      },
      "text/plain": [
       "Training Epoch31:   0%|          | 0/51 [00:00<?, ?it/s]"
      ]
     },
     "metadata": {},
     "output_type": "display_data"
    },
    {
     "name": "stdout",
     "output_type": "stream",
     "text": [
      "91.51414322853088\n"
     ]
    },
    {
     "data": {
      "application/vnd.jupyter.widget-view+json": {
       "model_id": "2fc09e07e44d4c59b781bbfa9c79f807",
       "version_major": 2,
       "version_minor": 0
      },
      "text/plain": [
       "Training Epoch32:   0%|          | 0/51 [00:00<?, ?it/s]"
      ]
     },
     "metadata": {},
     "output_type": "display_data"
    },
    {
     "name": "stdout",
     "output_type": "stream",
     "text": [
      "89.40767681598663\n"
     ]
    },
    {
     "data": {
      "application/vnd.jupyter.widget-view+json": {
       "model_id": "c60d8e479e1849d9abad362817123984",
       "version_major": 2,
       "version_minor": 0
      },
      "text/plain": [
       "Training Epoch33:   0%|          | 0/51 [00:00<?, ?it/s]"
      ]
     },
     "metadata": {},
     "output_type": "display_data"
    },
    {
     "name": "stdout",
     "output_type": "stream",
     "text": [
      "87.30835378170013\n"
     ]
    },
    {
     "data": {
      "application/vnd.jupyter.widget-view+json": {
       "model_id": "cd01485bb4874043a3a36f789f229c53",
       "version_major": 2,
       "version_minor": 0
      },
      "text/plain": [
       "Training Epoch34:   0%|          | 0/51 [00:00<?, ?it/s]"
      ]
     },
     "metadata": {},
     "output_type": "display_data"
    },
    {
     "name": "stdout",
     "output_type": "stream",
     "text": [
      "85.85122621059418\n"
     ]
    },
    {
     "data": {
      "application/vnd.jupyter.widget-view+json": {
       "model_id": "a1fadf7343e347c18f3c6b506d572352",
       "version_major": 2,
       "version_minor": 0
      },
      "text/plain": [
       "Training Epoch35:   0%|          | 0/51 [00:00<?, ?it/s]"
      ]
     },
     "metadata": {},
     "output_type": "display_data"
    },
    {
     "name": "stdout",
     "output_type": "stream",
     "text": [
      "83.8013870716095\n"
     ]
    },
    {
     "data": {
      "application/vnd.jupyter.widget-view+json": {
       "model_id": "bf19107f9bc748fd9fbeb7d618802a28",
       "version_major": 2,
       "version_minor": 0
      },
      "text/plain": [
       "Training Epoch36:   0%|          | 0/51 [00:00<?, ?it/s]"
      ]
     },
     "metadata": {},
     "output_type": "display_data"
    },
    {
     "name": "stdout",
     "output_type": "stream",
     "text": [
      "81.9624662399292\n"
     ]
    },
    {
     "data": {
      "application/vnd.jupyter.widget-view+json": {
       "model_id": "405b975c2dd243b1b9e22dbc77fa65b2",
       "version_major": 2,
       "version_minor": 0
      },
      "text/plain": [
       "Training Epoch37:   0%|          | 0/51 [00:00<?, ?it/s]"
      ]
     },
     "metadata": {},
     "output_type": "display_data"
    },
    {
     "name": "stdout",
     "output_type": "stream",
     "text": [
      "80.71828329563141\n"
     ]
    },
    {
     "data": {
      "application/vnd.jupyter.widget-view+json": {
       "model_id": "2498a1e8efad47619f0bdebf2895b044",
       "version_major": 2,
       "version_minor": 0
      },
      "text/plain": [
       "Training Epoch38:   0%|          | 0/51 [00:00<?, ?it/s]"
      ]
     },
     "metadata": {},
     "output_type": "display_data"
    },
    {
     "name": "stdout",
     "output_type": "stream",
     "text": [
      "78.99560034275055\n"
     ]
    },
    {
     "data": {
      "application/vnd.jupyter.widget-view+json": {
       "model_id": "d3ec9b0e478640378df41bb05c1f37cd",
       "version_major": 2,
       "version_minor": 0
      },
      "text/plain": [
       "Training Epoch39:   0%|          | 0/51 [00:00<?, ?it/s]"
      ]
     },
     "metadata": {},
     "output_type": "display_data"
    },
    {
     "name": "stdout",
     "output_type": "stream",
     "text": [
      "77.09763872623444\n"
     ]
    },
    {
     "data": {
      "application/vnd.jupyter.widget-view+json": {
       "model_id": "bb6b3d6999904c74969c3c87a484c5bf",
       "version_major": 2,
       "version_minor": 0
      },
      "text/plain": [
       "Training Epoch40:   0%|          | 0/51 [00:00<?, ?it/s]"
      ]
     },
     "metadata": {},
     "output_type": "display_data"
    },
    {
     "name": "stdout",
     "output_type": "stream",
     "text": [
      "75.73628664016724\n"
     ]
    },
    {
     "data": {
      "application/vnd.jupyter.widget-view+json": {
       "model_id": "dfb3d4d3ad88426e9de4585fcb8e5cd0",
       "version_major": 2,
       "version_minor": 0
      },
      "text/plain": [
       "Training Epoch41:   0%|          | 0/51 [00:00<?, ?it/s]"
      ]
     },
     "metadata": {},
     "output_type": "display_data"
    },
    {
     "name": "stdout",
     "output_type": "stream",
     "text": [
      "74.23658871650696\n"
     ]
    },
    {
     "data": {
      "application/vnd.jupyter.widget-view+json": {
       "model_id": "5b3f5460ba2943c3a8d7388685e8cc36",
       "version_major": 2,
       "version_minor": 0
      },
      "text/plain": [
       "Training Epoch42:   0%|          | 0/51 [00:00<?, ?it/s]"
      ]
     },
     "metadata": {},
     "output_type": "display_data"
    },
    {
     "name": "stdout",
     "output_type": "stream",
     "text": [
      "72.64300656318665\n"
     ]
    },
    {
     "data": {
      "application/vnd.jupyter.widget-view+json": {
       "model_id": "1a27c02d6c5e4c9d8d8a2aa6b0deff6e",
       "version_major": 2,
       "version_minor": 0
      },
      "text/plain": [
       "Training Epoch43:   0%|          | 0/51 [00:00<?, ?it/s]"
      ]
     },
     "metadata": {},
     "output_type": "display_data"
    },
    {
     "name": "stdout",
     "output_type": "stream",
     "text": [
      "71.27779114246368\n"
     ]
    },
    {
     "data": {
      "application/vnd.jupyter.widget-view+json": {
       "model_id": "50f6761fa12444ff953de19c5047dc5a",
       "version_major": 2,
       "version_minor": 0
      },
      "text/plain": [
       "Training Epoch44:   0%|          | 0/51 [00:00<?, ?it/s]"
      ]
     },
     "metadata": {},
     "output_type": "display_data"
    },
    {
     "name": "stdout",
     "output_type": "stream",
     "text": [
      "69.76349902153015\n"
     ]
    },
    {
     "data": {
      "application/vnd.jupyter.widget-view+json": {
       "model_id": "1d2cbe9e5ca74e7a8b5efd4a69d9ae32",
       "version_major": 2,
       "version_minor": 0
      },
      "text/plain": [
       "Training Epoch45:   0%|          | 0/51 [00:00<?, ?it/s]"
      ]
     },
     "metadata": {},
     "output_type": "display_data"
    },
    {
     "name": "stdout",
     "output_type": "stream",
     "text": [
      "68.40042078495026\n"
     ]
    },
    {
     "data": {
      "application/vnd.jupyter.widget-view+json": {
       "model_id": "d0f27c7ce4884704b78be0ce30660a4d",
       "version_major": 2,
       "version_minor": 0
      },
      "text/plain": [
       "Training Epoch46:   0%|          | 0/51 [00:00<?, ?it/s]"
      ]
     },
     "metadata": {},
     "output_type": "display_data"
    },
    {
     "name": "stdout",
     "output_type": "stream",
     "text": [
      "67.08287858963013\n"
     ]
    },
    {
     "data": {
      "application/vnd.jupyter.widget-view+json": {
       "model_id": "3d4fe1ba994a43969bba205522ad01e7",
       "version_major": 2,
       "version_minor": 0
      },
      "text/plain": [
       "Training Epoch47:   0%|          | 0/51 [00:00<?, ?it/s]"
      ]
     },
     "metadata": {},
     "output_type": "display_data"
    },
    {
     "name": "stdout",
     "output_type": "stream",
     "text": [
      "65.64430630207062\n"
     ]
    },
    {
     "data": {
      "application/vnd.jupyter.widget-view+json": {
       "model_id": "12b23cdf06bb48e39f5ca5eb255987f9",
       "version_major": 2,
       "version_minor": 0
      },
      "text/plain": [
       "Training Epoch48:   0%|          | 0/51 [00:00<?, ?it/s]"
      ]
     },
     "metadata": {},
     "output_type": "display_data"
    },
    {
     "name": "stdout",
     "output_type": "stream",
     "text": [
      "64.37830150127411\n"
     ]
    },
    {
     "data": {
      "application/vnd.jupyter.widget-view+json": {
       "model_id": "df69d0f95a3b4da5ae87ea028fb76be2",
       "version_major": 2,
       "version_minor": 0
      },
      "text/plain": [
       "Training Epoch49:   0%|          | 0/51 [00:00<?, ?it/s]"
      ]
     },
     "metadata": {},
     "output_type": "display_data"
    },
    {
     "name": "stdout",
     "output_type": "stream",
     "text": [
      "62.85184180736542\n"
     ]
    },
    {
     "data": {
      "application/vnd.jupyter.widget-view+json": {
       "model_id": "7baecbedab79488698f434c55b180cad",
       "version_major": 2,
       "version_minor": 0
      },
      "text/plain": [
       "Training Epoch50:   0%|          | 0/51 [00:00<?, ?it/s]"
      ]
     },
     "metadata": {},
     "output_type": "display_data"
    },
    {
     "name": "stdout",
     "output_type": "stream",
     "text": [
      "61.76013112068176\n"
     ]
    },
    {
     "data": {
      "application/vnd.jupyter.widget-view+json": {
       "model_id": "e023a46ab0164e3aa1c5fc5922192a31",
       "version_major": 2,
       "version_minor": 0
      },
      "text/plain": [
       "Training Epoch51:   0%|          | 0/51 [00:00<?, ?it/s]"
      ]
     },
     "metadata": {},
     "output_type": "display_data"
    },
    {
     "name": "stdout",
     "output_type": "stream",
     "text": [
      "60.38304674625397\n"
     ]
    },
    {
     "data": {
      "application/vnd.jupyter.widget-view+json": {
       "model_id": "5aa55570a3404076bbe7e2935c5ca06b",
       "version_major": 2,
       "version_minor": 0
      },
      "text/plain": [
       "Training Epoch52:   0%|          | 0/51 [00:00<?, ?it/s]"
      ]
     },
     "metadata": {},
     "output_type": "display_data"
    },
    {
     "name": "stdout",
     "output_type": "stream",
     "text": [
      "59.31418859958649\n"
     ]
    },
    {
     "data": {
      "application/vnd.jupyter.widget-view+json": {
       "model_id": "140ac66d829848a886424462eb0270df",
       "version_major": 2,
       "version_minor": 0
      },
      "text/plain": [
       "Training Epoch53:   0%|          | 0/51 [00:00<?, ?it/s]"
      ]
     },
     "metadata": {},
     "output_type": "display_data"
    },
    {
     "name": "stdout",
     "output_type": "stream",
     "text": [
      "58.288321018218994\n"
     ]
    },
    {
     "data": {
      "application/vnd.jupyter.widget-view+json": {
       "model_id": "e50f2d4e6f9f49f09dbdfea43e382282",
       "version_major": 2,
       "version_minor": 0
      },
      "text/plain": [
       "Training Epoch54:   0%|          | 0/51 [00:00<?, ?it/s]"
      ]
     },
     "metadata": {},
     "output_type": "display_data"
    },
    {
     "name": "stdout",
     "output_type": "stream",
     "text": [
      "56.93103575706482\n"
     ]
    },
    {
     "data": {
      "application/vnd.jupyter.widget-view+json": {
       "model_id": "48ded175da8748c0add2bc6b485c6835",
       "version_major": 2,
       "version_minor": 0
      },
      "text/plain": [
       "Training Epoch55:   0%|          | 0/51 [00:00<?, ?it/s]"
      ]
     },
     "metadata": {},
     "output_type": "display_data"
    },
    {
     "name": "stdout",
     "output_type": "stream",
     "text": [
      "55.802729070186615\n"
     ]
    },
    {
     "data": {
      "application/vnd.jupyter.widget-view+json": {
       "model_id": "4b36eaa39f344c7ab083443fe587b7e7",
       "version_major": 2,
       "version_minor": 0
      },
      "text/plain": [
       "Training Epoch56:   0%|          | 0/51 [00:00<?, ?it/s]"
      ]
     },
     "metadata": {},
     "output_type": "display_data"
    },
    {
     "name": "stdout",
     "output_type": "stream",
     "text": [
      "54.714656710624695\n"
     ]
    },
    {
     "data": {
      "application/vnd.jupyter.widget-view+json": {
       "model_id": "61393b060410442c800c22d6d85145bd",
       "version_major": 2,
       "version_minor": 0
      },
      "text/plain": [
       "Training Epoch57:   0%|          | 0/51 [00:00<?, ?it/s]"
      ]
     },
     "metadata": {},
     "output_type": "display_data"
    },
    {
     "name": "stdout",
     "output_type": "stream",
     "text": [
      "53.81751161813736\n"
     ]
    },
    {
     "data": {
      "application/vnd.jupyter.widget-view+json": {
       "model_id": "35cacf99a4ed4bb4a49da33903fd35a6",
       "version_major": 2,
       "version_minor": 0
      },
      "text/plain": [
       "Training Epoch58:   0%|          | 0/51 [00:00<?, ?it/s]"
      ]
     },
     "metadata": {},
     "output_type": "display_data"
    },
    {
     "name": "stdout",
     "output_type": "stream",
     "text": [
      "52.51241463422775\n"
     ]
    },
    {
     "data": {
      "application/vnd.jupyter.widget-view+json": {
       "model_id": "28c0535a7a4b4404b308ece36cffe807",
       "version_major": 2,
       "version_minor": 0
      },
      "text/plain": [
       "Training Epoch59:   0%|          | 0/51 [00:00<?, ?it/s]"
      ]
     },
     "metadata": {},
     "output_type": "display_data"
    },
    {
     "name": "stdout",
     "output_type": "stream",
     "text": [
      "51.489251255989075\n"
     ]
    },
    {
     "data": {
      "application/vnd.jupyter.widget-view+json": {
       "model_id": "444db74d8a774baaad461922ee275220",
       "version_major": 2,
       "version_minor": 0
      },
      "text/plain": [
       "Training Epoch60:   0%|          | 0/51 [00:00<?, ?it/s]"
      ]
     },
     "metadata": {},
     "output_type": "display_data"
    },
    {
     "name": "stdout",
     "output_type": "stream",
     "text": [
      "50.61064684391022\n"
     ]
    },
    {
     "data": {
      "application/vnd.jupyter.widget-view+json": {
       "model_id": "96860cc2e3d54365beb18faa4e9a9fcf",
       "version_major": 2,
       "version_minor": 0
      },
      "text/plain": [
       "Training Epoch61:   0%|          | 0/51 [00:00<?, ?it/s]"
      ]
     },
     "metadata": {},
     "output_type": "display_data"
    },
    {
     "name": "stdout",
     "output_type": "stream",
     "text": [
      "49.46571397781372\n"
     ]
    },
    {
     "data": {
      "application/vnd.jupyter.widget-view+json": {
       "model_id": "be926aa04916456caeebb7abc633163b",
       "version_major": 2,
       "version_minor": 0
      },
      "text/plain": [
       "Training Epoch62:   0%|          | 0/51 [00:00<?, ?it/s]"
      ]
     },
     "metadata": {},
     "output_type": "display_data"
    },
    {
     "name": "stdout",
     "output_type": "stream",
     "text": [
      "48.64267581701279\n"
     ]
    },
    {
     "data": {
      "application/vnd.jupyter.widget-view+json": {
       "model_id": "dff05b2a02c44a2ab10e64648a490153",
       "version_major": 2,
       "version_minor": 0
      },
      "text/plain": [
       "Training Epoch63:   0%|          | 0/51 [00:00<?, ?it/s]"
      ]
     },
     "metadata": {},
     "output_type": "display_data"
    },
    {
     "name": "stdout",
     "output_type": "stream",
     "text": [
      "47.580963134765625\n"
     ]
    },
    {
     "data": {
      "application/vnd.jupyter.widget-view+json": {
       "model_id": "b4f0b949838a4cb08221422aedd4e7bb",
       "version_major": 2,
       "version_minor": 0
      },
      "text/plain": [
       "Training Epoch64:   0%|          | 0/51 [00:00<?, ?it/s]"
      ]
     },
     "metadata": {},
     "output_type": "display_data"
    },
    {
     "name": "stdout",
     "output_type": "stream",
     "text": [
      "46.60788029432297\n"
     ]
    },
    {
     "data": {
      "application/vnd.jupyter.widget-view+json": {
       "model_id": "a0d20e456a2d4c588223dca1be226f74",
       "version_major": 2,
       "version_minor": 0
      },
      "text/plain": [
       "Training Epoch65:   0%|          | 0/51 [00:00<?, ?it/s]"
      ]
     },
     "metadata": {},
     "output_type": "display_data"
    },
    {
     "name": "stdout",
     "output_type": "stream",
     "text": [
      "45.55574285984039\n"
     ]
    },
    {
     "data": {
      "application/vnd.jupyter.widget-view+json": {
       "model_id": "1db95cc42cbc471db4aa21ed2cad70d0",
       "version_major": 2,
       "version_minor": 0
      },
      "text/plain": [
       "Training Epoch66:   0%|          | 0/51 [00:00<?, ?it/s]"
      ]
     },
     "metadata": {},
     "output_type": "display_data"
    },
    {
     "name": "stdout",
     "output_type": "stream",
     "text": [
      "44.578327000141144\n"
     ]
    },
    {
     "data": {
      "application/vnd.jupyter.widget-view+json": {
       "model_id": "cec6bcdc956d48e1ba7db8464b488249",
       "version_major": 2,
       "version_minor": 0
      },
      "text/plain": [
       "Training Epoch67:   0%|          | 0/51 [00:00<?, ?it/s]"
      ]
     },
     "metadata": {},
     "output_type": "display_data"
    },
    {
     "name": "stdout",
     "output_type": "stream",
     "text": [
      "43.72814232110977\n"
     ]
    },
    {
     "data": {
      "application/vnd.jupyter.widget-view+json": {
       "model_id": "e8801c0770b6428f836f40c3ac9c27bf",
       "version_major": 2,
       "version_minor": 0
      },
      "text/plain": [
       "Training Epoch68:   0%|          | 0/51 [00:00<?, ?it/s]"
      ]
     },
     "metadata": {},
     "output_type": "display_data"
    },
    {
     "name": "stdout",
     "output_type": "stream",
     "text": [
      "42.85780227184296\n"
     ]
    },
    {
     "data": {
      "application/vnd.jupyter.widget-view+json": {
       "model_id": "682d74fe32fc42dba85817b93d76ac76",
       "version_major": 2,
       "version_minor": 0
      },
      "text/plain": [
       "Training Epoch69:   0%|          | 0/51 [00:00<?, ?it/s]"
      ]
     },
     "metadata": {},
     "output_type": "display_data"
    },
    {
     "name": "stdout",
     "output_type": "stream",
     "text": [
      "41.936247408390045\n"
     ]
    },
    {
     "data": {
      "application/vnd.jupyter.widget-view+json": {
       "model_id": "05e0e904320c4f62a371a28c57e24b40",
       "version_major": 2,
       "version_minor": 0
      },
      "text/plain": [
       "Training Epoch70:   0%|          | 0/51 [00:00<?, ?it/s]"
      ]
     },
     "metadata": {},
     "output_type": "display_data"
    },
    {
     "name": "stdout",
     "output_type": "stream",
     "text": [
      "41.19383490085602\n"
     ]
    },
    {
     "data": {
      "application/vnd.jupyter.widget-view+json": {
       "model_id": "631ac25fb70b4ee3b30b175fc7fa9325",
       "version_major": 2,
       "version_minor": 0
      },
      "text/plain": [
       "Training Epoch71:   0%|          | 0/51 [00:00<?, ?it/s]"
      ]
     },
     "metadata": {},
     "output_type": "display_data"
    },
    {
     "name": "stdout",
     "output_type": "stream",
     "text": [
      "40.42237836122513\n"
     ]
    },
    {
     "data": {
      "application/vnd.jupyter.widget-view+json": {
       "model_id": "e95d4b00750d441880474b885de1a3bc",
       "version_major": 2,
       "version_minor": 0
      },
      "text/plain": [
       "Training Epoch72:   0%|          | 0/51 [00:00<?, ?it/s]"
      ]
     },
     "metadata": {},
     "output_type": "display_data"
    },
    {
     "name": "stdout",
     "output_type": "stream",
     "text": [
      "39.81897985935211\n"
     ]
    },
    {
     "data": {
      "application/vnd.jupyter.widget-view+json": {
       "model_id": "2f0276dbf60c4cd2b4827113fb0b0499",
       "version_major": 2,
       "version_minor": 0
      },
      "text/plain": [
       "Training Epoch73:   0%|          | 0/51 [00:00<?, ?it/s]"
      ]
     },
     "metadata": {},
     "output_type": "display_data"
    },
    {
     "name": "stdout",
     "output_type": "stream",
     "text": [
      "38.72661179304123\n"
     ]
    },
    {
     "data": {
      "application/vnd.jupyter.widget-view+json": {
       "model_id": "edf7e4425e6e46f793f724e75d025138",
       "version_major": 2,
       "version_minor": 0
      },
      "text/plain": [
       "Training Epoch74:   0%|          | 0/51 [00:00<?, ?it/s]"
      ]
     },
     "metadata": {},
     "output_type": "display_data"
    },
    {
     "name": "stdout",
     "output_type": "stream",
     "text": [
      "38.04624831676483\n"
     ]
    },
    {
     "data": {
      "application/vnd.jupyter.widget-view+json": {
       "model_id": "cc87f22743824a2887a0fdf4c9178639",
       "version_major": 2,
       "version_minor": 0
      },
      "text/plain": [
       "Training Epoch75:   0%|          | 0/51 [00:00<?, ?it/s]"
      ]
     },
     "metadata": {},
     "output_type": "display_data"
    },
    {
     "name": "stdout",
     "output_type": "stream",
     "text": [
      "37.04764884710312\n"
     ]
    },
    {
     "data": {
      "application/vnd.jupyter.widget-view+json": {
       "model_id": "098a930b8a1a44698a3ead8466e8d286",
       "version_major": 2,
       "version_minor": 0
      },
      "text/plain": [
       "Training Epoch76:   0%|          | 0/51 [00:00<?, ?it/s]"
      ]
     },
     "metadata": {},
     "output_type": "display_data"
    },
    {
     "name": "stdout",
     "output_type": "stream",
     "text": [
      "36.48424834012985\n"
     ]
    },
    {
     "data": {
      "application/vnd.jupyter.widget-view+json": {
       "model_id": "b0244c1d446a4e48b85f1434a75eef84",
       "version_major": 2,
       "version_minor": 0
      },
      "text/plain": [
       "Training Epoch77:   0%|          | 0/51 [00:00<?, ?it/s]"
      ]
     },
     "metadata": {},
     "output_type": "display_data"
    },
    {
     "name": "stdout",
     "output_type": "stream",
     "text": [
      "35.73948061466217\n"
     ]
    },
    {
     "data": {
      "application/vnd.jupyter.widget-view+json": {
       "model_id": "a2ca5dde7dd745d7afe9b9a09bb14a65",
       "version_major": 2,
       "version_minor": 0
      },
      "text/plain": [
       "Training Epoch78:   0%|          | 0/51 [00:00<?, ?it/s]"
      ]
     },
     "metadata": {},
     "output_type": "display_data"
    },
    {
     "name": "stdout",
     "output_type": "stream",
     "text": [
      "34.93819588422775\n"
     ]
    },
    {
     "data": {
      "application/vnd.jupyter.widget-view+json": {
       "model_id": "cd09807f5f0d4d22a3c0b9982f90680d",
       "version_major": 2,
       "version_minor": 0
      },
      "text/plain": [
       "Training Epoch79:   0%|          | 0/51 [00:00<?, ?it/s]"
      ]
     },
     "metadata": {},
     "output_type": "display_data"
    },
    {
     "name": "stdout",
     "output_type": "stream",
     "text": [
      "34.37361037731171\n"
     ]
    },
    {
     "data": {
      "application/vnd.jupyter.widget-view+json": {
       "model_id": "aecbf41671884c94bb4a7dbc6c6a958f",
       "version_major": 2,
       "version_minor": 0
      },
      "text/plain": [
       "Training Epoch80:   0%|          | 0/51 [00:00<?, ?it/s]"
      ]
     },
     "metadata": {},
     "output_type": "display_data"
    },
    {
     "name": "stdout",
     "output_type": "stream",
     "text": [
      "33.62282055616379\n"
     ]
    },
    {
     "data": {
      "application/vnd.jupyter.widget-view+json": {
       "model_id": "eee89aa975b34505ab55ae34c271492b",
       "version_major": 2,
       "version_minor": 0
      },
      "text/plain": [
       "Training Epoch81:   0%|          | 0/51 [00:00<?, ?it/s]"
      ]
     },
     "metadata": {},
     "output_type": "display_data"
    },
    {
     "name": "stdout",
     "output_type": "stream",
     "text": [
      "32.90545129776001\n"
     ]
    },
    {
     "data": {
      "application/vnd.jupyter.widget-view+json": {
       "model_id": "3a9a84e7fee448378fa74fba3c149a20",
       "version_major": 2,
       "version_minor": 0
      },
      "text/plain": [
       "Training Epoch82:   0%|          | 0/51 [00:00<?, ?it/s]"
      ]
     },
     "metadata": {},
     "output_type": "display_data"
    },
    {
     "name": "stdout",
     "output_type": "stream",
     "text": [
      "32.13221198320389\n"
     ]
    },
    {
     "data": {
      "application/vnd.jupyter.widget-view+json": {
       "model_id": "a97b8b021a7a487c99eaadb1c23102c5",
       "version_major": 2,
       "version_minor": 0
      },
      "text/plain": [
       "Training Epoch83:   0%|          | 0/51 [00:00<?, ?it/s]"
      ]
     },
     "metadata": {},
     "output_type": "display_data"
    },
    {
     "name": "stdout",
     "output_type": "stream",
     "text": [
      "31.447268187999725\n"
     ]
    },
    {
     "data": {
      "application/vnd.jupyter.widget-view+json": {
       "model_id": "2899e3102eb84ed89d7569859e67f81f",
       "version_major": 2,
       "version_minor": 0
      },
      "text/plain": [
       "Training Epoch84:   0%|          | 0/51 [00:00<?, ?it/s]"
      ]
     },
     "metadata": {},
     "output_type": "display_data"
    },
    {
     "name": "stdout",
     "output_type": "stream",
     "text": [
      "30.840214729309082\n"
     ]
    },
    {
     "data": {
      "application/vnd.jupyter.widget-view+json": {
       "model_id": "54ae186d03f1407c9ee5c19d74f62d9f",
       "version_major": 2,
       "version_minor": 0
      },
      "text/plain": [
       "Training Epoch85:   0%|          | 0/51 [00:00<?, ?it/s]"
      ]
     },
     "metadata": {},
     "output_type": "display_data"
    },
    {
     "name": "stdout",
     "output_type": "stream",
     "text": [
      "30.24766319990158\n"
     ]
    },
    {
     "data": {
      "application/vnd.jupyter.widget-view+json": {
       "model_id": "cd4a5c90f0d94a3eb0116ecad95d771f",
       "version_major": 2,
       "version_minor": 0
      },
      "text/plain": [
       "Training Epoch86:   0%|          | 0/51 [00:00<?, ?it/s]"
      ]
     },
     "metadata": {},
     "output_type": "display_data"
    },
    {
     "name": "stdout",
     "output_type": "stream",
     "text": [
      "29.613442301750183\n"
     ]
    },
    {
     "data": {
      "application/vnd.jupyter.widget-view+json": {
       "model_id": "cea6174ec8c248879bea5456942d8a91",
       "version_major": 2,
       "version_minor": 0
      },
      "text/plain": [
       "Training Epoch87:   0%|          | 0/51 [00:00<?, ?it/s]"
      ]
     },
     "metadata": {},
     "output_type": "display_data"
    },
    {
     "name": "stdout",
     "output_type": "stream",
     "text": [
      "28.95821338891983\n"
     ]
    },
    {
     "data": {
      "application/vnd.jupyter.widget-view+json": {
       "model_id": "2cd51099304849dfae9ac41e6a10f5a4",
       "version_major": 2,
       "version_minor": 0
      },
      "text/plain": [
       "Training Epoch88:   0%|          | 0/51 [00:00<?, ?it/s]"
      ]
     },
     "metadata": {},
     "output_type": "display_data"
    },
    {
     "name": "stdout",
     "output_type": "stream",
     "text": [
      "28.29846966266632\n"
     ]
    },
    {
     "data": {
      "application/vnd.jupyter.widget-view+json": {
       "model_id": "f980175929b74601966b5b69beca184b",
       "version_major": 2,
       "version_minor": 0
      },
      "text/plain": [
       "Training Epoch89:   0%|          | 0/51 [00:00<?, ?it/s]"
      ]
     },
     "metadata": {},
     "output_type": "display_data"
    },
    {
     "name": "stdout",
     "output_type": "stream",
     "text": [
      "27.776173770427704\n"
     ]
    },
    {
     "data": {
      "application/vnd.jupyter.widget-view+json": {
       "model_id": "90e38ae6d65a422e88ceaad6bf658cd2",
       "version_major": 2,
       "version_minor": 0
      },
      "text/plain": [
       "Training Epoch90:   0%|          | 0/51 [00:00<?, ?it/s]"
      ]
     },
     "metadata": {},
     "output_type": "display_data"
    },
    {
     "name": "stdout",
     "output_type": "stream",
     "text": [
      "27.10165622830391\n"
     ]
    },
    {
     "data": {
      "application/vnd.jupyter.widget-view+json": {
       "model_id": "99085ed151324c989892a48361452ae8",
       "version_major": 2,
       "version_minor": 0
      },
      "text/plain": [
       "Training Epoch91:   0%|          | 0/51 [00:00<?, ?it/s]"
      ]
     },
     "metadata": {},
     "output_type": "display_data"
    },
    {
     "name": "stdout",
     "output_type": "stream",
     "text": [
      "26.63994938135147\n"
     ]
    },
    {
     "data": {
      "application/vnd.jupyter.widget-view+json": {
       "model_id": "766294d27b8242d8bde37bd0b0fb1f8c",
       "version_major": 2,
       "version_minor": 0
      },
      "text/plain": [
       "Training Epoch92:   0%|          | 0/51 [00:00<?, ?it/s]"
      ]
     },
     "metadata": {},
     "output_type": "display_data"
    },
    {
     "name": "stdout",
     "output_type": "stream",
     "text": [
      "26.092439621686935\n"
     ]
    },
    {
     "data": {
      "application/vnd.jupyter.widget-view+json": {
       "model_id": "d9a8f8a38a5548bd9ea6e907054c918b",
       "version_major": 2,
       "version_minor": 0
      },
      "text/plain": [
       "Training Epoch93:   0%|          | 0/51 [00:00<?, ?it/s]"
      ]
     },
     "metadata": {},
     "output_type": "display_data"
    },
    {
     "name": "stdout",
     "output_type": "stream",
     "text": [
      "25.39412486553192\n"
     ]
    },
    {
     "data": {
      "application/vnd.jupyter.widget-view+json": {
       "model_id": "f294c2e343eb48929b462759b39e91e6",
       "version_major": 2,
       "version_minor": 0
      },
      "text/plain": [
       "Training Epoch94:   0%|          | 0/51 [00:00<?, ?it/s]"
      ]
     },
     "metadata": {},
     "output_type": "display_data"
    },
    {
     "name": "stdout",
     "output_type": "stream",
     "text": [
      "24.86144906282425\n"
     ]
    },
    {
     "data": {
      "application/vnd.jupyter.widget-view+json": {
       "model_id": "8f2572c746ae4faeb9b4c02d2044b4d4",
       "version_major": 2,
       "version_minor": 0
      },
      "text/plain": [
       "Training Epoch95:   0%|          | 0/51 [00:00<?, ?it/s]"
      ]
     },
     "metadata": {},
     "output_type": "display_data"
    },
    {
     "name": "stdout",
     "output_type": "stream",
     "text": [
      "24.400433719158173\n"
     ]
    },
    {
     "data": {
      "application/vnd.jupyter.widget-view+json": {
       "model_id": "0a46e27fbef44fe49c33e0c2ac171494",
       "version_major": 2,
       "version_minor": 0
      },
      "text/plain": [
       "Training Epoch96:   0%|          | 0/51 [00:00<?, ?it/s]"
      ]
     },
     "metadata": {},
     "output_type": "display_data"
    },
    {
     "name": "stdout",
     "output_type": "stream",
     "text": [
      "23.823719650506973\n"
     ]
    },
    {
     "data": {
      "application/vnd.jupyter.widget-view+json": {
       "model_id": "fba303ab56f94ff99edc952d7971038c",
       "version_major": 2,
       "version_minor": 0
      },
      "text/plain": [
       "Training Epoch97:   0%|          | 0/51 [00:00<?, ?it/s]"
      ]
     },
     "metadata": {},
     "output_type": "display_data"
    },
    {
     "name": "stdout",
     "output_type": "stream",
     "text": [
      "23.36325192451477\n"
     ]
    },
    {
     "data": {
      "application/vnd.jupyter.widget-view+json": {
       "model_id": "ccc6fd53d5bd4d688673972ac32bff03",
       "version_major": 2,
       "version_minor": 0
      },
      "text/plain": [
       "Training Epoch98:   0%|          | 0/51 [00:00<?, ?it/s]"
      ]
     },
     "metadata": {},
     "output_type": "display_data"
    },
    {
     "name": "stdout",
     "output_type": "stream",
     "text": [
      "22.864242732524872\n"
     ]
    },
    {
     "data": {
      "application/vnd.jupyter.widget-view+json": {
       "model_id": "8c913bf7220b49818a3e3d21e799a155",
       "version_major": 2,
       "version_minor": 0
      },
      "text/plain": [
       "Training Epoch99:   0%|          | 0/51 [00:00<?, ?it/s]"
      ]
     },
     "metadata": {},
     "output_type": "display_data"
    },
    {
     "name": "stdout",
     "output_type": "stream",
     "text": [
      "22.52092331647873\n"
     ]
    }
   ],
   "source": [
    "embedding_dim = 64\n",
    "context_size = 4\n",
    "hidden_dim = 128\n",
    "batch_size = 1024\n",
    "num_epoch = 100\n",
    "\n",
    "dataset = NGramDataset(lines,vocab,context_size)\n",
    "dataloader = DataLoader(dataset,batch_size=batch_size,collate_fn=dataset.collate_fn,shuffle=True)\n",
    "criterion = nn.NLLLoss()\n",
    "device = torch.device('mps' if torch.backends.mps.is_available() else \"cpu\")\n",
    "model = FFNNLM(len(vocab), embedding_dim, context_size,hidden_dim)\n",
    "model.to(device)\n",
    "optimizer = optim.Adam(model.parameters(), lr=0.001)\n",
    "\n",
    "model.train()\n",
    "total_losses = []\n",
    "\n",
    "for epoch in range(num_epoch):\n",
    "    total_loss = 0\n",
    "    for batch in tqdm(dataloader, desc=f\"Training Epoch{epoch}\"):\n",
    "        inputs, targets = [x.to(device) for x in batch]\n",
    "        optimizer.zero_grad()\n",
    "        log_probs = model(inputs)\n",
    "        loss = criterion(log_probs, targets)\n",
    "        loss.backward()\n",
    "        optimizer.step()\n",
    "        total_loss+= loss.item()\n",
    "    print(total_loss)\n",
    "    total_losses.append(total_loss)"
   ]
  },
  {
   "cell_type": "code",
   "execution_count": 19,
   "metadata": {},
   "outputs": [
    {
     "data": {
      "text/plain": [
       "[<matplotlib.lines.Line2D at 0x2ec529700>]"
      ]
     },
     "execution_count": 19,
     "metadata": {},
     "output_type": "execute_result"
    },
    {
     "data": {
      "image/png": "[encoded data removed]",
      "text/plain": [
       "<Figure size 640x480 with 1 Axes>"
      ]
     },
     "metadata": {},
     "output_type": "display_data"
    }
   ],
   "source": [
    "import matplotlib.pyplot as plt\n",
    "plt.plot(range(num_epoch),total_losses)"
   ]
  },
  {
   "cell_type": "code",
   "execution_count": 20,
   "metadata": {},
   "outputs": [
    {
     "data": {
      "text/plain": [
       "tensor([[-0.3564,  0.4703,  1.3561,  ...,  0.2047, -0.5250, -0.0153],\n",
       "        [ 0.2669, -0.1422, -0.4655,  ..., -0.6783, -0.4777,  1.3970],\n",
       "        [-0.0346,  1.6248, -0.5637,  ..., -0.8232,  0.3723, -1.9382],\n",
       "        ...,\n",
       "        [-1.2149, -1.6070, -0.1865,  ..., -0.2810,  0.1537, -0.8987],\n",
       "        [-0.0252,  0.3979,  0.2700,  ..., -1.0127,  0.2330,  0.7547],\n",
       "        [ 0.4815, -2.0542,  1.1466,  ...,  0.0261,  0.8464,  1.9166]],\n",
       "       device='mps:0')"
      ]
     },
     "execution_count": 20,
     "metadata": {},
     "output_type": "execute_result"
    }
   ],
   "source": [
    "vector = model.embeddings.weight.data\n",
    "vector"
   ]
  },
  {
   "attachments": {},
   "cell_type": "markdown",
   "metadata": {},
   "source": [
    "## LSTMLM"
   ]
  },
  {
   "cell_type": "code",
   "execution_count": 28,
   "metadata": {},
   "outputs": [],
   "source": [
    "class RNNLM(nn.Module):\n",
    "    def __init__(self, vocab_size, embedding_dim,hidden_dim,num_layers):\n",
    "        super(RNNLM, self).__init__()\n",
    "        self.embedding = nn.Embedding(vocab_size,embedding_dim)\n",
    "        self.lstm = nn.LSTM(embedding_dim,hidden_dim,num_layers,batch_first=True)\n",
    "        self.linear = nn.Linear(hidden_dim,vocab_size)\n",
    "        \n",
    "    \n",
    "    def forward(self,x,h):\n",
    "        x = self.embedding(x)\n",
    "        out, (h,c) = self.lstm(x,h)\n",
    "        out = out.reshape(out.size(0)*out.size(1),out.size(2))\n",
    "        out = self.linear(out)\n",
    "        log_probs = F.log_softmax(out, dim=1)\n",
    "        return log_probs, (h,c)\n",
    "    \n",
    "vocab_size = len(vocab)\n",
    "embedding_dim = 64\n",
    "hidden_dim = 128\n",
    "num_layers = 1\n",
    "batch_size = 1024\n",
    "num_epoch = 10\n",
    "context_size = 4\n",
    "\n",
    "model = RNNLM(vocab_size,embedding_dim,hidden_dim,num_layers).to(device)"
   ]
  },
  {
   "cell_type": "code",
   "execution_count": 30,
   "metadata": {},
   "outputs": [
    {
     "data": {
      "application/vnd.jupyter.widget-view+json": {
       "model_id": "781cf45bf7b94c11b6f8982a9cace6aa",
       "version_major": 2,
       "version_minor": 0
      },
      "text/plain": [
       "Training Epoch0:   0%|          | 0/51 [00:00<?, ?it/s]"
      ]
     },
     "metadata": {},
     "output_type": "display_data"
    },
    {
     "ename": "ValueError",
     "evalue": "Expected input batch_size (4096) to match target batch_size (1024).",
     "output_type": "error",
     "traceback": [
      "\u001b[0;31m---------------------------------------------------------------------------\u001b[0m",
      "\u001b[0;31mValueError\u001b[0m                                Traceback (most recent call last)",
      "\u001b[1;32m/Users/kingsleycheng/Documents/github/UCAS/TextDataMining/3-representation/code.ipynb Cell 17\u001b[0m in \u001b[0;36m<cell line: 7>\u001b[0;34m()\u001b[0m\n\u001b[1;32m     <a href='vscode-notebook-cell:/Users/kingsleycheng/Documents/github/UCAS/TextDataMining/3-representation/code.ipynb#X23sZmlsZQ%3D%3D?line=12'>13</a>\u001b[0m states \u001b[39m=\u001b[39m detach(states)\n\u001b[1;32m     <a href='vscode-notebook-cell:/Users/kingsleycheng/Documents/github/UCAS/TextDataMining/3-representation/code.ipynb#X23sZmlsZQ%3D%3D?line=13'>14</a>\u001b[0m outputs,states \u001b[39m=\u001b[39m model(inputs, states)\n\u001b[0;32m---> <a href='vscode-notebook-cell:/Users/kingsleycheng/Documents/github/UCAS/TextDataMining/3-representation/code.ipynb#X23sZmlsZQ%3D%3D?line=14'>15</a>\u001b[0m loss \u001b[39m=\u001b[39m criterion(outputs,targets\u001b[39m.\u001b[39;49mreshape(\u001b[39m-\u001b[39;49m\u001b[39m1\u001b[39;49m))\n\u001b[1;32m     <a href='vscode-notebook-cell:/Users/kingsleycheng/Documents/github/UCAS/TextDataMining/3-representation/code.ipynb#X23sZmlsZQ%3D%3D?line=15'>16</a>\u001b[0m optimizer\u001b[39m.\u001b[39mzero_grad()\n\u001b[1;32m     <a href='vscode-notebook-cell:/Users/kingsleycheng/Documents/github/UCAS/TextDataMining/3-representation/code.ipynb#X23sZmlsZQ%3D%3D?line=16'>17</a>\u001b[0m loss\u001b[39m.\u001b[39mbackward()\n",
      "File \u001b[0;32m/Library/Frameworks/Python.framework/Versions/3.9/lib/python3.9/site-packages/torch/nn/modules/module.py:1190\u001b[0m, in \u001b[0;36mModule._call_impl\u001b[0;34m(self, *input, **kwargs)\u001b[0m\n\u001b[1;32m   1186\u001b[0m \u001b[39m# If we don't have any hooks, we want to skip the rest of the logic in\u001b[39;00m\n\u001b[1;32m   1187\u001b[0m \u001b[39m# this function, and just call forward.\u001b[39;00m\n\u001b[1;32m   1188\u001b[0m \u001b[39mif\u001b[39;00m \u001b[39mnot\u001b[39;00m (\u001b[39mself\u001b[39m\u001b[39m.\u001b[39m_backward_hooks \u001b[39mor\u001b[39;00m \u001b[39mself\u001b[39m\u001b[39m.\u001b[39m_forward_hooks \u001b[39mor\u001b[39;00m \u001b[39mself\u001b[39m\u001b[39m.\u001b[39m_forward_pre_hooks \u001b[39mor\u001b[39;00m _global_backward_hooks\n\u001b[1;32m   1189\u001b[0m         \u001b[39mor\u001b[39;00m _global_forward_hooks \u001b[39mor\u001b[39;00m _global_forward_pre_hooks):\n\u001b[0;32m-> 1190\u001b[0m     \u001b[39mreturn\u001b[39;00m forward_call(\u001b[39m*\u001b[39;49m\u001b[39minput\u001b[39;49m, \u001b[39m*\u001b[39;49m\u001b[39m*\u001b[39;49mkwargs)\n\u001b[1;32m   1191\u001b[0m \u001b[39m# Do not call functions when jit is used\u001b[39;00m\n\u001b[1;32m   1192\u001b[0m full_backward_hooks, non_full_backward_hooks \u001b[39m=\u001b[39m [], []\n",
      "File \u001b[0;32m/Library/Frameworks/Python.framework/Versions/3.9/lib/python3.9/site-packages/torch/nn/modules/loss.py:216\u001b[0m, in \u001b[0;36mNLLLoss.forward\u001b[0;34m(self, input, target)\u001b[0m\n\u001b[1;32m    215\u001b[0m \u001b[39mdef\u001b[39;00m \u001b[39mforward\u001b[39m(\u001b[39mself\u001b[39m, \u001b[39minput\u001b[39m: Tensor, target: Tensor) \u001b[39m-\u001b[39m\u001b[39m>\u001b[39m Tensor:\n\u001b[0;32m--> 216\u001b[0m     \u001b[39mreturn\u001b[39;00m F\u001b[39m.\u001b[39;49mnll_loss(\u001b[39minput\u001b[39;49m, target, weight\u001b[39m=\u001b[39;49m\u001b[39mself\u001b[39;49m\u001b[39m.\u001b[39;49mweight, ignore_index\u001b[39m=\u001b[39;49m\u001b[39mself\u001b[39;49m\u001b[39m.\u001b[39;49mignore_index, reduction\u001b[39m=\u001b[39;49m\u001b[39mself\u001b[39;49m\u001b[39m.\u001b[39;49mreduction)\n",
      "File \u001b[0;32m/Library/Frameworks/Python.framework/Versions/3.9/lib/python3.9/site-packages/torch/nn/functional.py:2701\u001b[0m, in \u001b[0;36mnll_loss\u001b[0;34m(input, target, weight, size_average, ignore_index, reduce, reduction)\u001b[0m\n\u001b[1;32m   2699\u001b[0m \u001b[39mif\u001b[39;00m size_average \u001b[39mis\u001b[39;00m \u001b[39mnot\u001b[39;00m \u001b[39mNone\u001b[39;00m \u001b[39mor\u001b[39;00m reduce \u001b[39mis\u001b[39;00m \u001b[39mnot\u001b[39;00m \u001b[39mNone\u001b[39;00m:\n\u001b[1;32m   2700\u001b[0m     reduction \u001b[39m=\u001b[39m _Reduction\u001b[39m.\u001b[39mlegacy_get_string(size_average, reduce)\n\u001b[0;32m-> 2701\u001b[0m \u001b[39mreturn\u001b[39;00m torch\u001b[39m.\u001b[39;49m_C\u001b[39m.\u001b[39;49m_nn\u001b[39m.\u001b[39;49mnll_loss_nd(\u001b[39minput\u001b[39;49m, target, weight, _Reduction\u001b[39m.\u001b[39;49mget_enum(reduction), ignore_index)\n",
      "\u001b[0;31mValueError\u001b[0m: Expected input batch_size (4096) to match target batch_size (1024)."
     ]
    }
   ],
   "source": [
    "from torch.nn.utils import clip_grad_norm_\n",
    "criterion = nn.NLLLoss()\n",
    "optimizer = optim.Adam(model.parameters(), lr=0.001)\n",
    "dataloader = DataLoader(dataset,batch_size=batch_size,collate_fn=dataset.collate_fn,shuffle=True)\n",
    "def detach(states):\n",
    "    return [state.detach() for state in states]\n",
    "\n",
    "for epoch in range(num_epoch):\n",
    "    states = (torch.zeros(num_layers,batch_size,hidden_dim).to(device),\n",
    "              torch.zeros(num_layers,batch_size,hidden_dim).to(device))\n",
    "    total_loss = 0\n",
    "    for batch in tqdm(dataloader, desc=f\"Training Epoch{epoch}\"):\n",
    "        inputs, targets = [x.to(device) for x in batch]\n",
    "        states = detach(states)\n",
    "        outputs,states = model(inputs, states)\n",
    "        loss = criterion(outputs,targets.reshape(-1))\n",
    "        optimizer.zero_grad()\n",
    "        loss.backward()\n",
    "        clip_grad_norm_(model.parameters(),0.5)\n",
    "        total_loss+= loss.item()\n",
    "    print(total_loss)\n",
    "    total_losses.append(total_loss)\n",
    "    "
   ]
  }
 ],
 "metadata": {
  "kernelspec": {
   "display_name": "Python 3",
   "language": "python",
   "name": "python3"
  },
  "language_info": {
   "codemirror_mode": {
    "name": "ipython",
    "version": 3
   },
   "file_extension": ".py",
   "mimetype": "text/x-python",
   "name": "python",
   "nbconvert_exporter": "python",
   "pygments_lexer": "ipython3",
   "version": "3.9.13"
  },
  "orig_nbformat": 4,
  "vscode": {
   "interpreter": {
    "hash": "aee8b7b246df8f9039afb4144a1f6fd8d2ca17a180786b69acc140d282b71a49"
   }
  }
 },
 "nbformat": 4,
 "nbformat_minor": 2
}
