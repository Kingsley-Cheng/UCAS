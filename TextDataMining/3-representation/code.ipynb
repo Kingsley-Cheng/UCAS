{
 "cells": [
  {
   "attachments": {},
   "cell_type": "markdown",
   "metadata": {},
   "source": [
    "## 读取数据集"
   ]
  },
  {
   "cell_type": "code",
   "execution_count": 2,
   "metadata": {},
   "outputs": [
    {
     "name": "stdout",
     "output_type": "stream",
     "text": [
      "# 文本总行数: 5184\n",
      " His soul swooned slowly as he heard the snow falling faintly through the universe and faintly falling like the descent of their last end upon all the living and the dead\n"
     ]
    }
   ],
   "source": [
    "import re\n",
    "import collections\n",
    "def read_book():\n",
    "    with open(\"book.txt\",'r') as f:\n",
    "        lines = f.read().split(\".\")\n",
    "        return [re.sub('[^A-Za-z]+', ' ', line) for line in lines]\n",
    "\n",
    "lines = read_book()[1:-1]\n",
    "print(f'# 文本总行数: {len(lines)}')\n",
    "print(lines[-1])\n"
   ]
  },
  {
   "attachments": {},
   "cell_type": "markdown",
   "metadata": {},
   "source": [
    "## TF-IDF"
   ]
  },
  {
   "cell_type": "code",
   "execution_count": 3,
   "metadata": {},
   "outputs": [
    {
     "name": "stdout",
     "output_type": "stream",
     "text": [
      "their:\n",
      "\n",
      "tf:  0.0019930106825200846\n",
      "\n",
      "idf:  3.817133789637615\n",
      "\n",
      "tf-idf:  0.00760758841935614\n"
     ]
    }
   ],
   "source": [
    "import math\n",
    "def TFIDF(lines):\n",
    "    tf_idf = {}\n",
    "    tf_dic = {}\n",
    "    idf_dic = {}\n",
    "    N = len(lines)\n",
    "    words = [word for line in lines for word in line.split()]\n",
    "    frequency = collections.Counter(words)\n",
    "    for word,freq in frequency.items():\n",
    "        tf = math.log(freq/len(words)+1)\n",
    "        tf_dic[word] = tf\n",
    "        idf = 0\n",
    "        for line in lines:\n",
    "            if word in line:\n",
    "                idf+= 1\n",
    "        idf = math.log(N/idf)\n",
    "        idf_dic[word] = idf\n",
    "        tf_idf[word] = tf*idf\n",
    "    return tf_dic,idf_dic,tf_idf                \n",
    "\n",
    "tf,idf,tf_idf = TFIDF(lines)\n",
    "print(\"their:\")\n",
    "print(\"\\ntf: \", tf['their'])\n",
    "print(\"\\nidf: \",idf['their'])\n",
    "print(\"\\ntf-idf: \",tf_idf['their'])"
   ]
  },
  {
   "cell_type": "code",
   "execution_count": 4,
   "metadata": {},
   "outputs": [
    {
     "name": "stdout",
     "output_type": "stream",
     "text": [
      "their:\n",
      "\n",
      "tf:  0.0019949980483714744\n",
      "\n",
      "idf:  3.834833366737016\n",
      "\n",
      "tf-idf:  0.007650485082470158\n"
     ]
    }
   ],
   "source": [
    "## 使用 nltk 计算 tf-idf\n",
    "from nltk.text import TextCollection\n",
    "words = [line.split() for line in lines]\n",
    "corpus = TextCollection(words)\n",
    "tf_idf = corpus.tf_idf('their',corpus)\n",
    "tf = corpus.tf('their',corpus)\n",
    "idf = corpus.idf('their')\n",
    "print(\"their:\")\n",
    "print(\"\\ntf: \", tf)\n",
    "print(\"\\nidf: \",idf)\n",
    "print(\"\\ntf-idf: \",tf_idf)"
   ]
  },
  {
   "attachments": {},
   "cell_type": "markdown",
   "metadata": {},
   "source": [
    "## FFNNLM（前馈神经网络语言模型）\n",
    "### 构建词表"
   ]
  },
  {
   "cell_type": "code",
   "execution_count": 5,
   "metadata": {},
   "outputs": [],
   "source": [
    "def count_corpus(tokens):\n",
    "    if len(tokens) == 0 or isinstance(tokens[0], list):\n",
    "        tokens = [token for line in tokens for token in line]\n",
    "    return collections.Counter(tokens)\n",
    "\n",
    "\n",
    "class Vocab:\n",
    "    def __init__(self,tokens=None, min_freq=0, reversed_tokens=None):\n",
    "        if tokens is None:\n",
    "            tokens = []\n",
    "        if reversed_tokens is None:\n",
    "            reversed_tokens = []\n",
    "        # 按出现频率排序\n",
    "        counter = count_corpus(tokens)\n",
    "        self._token_freqs = sorted(counter.items(),key= lambda x:x[1], reverse=True)\n",
    "        # 未知词元的索引为0\n",
    "        self.idx_to_token = ['<unk>'] + reversed_tokens\n",
    "        self.token_to_idx = {tokens:idx for idx,tokens in enumerate(self.idx_to_token)}\n",
    "\n",
    "        for token, freq in self._token_freqs:\n",
    "            if freq < min_freq:\n",
    "                break\n",
    "            if token not in self.token_to_idx:\n",
    "                self.idx_to_token.append(token)\n",
    "                self.token_to_idx[token] = len(self.idx_to_token)-1\n",
    "    \n",
    "    def __len__(self):\n",
    "        return len(self.idx_to_token)\n",
    "    \n",
    "    def __getitem__(self, tokens):\n",
    "        if not isinstance(tokens, (list,tuple)):\n",
    "            return self.token_to_idx.get(tokens, self.unk)\n",
    "        return [self.__getitem__(token) for token in tokens]\n",
    "    \n",
    "    def to_tokens(self, indices):\n",
    "        if not isinstance(indices, (list,tuple)):\n",
    "            return self.idx_to_token[indices]\n",
    "        return [self.idx_to_token[index] for index in indices]\n",
    "    \n",
    "    @property\n",
    "    def unk(self):\n",
    "        return 0\n",
    "    \n",
    "    @property\n",
    "    def token_freqs(self):\n",
    "        return self._token_freqs"
   ]
  },
  {
   "cell_type": "code",
   "execution_count": 6,
   "metadata": {},
   "outputs": [
    {
     "name": "stdout",
     "output_type": "stream",
     "text": [
      "[('<unk>', 0), ('<bos>', 1), ('<eos>', 2), ('<pad>', 3), ('the', 4), ('and', 5), ('of', 6), ('to', 7), ('a', 8), ('was', 9)]\n",
      "['<unk>', '<bos>', '<eos>', '<pad>', 'the', 'and', 'of', 'to', 'a', 'was']\n",
      "7680\n"
     ]
    }
   ],
   "source": [
    "BOS_TOKEN = \"<bos>\"\n",
    "EOS_TOKEN = \"<eos>\"\n",
    "PAD_TOKEN = '<pad>'\n",
    "\n",
    "vocab = Vocab(words, reversed_tokens=[BOS_TOKEN,EOS_TOKEN,PAD_TOKEN])\n",
    "print(list(vocab.token_to_idx.items())[:10])\n",
    "print(vocab.idx_to_token[:10])\n",
    "print(len(vocab))"
   ]
  },
  {
   "cell_type": "code",
   "execution_count": 7,
   "metadata": {},
   "outputs": [
    {
     "data": {
      "text/plain": [
       "1"
      ]
     },
     "execution_count": 7,
     "metadata": {},
     "output_type": "execute_result"
    }
   ],
   "source": [
    "vocab.token_to_idx[BOS_TOKEN]"
   ]
  },
  {
   "attachments": {},
   "cell_type": "markdown",
   "metadata": {},
   "source": [
    "### 构建NN"
   ]
  },
  {
   "cell_type": "code",
   "execution_count": 8,
   "metadata": {},
   "outputs": [],
   "source": [
    "import torch\n",
    "from tqdm.auto import tqdm\n",
    "from torch.utils.data import DataLoader, Dataset\n",
    "import torch.nn as nn\n",
    "import torch.nn.functional as F\n",
    "import torch.optim as optim\n",
    "\n",
    "class NGramDataset(Dataset):\n",
    "    def __init__(self, corpus,vocab, context_size=2):\n",
    "        self.data = []\n",
    "        self.bos = vocab.idx_to_token[vocab.token_to_idx[BOS_TOKEN]]\n",
    "        self.eos = vocab.idx_to_token[vocab.token_to_idx[EOS_TOKEN]]\n",
    "        for line in tqdm(corpus,desc=\"Dataset Construct\"):\n",
    "            if len(line) < context_size:\n",
    "                continue\n",
    "            for i in range(context_size,len(line.split())):\n",
    "                context = line.split()[i-context_size:i]\n",
    "                target = line.split()[i]\n",
    "                self.data.append((vocab[context],vocab[target]))\n",
    "    \n",
    "    def __len__(self):\n",
    "        return len(self.data)\n",
    "    \n",
    "    def __getitem__(self, i):\n",
    "        return self.data[i]\n",
    "    \n",
    "    def collate_fn(self, examples):\n",
    "        inputs = torch.tensor([ex[0] for ex in examples])\n",
    "        targets = torch.tensor([list(ex)[1] for ex in examples])\n",
    "        return (inputs, targets)\n",
    "    \n",
    "\n",
    "\n",
    "class FFNNLM(nn.Module):\n",
    "    def __init__(self, vocab_size, embedding_dim, context_size, hidden_dim):\n",
    "        super(FFNNLM, self).__init__()\n",
    "        self.embeddings = nn.Embedding(vocab_size, embedding_dim)\n",
    "        self.linear1 = nn.Linear(context_size*embedding_dim, hidden_dim)\n",
    "        self.linear2 = nn.Linear(hidden_dim, vocab_size)\n",
    "        self.activate = F.relu\n",
    "        self.init_weights()\n",
    "\n",
    "    def init_weights(self):\n",
    "        for name, param in self.named_parameters():\n",
    "            if \"embedding\" not in name:\n",
    "                torch.nn.init.uniform_(param,a=-0.1,b=0.1)\n",
    "\n",
    "    def forward(self, inputs):\n",
    "        embeds = self.embeddings(inputs).view((inputs.shape[0],-1))\n",
    "        hidden = self.activate(self.linear1(embeds))\n",
    "        output = self.linear2(hidden)\n",
    "        log_probs = F.log_softmax(output, dim=1)\n",
    "        return log_probs"
   ]
  },
  {
   "cell_type": "code",
   "execution_count": 9,
   "metadata": {},
   "outputs": [
    {
     "data": {
      "application/vnd.jupyter.widget-view+json": {
       "model_id": "bc60aa71b4ac4b3fafa592307beee1f2",
       "version_major": 2,
       "version_minor": 0
      },
      "text/plain": [
       "Dataset Construct:   0%|          | 0/5184 [00:00<?, ?it/s]"
      ]
     },
     "metadata": {},
     "output_type": "display_data"
    },
    {
     "data": {
      "application/vnd.jupyter.widget-view+json": {
       "model_id": "b0ade5f95fae4281953c0362a632f3cc",
       "version_major": 2,
       "version_minor": 0
      },
      "text/plain": [
       "Training Epoch0:   0%|          | 0/51 [00:00<?, ?it/s]"
      ]
     },
     "metadata": {},
     "output_type": "display_data"
    },
    {
     "name": "stdout",
     "output_type": "stream",
     "text": [
      "392.50022315979004\n"
     ]
    },
    {
     "data": {
      "application/vnd.jupyter.widget-view+json": {
       "model_id": "93822311ed464df682246f349cf49209",
       "version_major": 2,
       "version_minor": 0
      },
      "text/plain": [
       "Training Epoch1:   0%|          | 0/51 [00:00<?, ?it/s]"
      ]
     },
     "metadata": {},
     "output_type": "display_data"
    },
    {
     "name": "stdout",
     "output_type": "stream",
     "text": [
      "320.6475567817688\n"
     ]
    },
    {
     "data": {
      "application/vnd.jupyter.widget-view+json": {
       "model_id": "6e11108f31904598a2165478d769596d",
       "version_major": 2,
       "version_minor": 0
      },
      "text/plain": [
       "Training Epoch2:   0%|          | 0/51 [00:00<?, ?it/s]"
      ]
     },
     "metadata": {},
     "output_type": "display_data"
    },
    {
     "name": "stdout",
     "output_type": "stream",
     "text": [
      "301.7682890892029\n"
     ]
    },
    {
     "data": {
      "application/vnd.jupyter.widget-view+json": {
       "model_id": "3f2cf6c7b95944c0ae0a7de77e44ae7f",
       "version_major": 2,
       "version_minor": 0
      },
      "text/plain": [
       "Training Epoch3:   0%|          | 0/51 [00:00<?, ?it/s]"
      ]
     },
     "metadata": {},
     "output_type": "display_data"
    },
    {
     "name": "stdout",
     "output_type": "stream",
     "text": [
      "287.00041246414185\n"
     ]
    },
    {
     "data": {
      "application/vnd.jupyter.widget-view+json": {
       "model_id": "1037f75e6bd045b381e114c236919afa",
       "version_major": 2,
       "version_minor": 0
      },
      "text/plain": [
       "Training Epoch4:   0%|          | 0/51 [00:00<?, ?it/s]"
      ]
     },
     "metadata": {},
     "output_type": "display_data"
    },
    {
     "name": "stdout",
     "output_type": "stream",
     "text": [
      "272.3240647315979\n"
     ]
    },
    {
     "data": {
      "application/vnd.jupyter.widget-view+json": {
       "model_id": "da6a5452309b4043a1a3492c17bd371e",
       "version_major": 2,
       "version_minor": 0
      },
      "text/plain": [
       "Training Epoch5:   0%|          | 0/51 [00:00<?, ?it/s]"
      ]
     },
     "metadata": {},
     "output_type": "display_data"
    },
    {
     "name": "stdout",
     "output_type": "stream",
     "text": [
      "257.0916085243225\n"
     ]
    },
    {
     "data": {
      "application/vnd.jupyter.widget-view+json": {
       "model_id": "fd82be1d991b4126a7182df4dee7f1ab",
       "version_major": 2,
       "version_minor": 0
      },
      "text/plain": [
       "Training Epoch6:   0%|          | 0/51 [00:00<?, ?it/s]"
      ]
     },
     "metadata": {},
     "output_type": "display_data"
    },
    {
     "name": "stdout",
     "output_type": "stream",
     "text": [
      "240.79622268676758\n"
     ]
    },
    {
     "data": {
      "application/vnd.jupyter.widget-view+json": {
       "model_id": "51802190ce5f4ad3984ce45e25186482",
       "version_major": 2,
       "version_minor": 0
      },
      "text/plain": [
       "Training Epoch7:   0%|          | 0/51 [00:00<?, ?it/s]"
      ]
     },
     "metadata": {},
     "output_type": "display_data"
    },
    {
     "name": "stdout",
     "output_type": "stream",
     "text": [
      "223.23432874679565\n"
     ]
    },
    {
     "data": {
      "application/vnd.jupyter.widget-view+json": {
       "model_id": "31b01e04c26344df9993153946c44e3b",
       "version_major": 2,
       "version_minor": 0
      },
      "text/plain": [
       "Training Epoch8:   0%|          | 0/51 [00:00<?, ?it/s]"
      ]
     },
     "metadata": {},
     "output_type": "display_data"
    },
    {
     "name": "stdout",
     "output_type": "stream",
     "text": [
      "205.04650783538818\n"
     ]
    },
    {
     "data": {
      "application/vnd.jupyter.widget-view+json": {
       "model_id": "421a3361ab9a450ca5a2a9460fa65452",
       "version_major": 2,
       "version_minor": 0
      },
      "text/plain": [
       "Training Epoch9:   0%|          | 0/51 [00:00<?, ?it/s]"
      ]
     },
     "metadata": {},
     "output_type": "display_data"
    },
    {
     "name": "stdout",
     "output_type": "stream",
     "text": [
      "187.34725785255432\n"
     ]
    }
   ],
   "source": [
    "embedding_dim = 64\n",
    "context_size = 4\n",
    "hidden_dim = 128\n",
    "batch_size = 1024\n",
    "num_epoch = 10\n",
    "\n",
    "dataset = NGramDataset(lines,vocab,context_size)\n",
    "dataloader = DataLoader(dataset,batch_size=batch_size,collate_fn=dataset.collate_fn,shuffle=True)\n",
    "criterion = nn.NLLLoss()\n",
    "device = torch.device('mps' if torch.backends.mps.is_available() else \"cpu\")\n",
    "model = FFNNLM(len(vocab), embedding_dim, context_size,hidden_dim)\n",
    "model.to(device)\n",
    "optimizer = optim.Adam(model.parameters(), lr=0.001)\n",
    "\n",
    "model.train()\n",
    "total_losses = []\n",
    "\n",
    "for epoch in range(num_epoch):\n",
    "    total_loss = 0\n",
    "    for batch in tqdm(dataloader, desc=f\"Training Epoch{epoch}\"):\n",
    "        inputs, targets = [x.to(device) for x in batch]\n",
    "        optimizer.zero_grad()\n",
    "        log_probs = model(inputs)\n",
    "        loss = criterion(log_probs, targets)\n",
    "        loss.backward()\n",
    "        optimizer.step()\n",
    "        total_loss+= loss.item()\n",
    "    print(total_loss)\n",
    "    total_losses.append(total_loss)"
   ]
  },
  {
   "cell_type": "code",
   "execution_count": 10,
   "metadata": {},
   "outputs": [
    {
     "data": {
      "text/plain": [
       "[<matplotlib.lines.Line2D at 0x2dce8a070>]"
      ]
     },
     "execution_count": 10,
     "metadata": {},
     "output_type": "execute_result"
    },
    {
     "data": {
      "image/png": "[encoded data removed]",
      "text/plain": [
       "<Figure size 640x480 with 1 Axes>"
      ]
     },
     "metadata": {},
     "output_type": "display_data"
    }
   ],
   "source": [
    "import matplotlib.pyplot as plt\n",
    "plt.plot(range(num_epoch),total_losses)"
   ]
  },
  {
   "cell_type": "code",
   "execution_count": 11,
   "metadata": {},
   "outputs": [
    {
     "name": "stderr",
     "output_type": "stream",
     "text": [
      "/Library/Frameworks/Python.framework/Versions/3.9/lib/python3.9/site-packages/torch/_tensor_str.py:115: UserWarning: The operator 'aten::nonzero' is not currently supported on the MPS backend and will fall back to run on the CPU. This may have performance implications. (Triggered internally at /Users/runner/work/pytorch/pytorch/pytorch/aten/src/ATen/mps/MPSFallback.mm:11.)\n",
      "  nonzero_finite_vals = torch.masked_select(\n"
     ]
    },
    {
     "data": {
      "text/plain": [
       "tensor([[ 1.0193, -1.0116, -0.8421,  ..., -2.1803,  0.0530,  0.5260],\n",
       "        [ 1.2759, -1.2514,  0.0418,  ..., -1.7169, -0.7476, -1.1331],\n",
       "        [ 2.7590, -1.8352,  0.3190,  ...,  0.5095, -0.0473,  0.0905],\n",
       "        ...,\n",
       "        [ 0.1545, -1.1630, -1.2295,  ..., -0.3445, -0.0695,  0.3267],\n",
       "        [ 1.6703,  1.7223,  0.0913,  ...,  0.0137,  1.2121,  1.8182],\n",
       "        [ 1.3987,  0.2023, -0.3567,  ..., -1.0573,  0.7072, -0.1821]],\n",
       "       device='mps:0')"
      ]
     },
     "execution_count": 11,
     "metadata": {},
     "output_type": "execute_result"
    }
   ],
   "source": [
    "vector = model.embeddings.weight.data\n",
    "vector"
   ]
  },
  {
   "attachments": {},
   "cell_type": "markdown",
   "metadata": {},
   "source": [
    "## Word2Vec\n",
    "### CBOW"
   ]
  },
  {
   "cell_type": "code",
   "execution_count": 24,
   "metadata": {},
   "outputs": [
    {
     "data": {
      "application/vnd.jupyter.widget-view+json": {
       "model_id": "cab972b30752497f97fa30c882833490",
       "version_major": 2,
       "version_minor": 0
      },
      "text/plain": [
       "Dataset Construct:   0%|          | 0/5184 [00:00<?, ?it/s]"
      ]
     },
     "metadata": {},
     "output_type": "display_data"
    },
    {
     "data": {
      "application/vnd.jupyter.widget-view+json": {
       "model_id": "7f6e4cfc4b814425a8a8fdd727288fb6",
       "version_major": 2,
       "version_minor": 0
      },
      "text/plain": [
       "Training Epoch0:   0%|          | 0/47 [00:00<?, ?it/s]"
      ]
     },
     "metadata": {},
     "output_type": "display_data"
    },
    {
     "ename": "TypeError",
     "evalue": "cannot assign 'torch.mps.FloatTensor' as parameter 'weight' (torch.nn.Parameter or None expected)",
     "output_type": "error",
     "traceback": [
      "\u001B[0;31m---------------------------------------------------------------------------\u001B[0m",
      "\u001B[0;31mTypeError\u001B[0m                                 Traceback (most recent call last)",
      "Cell \u001B[0;32mIn[24], line 59\u001B[0m\n\u001B[1;32m     57\u001B[0m inputs, targets \u001B[39m=\u001B[39m [x\u001B[39m.\u001B[39mto(device) \u001B[39mfor\u001B[39;00m x \u001B[39min\u001B[39;00m batch]\n\u001B[1;32m     58\u001B[0m optimizer\u001B[39m.\u001B[39mzero_grad()\n\u001B[0;32m---> 59\u001B[0m log_probs \u001B[39m=\u001B[39m cbow(inputs)\n\u001B[1;32m     60\u001B[0m loss \u001B[39m=\u001B[39m criterion(log_probs, targets)\n\u001B[1;32m     61\u001B[0m loss\u001B[39m.\u001B[39mbackward()\n",
      "File \u001B[0;32m/Library/Frameworks/Python.framework/Versions/3.9/lib/python3.9/site-packages/torch/nn/modules/module.py:1194\u001B[0m, in \u001B[0;36mModule._call_impl\u001B[0;34m(self, *input, **kwargs)\u001B[0m\n\u001B[1;32m   1190\u001B[0m \u001B[39m# If we don't have any hooks, we want to skip the rest of the logic in\u001B[39;00m\n\u001B[1;32m   1191\u001B[0m \u001B[39m# this function, and just call forward.\u001B[39;00m\n\u001B[1;32m   1192\u001B[0m \u001B[39mif\u001B[39;00m \u001B[39mnot\u001B[39;00m (\u001B[39mself\u001B[39m\u001B[39m.\u001B[39m_backward_hooks \u001B[39mor\u001B[39;00m \u001B[39mself\u001B[39m\u001B[39m.\u001B[39m_forward_hooks \u001B[39mor\u001B[39;00m \u001B[39mself\u001B[39m\u001B[39m.\u001B[39m_forward_pre_hooks \u001B[39mor\u001B[39;00m _global_backward_hooks\n\u001B[1;32m   1193\u001B[0m         \u001B[39mor\u001B[39;00m _global_forward_hooks \u001B[39mor\u001B[39;00m _global_forward_pre_hooks):\n\u001B[0;32m-> 1194\u001B[0m     \u001B[39mreturn\u001B[39;00m forward_call(\u001B[39m*\u001B[39;49m\u001B[39minput\u001B[39;49m, \u001B[39m*\u001B[39;49m\u001B[39m*\u001B[39;49mkwargs)\n\u001B[1;32m   1195\u001B[0m \u001B[39m# Do not call functions when jit is used\u001B[39;00m\n\u001B[1;32m   1196\u001B[0m full_backward_hooks, non_full_backward_hooks \u001B[39m=\u001B[39m [], []\n",
      "Cell \u001B[0;32mIn[24], line 10\u001B[0m, in \u001B[0;36mCBOW.forward\u001B[0;34m(self, inputs)\u001B[0m\n\u001B[1;32m      8\u001B[0m embed \u001B[39m=\u001B[39m \u001B[39mself\u001B[39m\u001B[39m.\u001B[39membed(inputs)\n\u001B[1;32m      9\u001B[0m hidden \u001B[39m=\u001B[39m embed\u001B[39m.\u001B[39mmean(dim\u001B[39m=\u001B[39m\u001B[39m-\u001B[39m\u001B[39m1\u001B[39m)\n\u001B[0;32m---> 10\u001B[0m \u001B[39mself\u001B[39;49m\u001B[39m.\u001B[39;49mlinear1\u001B[39m.\u001B[39;49mweight \u001B[39m=\u001B[39m \u001B[39mself\u001B[39m\u001B[39m.\u001B[39membed\u001B[39m.\u001B[39mweight\u001B[39m.\u001B[39mT\n\u001B[1;32m     11\u001B[0m out \u001B[39m=\u001B[39m \u001B[39mself\u001B[39m\u001B[39m.\u001B[39mlinear1(hidden)\n\u001B[1;32m     12\u001B[0m log_probs \u001B[39m=\u001B[39m F\u001B[39m.\u001B[39mlog_softmax(out)\n",
      "File \u001B[0;32m/Library/Frameworks/Python.framework/Versions/3.9/lib/python3.9/site-packages/torch/nn/modules/module.py:1290\u001B[0m, in \u001B[0;36mModule.__setattr__\u001B[0;34m(self, name, value)\u001B[0m\n\u001B[1;32m   1288\u001B[0m \u001B[39melif\u001B[39;00m params \u001B[39mis\u001B[39;00m \u001B[39mnot\u001B[39;00m \u001B[39mNone\u001B[39;00m \u001B[39mand\u001B[39;00m name \u001B[39min\u001B[39;00m params:\n\u001B[1;32m   1289\u001B[0m     \u001B[39mif\u001B[39;00m value \u001B[39mis\u001B[39;00m \u001B[39mnot\u001B[39;00m \u001B[39mNone\u001B[39;00m:\n\u001B[0;32m-> 1290\u001B[0m         \u001B[39mraise\u001B[39;00m \u001B[39mTypeError\u001B[39;00m(\u001B[39m\"\u001B[39m\u001B[39mcannot assign \u001B[39m\u001B[39m'\u001B[39m\u001B[39m{}\u001B[39;00m\u001B[39m'\u001B[39m\u001B[39m as parameter \u001B[39m\u001B[39m'\u001B[39m\u001B[39m{}\u001B[39;00m\u001B[39m'\u001B[39m\u001B[39m \u001B[39m\u001B[39m\"\u001B[39m\n\u001B[1;32m   1291\u001B[0m                         \u001B[39m\"\u001B[39m\u001B[39m(torch.nn.Parameter or None expected)\u001B[39m\u001B[39m\"\u001B[39m\n\u001B[1;32m   1292\u001B[0m                         \u001B[39m.\u001B[39mformat(torch\u001B[39m.\u001B[39mtypename(value), name))\n\u001B[1;32m   1293\u001B[0m     \u001B[39mself\u001B[39m\u001B[39m.\u001B[39mregister_parameter(name, value)\n\u001B[1;32m   1294\u001B[0m \u001B[39melse\u001B[39;00m:\n",
      "\u001B[0;31mTypeError\u001B[0m: cannot assign 'torch.mps.FloatTensor' as parameter 'weight' (torch.nn.Parameter or None expected)"
     ]
    }
   ],
   "source": [
    "class CBOW(nn.Module):\n",
    "    def __init__(self,vocab_size,embedding_dim):\n",
    "        super(CBOW,self).__init__()\n",
    "        self.embed = nn.Embedding(vocab_size,embedding_dim)\n",
    "        self.linear1 = nn.Linear(embedding_dim,vocab_size)\n",
    "\n",
    "    def forward(self,inputs):\n",
    "        embed = self.embed(inputs)\n",
    "        hidden = embed.mean(dim=-1)\n",
    "        self.linear1.weight = self.embed.weight.T\n",
    "        out = self.linear1(hidden)\n",
    "        log_probs = F.log_softmax(out)\n",
    "        return log_probs\n",
    "\n",
    "vocab_size = len(vocab)\n",
    "embedding_dim = 128\n",
    "\n",
    "cbow = CBOW(vocab_size,embedding_dim)\n",
    "\n",
    "class NGramDataset(Dataset):\n",
    "    def __init__(self, corpus,vocab, context_size=5):\n",
    "        self.data = []\n",
    "        self.bos = vocab.idx_to_token[vocab.token_to_idx[BOS_TOKEN]]\n",
    "        self.eos = vocab.idx_to_token[vocab.token_to_idx[EOS_TOKEN]]\n",
    "        for line in tqdm(corpus,desc=\"Dataset Construct\"):\n",
    "            if len(line) < context_size:\n",
    "                continue\n",
    "            for i in range(context_size,len(line.split())):\n",
    "                target = line.split()[i-3]\n",
    "                context = line.split()[i-context_size:i]\n",
    "                del context[2]\n",
    "                self.data.append((vocab[context],vocab[target]))\n",
    "    \n",
    "    def __len__(self):\n",
    "        return len(self.data)\n",
    "    \n",
    "    def __getitem__(self, i):\n",
    "        return self.data[i]\n",
    "    \n",
    "    def collate_fn(self, examples):\n",
    "        inputs = torch.tensor([ex[0] for ex in examples])\n",
    "        targets = torch.tensor([list(ex)[1] for ex in examples])\n",
    "        return (inputs, targets)\n",
    "dataset = NGramDataset(lines,vocab,5)\n",
    "dataloader = DataLoader(dataset,batch_size=batch_size,collate_fn=dataset.collate_fn,shuffle=True)\n",
    "criterion = nn.NLLLoss()\n",
    "device = torch.device('mps' if torch.backends.mps.is_available() else \"cpu\")\n",
    "cbow.to(device)\n",
    "optimizer = optim.Adam(model.parameters(), lr=0.001)\n",
    "\n",
    "model.train()\n",
    "total_losses = []\n",
    "\n",
    "for epoch in range(num_epoch):\n",
    "    total_loss = 0\n",
    "    for batch in tqdm(dataloader, desc=f\"Training Epoch{epoch}\"):\n",
    "        inputs, targets = [x.to(device) for x in batch]\n",
    "        optimizer.zero_grad()\n",
    "        log_probs = cbow(inputs)\n",
    "        loss = criterion(log_probs, targets)\n",
    "        loss.backward()\n",
    "        optimizer.step()\n",
    "        total_loss+= loss.item()\n",
    "    print(total_loss)\n",
    "    total_losses.append(total_loss)\n"
   ]
  }
 ],
 "metadata": {
  "kernelspec": {
   "display_name": "Python 3",
   "language": "python",
   "name": "python3"
  },
  "language_info": {
   "codemirror_mode": {
    "name": "ipython",
    "version": 3
   },
   "file_extension": ".py",
   "mimetype": "text/x-python",
   "name": "python",
   "nbconvert_exporter": "python",
   "pygments_lexer": "ipython3",
   "version": "3.9.13"
  },
  "orig_nbformat": 4,
  "vscode": {
   "interpreter": {
    "hash": "aee8b7b246df8f9039afb4144a1f6fd8d2ca17a180786b69acc140d282b71a49"
   }
  }
 },
 "nbformat": 4,
 "nbformat_minor": 2
}
