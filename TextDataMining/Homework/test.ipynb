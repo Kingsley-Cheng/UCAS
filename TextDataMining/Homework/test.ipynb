{
 "cells": [
  {
   "cell_type": "code",
   "execution_count": 1,
   "outputs": [],
   "source": [
    "import tools\n",
    "import re\n",
    "import pandas as pd\n",
    "import torch\n",
    "import model\n",
    "\n",
    "FILE_PATH = \"./data/\"\n",
    "MODEL_PATH = './model/'"
   ],
   "metadata": {
    "collapsed": false,
    "ExecuteTime": {
     "start_time": "2023-04-09T12:41:27.625310Z",
     "end_time": "2023-04-09T12:41:28.200160Z"
    }
   }
  },
  {
   "cell_type": "code",
   "execution_count": 2,
   "outputs": [],
   "source": [
    "def read_agnews(file_path):\n",
    "    index_name = ['label', 'title', 'content']\n",
    "    agnews_train = pd.read_csv(file_path + \"train.csv\", names=index_name)\n",
    "    agnews_test = pd.read_csv(file_path + \"test.csv\", names=index_name)\n",
    "    all_news = pd.concat([agnews_train, agnews_test])\n",
    "    data = [[], [], []]\n",
    "    for label, title, content in all_news.values:\n",
    "        data[0].append(label)\n",
    "        data[1].append(re.sub('[^A-Za-z]+', ' ', title).strip().lower())\n",
    "        data[2].append(re.sub('[^A-Za-z]+', ' ', content).strip().lower())\n",
    "    return data[0], data[1], data[2]"
   ],
   "metadata": {
    "collapsed": false,
    "ExecuteTime": {
     "start_time": "2023-04-09T12:41:28.202103Z",
     "end_time": "2023-04-09T12:41:28.204167Z"
    }
   }
  },
  {
   "cell_type": "code",
   "execution_count": 16,
   "outputs": [
    {
     "data": {
      "text/plain": "[['reuters',\n  'short',\n  'sellers',\n  'wall',\n  'street',\n  's',\n  'dwindling',\n  'band',\n  'of',\n  'ultra',\n  'cynics',\n  'are',\n  'seeing',\n  'green',\n  'again'],\n ['reuters',\n  'private',\n  'investment',\n  'firm',\n  'carlyle',\n  'group',\n  'which',\n  'has',\n  'a',\n  'reputation',\n  'for',\n  'making',\n  'well',\n  'timed',\n  'and',\n  'occasionally',\n  'controversial',\n  'plays',\n  'in',\n  'the',\n  'defense',\n  'industry',\n  'has',\n  'quietly',\n  'placed',\n  'its',\n  'bets',\n  'on',\n  'another',\n  'part',\n  'of',\n  'the',\n  'market'],\n ['reuters',\n  'soaring',\n  'crude',\n  'prices',\n  'plus',\n  'worries',\n  'about',\n  'the',\n  'economy',\n  'and',\n  'the',\n  'outlook',\n  'for',\n  'earnings',\n  'are',\n  'expected',\n  'to',\n  'hang',\n  'over',\n  'the',\n  'stock',\n  'market',\n  'next',\n  'week',\n  'during',\n  'the',\n  'depth',\n  'of',\n  'the',\n  'summer',\n  'doldrums'],\n ['reuters',\n  'authorities',\n  'have',\n  'halted',\n  'oil',\n  'export',\n  'flows',\n  'from',\n  'the',\n  'main',\n  'pipeline',\n  'in',\n  'southern',\n  'iraq',\n  'after',\n  'intelligence',\n  'showed',\n  'a',\n  'rebel',\n  'militia',\n  'could',\n  'strike',\n  'infrastructure',\n  'an',\n  'oil',\n  'official',\n  'said',\n  'on',\n  'saturday'],\n ['afp',\n  'tearaway',\n  'world',\n  'oil',\n  'prices',\n  'toppling',\n  'records',\n  'and',\n  'straining',\n  'wallets',\n  'present',\n  'a',\n  'new',\n  'economic',\n  'menace',\n  'barely',\n  'three',\n  'months',\n  'before',\n  'the',\n  'us',\n  'presidential',\n  'elections'],\n ['reuters',\n  'stocks',\n  'ended',\n  'slightly',\n  'higher',\n  'on',\n  'friday',\n  'but',\n  'stayed',\n  'near',\n  'lows',\n  'for',\n  'the',\n  'year',\n  'as',\n  'oil',\n  'prices',\n  'surged',\n  'past',\n  'a',\n  'barrel',\n  'offsetting',\n  'a',\n  'positive',\n  'outlook',\n  'from',\n  'computer',\n  'maker',\n  'dell',\n  'inc',\n  'dell',\n  'o'],\n ['ap',\n  'assets',\n  'of',\n  'the',\n  'nation',\n  's',\n  'retail',\n  'money',\n  'market',\n  'mutual',\n  'funds',\n  'fell',\n  'by',\n  'billion',\n  'in',\n  'the',\n  'latest',\n  'week',\n  'to',\n  'trillion',\n  'the',\n  'investment',\n  'company',\n  'institute',\n  'said',\n  'thursday'],\n ['usatoday',\n  'com',\n  'retail',\n  'sales',\n  'bounced',\n  'back',\n  'a',\n  'bit',\n  'in',\n  'july',\n  'and',\n  'new',\n  'claims',\n  'for',\n  'jobless',\n  'benefits',\n  'fell',\n  'last',\n  'week',\n  'the',\n  'government',\n  'said',\n  'thursday',\n  'indicating',\n  'the',\n  'economy',\n  'is',\n  'improving',\n  'from',\n  'a',\n  'midsummer',\n  'slump'],\n ['forbes',\n  'com',\n  'after',\n  'earning',\n  'a',\n  'ph',\n  'd',\n  'in',\n  'sociology',\n  'danny',\n  'bazil',\n  'riley',\n  'started',\n  'to',\n  'work',\n  'as',\n  'the',\n  'general',\n  'manager',\n  'at',\n  'a',\n  'commercial',\n  'real',\n  'estate',\n  'firm',\n  'at',\n  'an',\n  'annual',\n  'base',\n  'salary',\n  'of',\n  'soon',\n  'after',\n  'a',\n  'financial',\n  'planner',\n  'stopped',\n  'by',\n  'his',\n  'desk',\n  'to',\n  'drop',\n  'off',\n  'brochures',\n  'about',\n  'insurance',\n  'benefits',\n  'available',\n  'through',\n  'his',\n  'employer',\n  'but',\n  'at',\n  'buying',\n  'insurance',\n  'was',\n  'the',\n  'furthest',\n  'thing',\n  'from',\n  'my',\n  'mind',\n  'says',\n  'riley'],\n ['new',\n  'york',\n  'reuters',\n  'short',\n  'sellers',\n  'wall',\n  'street',\n  's',\n  'dwindling',\n  'band',\n  'of',\n  'ultra',\n  'cynics',\n  'are',\n  'seeing',\n  'green',\n  'again']]"
     },
     "execution_count": 16,
     "metadata": {},
     "output_type": "execute_result"
    }
   ],
   "source": [
    "label, title, content = read_agnews(FILE_PATH)\n",
    "content = tools.tokenize(content)\n",
    "content[:10]"
   ],
   "metadata": {
    "collapsed": false,
    "ExecuteTime": {
     "start_time": "2023-04-09T12:46:42.875231Z",
     "end_time": "2023-04-09T12:46:44.600162Z"
    }
   }
  },
  {
   "cell_type": "code",
   "execution_count": 17,
   "outputs": [
    {
     "data": {
      "text/plain": "'vocab size: 59173'"
     },
     "execution_count": 17,
     "metadata": {},
     "output_type": "execute_result"
    }
   ],
   "source": [
    "vocab = tools.Vocab(content)\n",
    "f'vocab size: {len(vocab)}'"
   ],
   "metadata": {
    "collapsed": false,
    "ExecuteTime": {
     "start_time": "2023-04-09T12:46:50.744817Z",
     "end_time": "2023-04-09T12:46:51.140611Z"
    }
   }
  },
  {
   "cell_type": "code",
   "execution_count": 20,
   "outputs": [
    {
     "name": "stdout",
     "output_type": "stream",
     "text": [
      "[['reuters', 'short', 'sellers', 'wall', 'street', 's', 'dwindling', 'band', 'of', 'ultra', 'cynics', 'are', 'seeing', 'green', 'again'], ['reuters', 'private', 'investment', 'firm', 'carlyle', 'group', 'which', 'has', 'a', 'reputation', 'for', 'making', 'well', 'timed', 'and', 'occasionally', 'controversial', 'plays', 'in', 'the', 'defense', 'industry', 'has', 'quietly', 'placed', 'its', 'bets', 'on', 'another', 'part', 'of', 'the', 'market'], ['reuters', 'soaring', 'crude', 'prices', 'plus', 'worries', 'about', 'the', 'economy', 'and', 'the', 'outlook', 'for', 'earnings', 'are', 'expected', 'to', 'hang', 'over', 'the', 'stock', 'market', 'next', 'week', 'during', 'the', 'depth', 'of', 'the', 'summer', 'doldrums'], ['reuters', 'authorities', 'have', 'halted', 'oil', 'export', 'flows', 'from', 'the', 'main', 'pipeline', 'in', 'southern', 'iraq', 'after', 'intelligence', 'showed', 'a', 'rebel', 'militia', 'could', 'strike', 'infrastructure', 'an', 'oil', 'official', 'said', 'on', 'saturday'], ['afp', 'tearaway', 'world', 'oil', 'prices', 'toppling', 'records', 'and', 'straining', 'wallets', 'present', 'a', 'new', 'economic', 'menace', 'barely', 'three', 'months', 'before', 'the', 'us', 'presidential', 'elections'], ['reuters', 'stocks', 'ended', 'slightly', 'higher', 'on', 'friday', 'but', 'stayed', 'near', 'lows', 'for', 'the', 'year', 'as', 'oil', 'prices', 'surged', 'past', 'a', 'barrel', 'offsetting', 'a', 'positive', 'outlook', 'from', 'computer', 'maker', 'dell', 'inc', 'dell', 'o'], ['ap', 'assets', 'of', 'the', 'nation', 's', 'retail', 'money', 'market', 'mutual', 'funds', 'fell', 'by', 'billion', 'in', 'the', 'latest', 'week', 'to', 'trillion', 'the', 'investment', 'company', 'institute', 'said', 'thursday'], ['usatoday', 'com', 'retail', 'sales', 'bounced', 'back', 'a', 'bit', 'in', 'july', 'and', 'new', 'claims', 'for', 'jobless', 'benefits', 'fell', 'last', 'week', 'the', 'government', 'said', 'thursday', 'indicating', 'the', 'economy', 'is', 'improving', 'from', 'a', 'midsummer', 'slump'], ['forbes', 'com', 'after', 'earning', 'a', 'ph', 'd', 'in', 'sociology', 'danny', 'bazil', 'riley', 'started', 'to', 'work', 'as', 'the', 'general', 'manager', 'at', 'a', 'commercial', 'real', 'estate', 'firm', 'at', 'an', 'annual', 'base', 'salary', 'of', 'soon', 'after', 'a', 'financial', 'planner', 'stopped', 'by', 'his', 'desk', 'to', 'drop', 'off', 'brochures', 'about', 'insurance', 'benefits', 'available', 'through', 'his', 'employer', 'but', 'at', 'buying', 'insurance', 'was', 'the', 'furthest', 'thing', 'from', 'my', 'mind', 'says', 'riley'], ['new', 'york', 'reuters', 'short', 'sellers', 'wall', 'street', 's', 'dwindling', 'band', 'of', 'ultra', 'cynics', 'are', 'seeing', 'green', 'again']]\n",
      "4011940\n"
     ]
    },
    {
     "data": {
      "text/plain": "[['short', 'street', 'dwindling', 'ultra'],\n [],\n ['depth', 'doldrums'],\n ['halted', 'export', 'militia'],\n ['tearaway', 'menace'],\n ['slightly'],\n ['funds', 'by'],\n ['usatoday', 'economy', 'midsummer'],\n ['ph',\n  'sociology',\n  'bazil',\n  'riley',\n  'estate',\n  'at',\n  'planner',\n  'brochures',\n  'furthest',\n  'mind'],\n ['cynics']]"
     },
     "execution_count": 20,
     "metadata": {},
     "output_type": "execute_result"
    }
   ],
   "source": [
    "subsampled, counter = tools.subsample(content, vocab)\n",
    "subsampled[:10]"
   ],
   "metadata": {
    "collapsed": false,
    "ExecuteTime": {
     "start_time": "2023-04-09T12:47:21.991072Z",
     "end_time": "2023-04-09T12:47:25.560784Z"
    }
   }
  },
  {
   "cell_type": "code",
   "execution_count": 21,
   "outputs": [
    {
     "data": {
      "text/plain": "[[724, 335, 9999, 5808], [], [6053, 14765]]"
     },
     "execution_count": 21,
     "metadata": {},
     "output_type": "execute_result"
    }
   ],
   "source": [
    "corpus = [vocab[line] for line in subsampled]\n",
    "corpus[:3]"
   ],
   "metadata": {
    "collapsed": false,
    "ExecuteTime": {
     "start_time": "2023-04-09T12:47:54.040515Z",
     "end_time": "2023-04-09T12:47:54.183664Z"
    }
   }
  },
  {
   "cell_type": "code",
   "execution_count": 22,
   "outputs": [],
   "source": [
    "all_centers, all_contexts = tools.get_centers_and_contexts(corpus, 5)"
   ],
   "metadata": {
    "collapsed": false,
    "ExecuteTime": {
     "start_time": "2023-04-09T12:48:24.054795Z",
     "end_time": "2023-04-09T12:48:25.052345Z"
    }
   }
  },
  {
   "cell_type": "code",
   "execution_count": 23,
   "outputs": [],
   "source": [
    "all_negatives = tools.get_negatives(all_contexts, vocab, counter, 5)"
   ],
   "metadata": {
    "collapsed": false,
    "ExecuteTime": {
     "start_time": "2023-04-09T12:48:39.136630Z",
     "end_time": "2023-04-09T12:48:43.693679Z"
    }
   }
  },
  {
   "cell_type": "code",
   "execution_count": null,
   "outputs": [],
   "source": [],
   "metadata": {
    "collapsed": false
   }
  }
 ],
 "metadata": {
  "kernelspec": {
   "display_name": "Python 3",
   "language": "python",
   "name": "python3"
  },
  "language_info": {
   "codemirror_mode": {
    "name": "ipython",
    "version": 2
   },
   "file_extension": ".py",
   "mimetype": "text/x-python",
   "name": "python",
   "nbconvert_exporter": "python",
   "pygments_lexer": "ipython2",
   "version": "2.7.6"
  }
 },
 "nbformat": 4,
 "nbformat_minor": 0
}
