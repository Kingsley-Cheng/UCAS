{
 "cells": [
  {
   "cell_type": "markdown",
   "source": [
    "# 因子分析\n",
    "本篇文章对我国各省市自治区的农业生产情况作因子分析。\n",
    "## 读取数据\n",
    "我们从农业生产条件、生产结果和效益出发，选取六项指标。它们分别为：\n",
    "- X1：乡村劳动力人口（万人）；\n",
    "- X2：人均经营耕地面积（亩）；\n",
    "- X3：户均生产性固定资产原值（元）；\n",
    "- X4：家庭基本纯收入（元）；\n",
    "- X5：人均农业总产值（千元/人）；\n",
    "- X6：增加值占总产值比重（%）．"
   ],
   "metadata": {
    "collapsed": false
   }
  },
  {
   "cell_type": "code",
   "execution_count": 186,
   "metadata": {
    "collapsed": true
   },
   "outputs": [
    {
     "data": {
      "text/plain": "        X1     X2        X3       X4      X5    X6\n0     66.9   0.93   2972.41  3290.73  2.5250  49.7\n1     80.2   1.64   4803.54  2871.62  1.7740  49.6\n2   1621.8   2.03   4803.54  2871.81  0.8004  54.0\n3    635.4   2.76   2257.66  1499.14  0.5550  56.2\n4    514.1  10.17   5834.94  1550.15  0.9051  66.4\n5    605.1   2.96   3108.86  2059.35  1.4752  53.1\n6    534.2   4.73   4767.51  1940.46  1.1154  63.1\n7    494.8   8.24   5573.02  2075.42  1.6283  57.8\n8     66.0   1.02   1660.03  4571.81  3.0448  35.6\n9   1530.2   1.26   2826.86  2868.33  1.1921  50.6\n10  1123.1   0.94   5494.23  3289.07  0.8565  63.3\n11  1953.6   1.44   3573.62  1508.24  0.5756  59.2\n12   775.8   0.82   2410.05  2295.19  1.1496  62.8\n13  1103.2   1.30   2310.98  1804.93  0.6649  59.9\n14  2475.1   1.44   3109.11  1989.53  0.8809  55.0\n15  2815.8   1.50   3782.26  1508.36  0.5823  58.5\n16  1296.5   1.60   2291.60  1754.13  0.8799  62.8\n17  2089.3   1.42   2348.72  1719.18  0.5870  64.7\n18  1439.8   0.88   3249.61  2928.24  1.0960  59.7\n19  1579.9   1.43   3090.17  1590.90  0.5694  64.5\n20   165.9   1.35   4454.77  1575.49  0.3535  65.2\n21  3903.7   1.08   2870.45  1340.61  0.4443  64.1\n22  1376.6   1.18   2282.27  1206.25  0.2892  65.4\n23  1642.2   2.42   4025.06  1096.73  0.3456  64.2\n24    88.6   2.51  11559.83  1257.71  0.4349  70.4\n25  1046.1   2.60   2228.55  1091.96  0.4383  59.7\n26   672.0   5.86   2879.36  1037.12  0.4883  57.2\n27   137.1   2.62   6725.11  1133.06  0.4096  70.3\n28   139.1   4.01   5607.97  1346.89  0.4973  62.5",
      "text/html": "<div>\n<style scoped>\n    .dataframe tbody tr th:only-of-type {\n        vertical-align: middle;\n    }\n\n    .dataframe tbody tr th {\n        vertical-align: top;\n    }\n\n    .dataframe thead th {\n        text-align: right;\n    }\n</style>\n<table border=\"1\" class=\"dataframe\">\n  <thead>\n    <tr style=\"text-align: right;\">\n      <th></th>\n      <th>X1</th>\n      <th>X2</th>\n      <th>X3</th>\n      <th>X4</th>\n      <th>X5</th>\n      <th>X6</th>\n    </tr>\n  </thead>\n  <tbody>\n    <tr>\n      <th>0</th>\n      <td>66.9</td>\n      <td>0.93</td>\n      <td>2972.41</td>\n      <td>3290.73</td>\n      <td>2.5250</td>\n      <td>49.7</td>\n    </tr>\n    <tr>\n      <th>1</th>\n      <td>80.2</td>\n      <td>1.64</td>\n      <td>4803.54</td>\n      <td>2871.62</td>\n      <td>1.7740</td>\n      <td>49.6</td>\n    </tr>\n    <tr>\n      <th>2</th>\n      <td>1621.8</td>\n      <td>2.03</td>\n      <td>4803.54</td>\n      <td>2871.81</td>\n      <td>0.8004</td>\n      <td>54.0</td>\n    </tr>\n    <tr>\n      <th>3</th>\n      <td>635.4</td>\n      <td>2.76</td>\n      <td>2257.66</td>\n      <td>1499.14</td>\n      <td>0.5550</td>\n      <td>56.2</td>\n    </tr>\n    <tr>\n      <th>4</th>\n      <td>514.1</td>\n      <td>10.17</td>\n      <td>5834.94</td>\n      <td>1550.15</td>\n      <td>0.9051</td>\n      <td>66.4</td>\n    </tr>\n    <tr>\n      <th>5</th>\n      <td>605.1</td>\n      <td>2.96</td>\n      <td>3108.86</td>\n      <td>2059.35</td>\n      <td>1.4752</td>\n      <td>53.1</td>\n    </tr>\n    <tr>\n      <th>6</th>\n      <td>534.2</td>\n      <td>4.73</td>\n      <td>4767.51</td>\n      <td>1940.46</td>\n      <td>1.1154</td>\n      <td>63.1</td>\n    </tr>\n    <tr>\n      <th>7</th>\n      <td>494.8</td>\n      <td>8.24</td>\n      <td>5573.02</td>\n      <td>2075.42</td>\n      <td>1.6283</td>\n      <td>57.8</td>\n    </tr>\n    <tr>\n      <th>8</th>\n      <td>66.0</td>\n      <td>1.02</td>\n      <td>1660.03</td>\n      <td>4571.81</td>\n      <td>3.0448</td>\n      <td>35.6</td>\n    </tr>\n    <tr>\n      <th>9</th>\n      <td>1530.2</td>\n      <td>1.26</td>\n      <td>2826.86</td>\n      <td>2868.33</td>\n      <td>1.1921</td>\n      <td>50.6</td>\n    </tr>\n    <tr>\n      <th>10</th>\n      <td>1123.1</td>\n      <td>0.94</td>\n      <td>5494.23</td>\n      <td>3289.07</td>\n      <td>0.8565</td>\n      <td>63.3</td>\n    </tr>\n    <tr>\n      <th>11</th>\n      <td>1953.6</td>\n      <td>1.44</td>\n      <td>3573.62</td>\n      <td>1508.24</td>\n      <td>0.5756</td>\n      <td>59.2</td>\n    </tr>\n    <tr>\n      <th>12</th>\n      <td>775.8</td>\n      <td>0.82</td>\n      <td>2410.05</td>\n      <td>2295.19</td>\n      <td>1.1496</td>\n      <td>62.8</td>\n    </tr>\n    <tr>\n      <th>13</th>\n      <td>1103.2</td>\n      <td>1.30</td>\n      <td>2310.98</td>\n      <td>1804.93</td>\n      <td>0.6649</td>\n      <td>59.9</td>\n    </tr>\n    <tr>\n      <th>14</th>\n      <td>2475.1</td>\n      <td>1.44</td>\n      <td>3109.11</td>\n      <td>1989.53</td>\n      <td>0.8809</td>\n      <td>55.0</td>\n    </tr>\n    <tr>\n      <th>15</th>\n      <td>2815.8</td>\n      <td>1.50</td>\n      <td>3782.26</td>\n      <td>1508.36</td>\n      <td>0.5823</td>\n      <td>58.5</td>\n    </tr>\n    <tr>\n      <th>16</th>\n      <td>1296.5</td>\n      <td>1.60</td>\n      <td>2291.60</td>\n      <td>1754.13</td>\n      <td>0.8799</td>\n      <td>62.8</td>\n    </tr>\n    <tr>\n      <th>17</th>\n      <td>2089.3</td>\n      <td>1.42</td>\n      <td>2348.72</td>\n      <td>1719.18</td>\n      <td>0.5870</td>\n      <td>64.7</td>\n    </tr>\n    <tr>\n      <th>18</th>\n      <td>1439.8</td>\n      <td>0.88</td>\n      <td>3249.61</td>\n      <td>2928.24</td>\n      <td>1.0960</td>\n      <td>59.7</td>\n    </tr>\n    <tr>\n      <th>19</th>\n      <td>1579.9</td>\n      <td>1.43</td>\n      <td>3090.17</td>\n      <td>1590.90</td>\n      <td>0.5694</td>\n      <td>64.5</td>\n    </tr>\n    <tr>\n      <th>20</th>\n      <td>165.9</td>\n      <td>1.35</td>\n      <td>4454.77</td>\n      <td>1575.49</td>\n      <td>0.3535</td>\n      <td>65.2</td>\n    </tr>\n    <tr>\n      <th>21</th>\n      <td>3903.7</td>\n      <td>1.08</td>\n      <td>2870.45</td>\n      <td>1340.61</td>\n      <td>0.4443</td>\n      <td>64.1</td>\n    </tr>\n    <tr>\n      <th>22</th>\n      <td>1376.6</td>\n      <td>1.18</td>\n      <td>2282.27</td>\n      <td>1206.25</td>\n      <td>0.2892</td>\n      <td>65.4</td>\n    </tr>\n    <tr>\n      <th>23</th>\n      <td>1642.2</td>\n      <td>2.42</td>\n      <td>4025.06</td>\n      <td>1096.73</td>\n      <td>0.3456</td>\n      <td>64.2</td>\n    </tr>\n    <tr>\n      <th>24</th>\n      <td>88.6</td>\n      <td>2.51</td>\n      <td>11559.83</td>\n      <td>1257.71</td>\n      <td>0.4349</td>\n      <td>70.4</td>\n    </tr>\n    <tr>\n      <th>25</th>\n      <td>1046.1</td>\n      <td>2.60</td>\n      <td>2228.55</td>\n      <td>1091.96</td>\n      <td>0.4383</td>\n      <td>59.7</td>\n    </tr>\n    <tr>\n      <th>26</th>\n      <td>672.0</td>\n      <td>5.86</td>\n      <td>2879.36</td>\n      <td>1037.12</td>\n      <td>0.4883</td>\n      <td>57.2</td>\n    </tr>\n    <tr>\n      <th>27</th>\n      <td>137.1</td>\n      <td>2.62</td>\n      <td>6725.11</td>\n      <td>1133.06</td>\n      <td>0.4096</td>\n      <td>70.3</td>\n    </tr>\n    <tr>\n      <th>28</th>\n      <td>139.1</td>\n      <td>4.01</td>\n      <td>5607.97</td>\n      <td>1346.89</td>\n      <td>0.4973</td>\n      <td>62.5</td>\n    </tr>\n  </tbody>\n</table>\n</div>"
     },
     "execution_count": 186,
     "metadata": {},
     "output_type": "execute_result"
    }
   ],
   "source": [
    "# imports\n",
    "import pandas as pd\n",
    "import numpy as np\n",
    "from sklearn.preprocessing import StandardScaler\n",
    "dt = pd.read_csv(\"FAdata.csv\", header=0)\n",
    "dt.head(-1)"
   ]
  },
  {
   "cell_type": "markdown",
   "source": [
    "## 因子分析\n",
    "### Step 1. 将原始数据标准化"
   ],
   "metadata": {
    "collapsed": false
   }
  },
  {
   "cell_type": "code",
   "execution_count": 187,
   "outputs": [
    {
     "name": "stdout",
     "output_type": "stream",
     "text": [
      "标准化后均值：\n",
      " X1    3.441691e-16\n",
      "X2   -1.924387e-16\n",
      "X3   -3.478699e-16\n",
      "X4   -2.960595e-17\n",
      "X5    1.850372e-17\n",
      "X6   -1.165734e-15\n",
      "dtype: float64\n",
      "\n",
      "标准化后方差：\n",
      " X1    1.034483\n",
      "X2    1.034483\n",
      "X3    1.034483\n",
      "X4    1.034483\n",
      "X5    1.034483\n",
      "X6    1.034483\n",
      "dtype: float64\n"
     ]
    }
   ],
   "source": [
    "zscore = StandardScaler()\n",
    "dt = pd.DataFrame(zscore.fit_transform(dt),columns=dt.columns)\n",
    "print(\"标准化后均值：\\n\",dt.mean())\n",
    "print(\"\\n标准化后方差：\\n\",dt.var())"
   ],
   "metadata": {
    "collapsed": false
   }
  },
  {
   "cell_type": "markdown",
   "source": [
    "### Step 2.建立指标间的相关系数阵R"
   ],
   "metadata": {
    "collapsed": false
   }
  },
  {
   "cell_type": "code",
   "execution_count": 188,
   "outputs": [
    {
     "name": "stdout",
     "output_type": "stream",
     "text": [
      "相关系数阵R：\n",
      "           X1        X2        X3        X4        X5        X6\n",
      "X1  1.000000 -0.332548 -0.375278 -0.176408 -0.395522  0.140047\n",
      "X2 -0.332548  1.000000  0.350943 -0.300054 -0.001433  0.164717\n",
      "X3 -0.375278  0.350943  1.000000 -0.229102 -0.129731  0.410019\n",
      "X4 -0.176408 -0.300054 -0.229102  1.000000  0.789003 -0.723103\n",
      "X5 -0.395522 -0.001433 -0.129731  0.789003  1.000000 -0.794783\n",
      "X6  0.140047  0.164717  0.410019 -0.723103 -0.794783  1.000000\n"
     ]
    }
   ],
   "source": [
    "rij = dt.corr()\n",
    "print(\"相关系数阵R：\\n\", rij)"
   ],
   "metadata": {
    "collapsed": false
   }
  },
  {
   "cell_type": "markdown",
   "source": [
    "### Step 3. 求R的特征根和特征向量"
   ],
   "metadata": {
    "collapsed": false
   }
  },
  {
   "cell_type": "code",
   "execution_count": 189,
   "outputs": [
    {
     "name": "stdout",
     "output_type": "stream",
     "text": [
      "累积贡献率：\n",
      " [0.45988503 0.75066258 0.86989018 0.9436219  0.96385794 1.        ]\n",
      "前三个特征值对应的特征向量：\n",
      "      alpha1    alpha2    alpha3\n",
      "0  0.136631 -0.626487 -0.171035\n",
      "1  0.167626  0.523707 -0.746427\n",
      "2  0.243657  0.524490  0.547956\n",
      "3 -0.543835  0.015423  0.246166\n",
      "4 -0.541958  0.240158 -0.045500\n",
      "5  0.551715  0.015511  0.225100\n"
     ]
    }
   ],
   "source": [
    "data = np.array(rij)\n",
    "eigval, eigvec = np.linalg.eig(data)\n",
    "eigval.shape[0]\n",
    "contribute = np.zeros(eigval.shape[0])\n",
    "for i in range(eigval.shape[0]):\n",
    "    contribute[i] = np.sum(eigval[0:i+1])/np.sum(eigval)\n",
    "print(\"累积贡献率：\\n\",contribute)\n",
    "eigvec = pd.DataFrame(eigvec[:,0:3],columns=[\"alpha1\",\"alpha2\",\"alpha3\"])\n",
    "eigvec[\"alpha3\"] = -1*eigvec['alpha3']\n",
    "print(\"前三个特征值对应的特征向量：\\n\",eigvec)"
   ],
   "metadata": {
    "collapsed": false
   }
  },
  {
   "cell_type": "markdown",
   "source": [
    "由于前三个特征值的贡献率已达到 85\\%, 因此我们取前三个向量\n",
    "### Step 4. 计算因子载荷矩阵"
   ],
   "metadata": {
    "collapsed": false
   }
  },
  {
   "cell_type": "code",
   "execution_count": 190,
   "outputs": [
    {
     "data": {
      "text/plain": "         a1        a2        a3        h2\n0  0.226960 -0.827501 -0.144660  0.757195\n1  0.278447  0.691743 -0.631323  0.954610\n2  0.404743  0.692776  0.463457  0.858548\n3 -0.903374  0.020371  0.208206  0.859849\n4 -0.900256  0.317215 -0.038483  0.912566\n5  0.916463  0.020488  0.190388  0.876572",
      "text/html": "<div>\n<style scoped>\n    .dataframe tbody tr th:only-of-type {\n        vertical-align: middle;\n    }\n\n    .dataframe tbody tr th {\n        vertical-align: top;\n    }\n\n    .dataframe thead th {\n        text-align: right;\n    }\n</style>\n<table border=\"1\" class=\"dataframe\">\n  <thead>\n    <tr style=\"text-align: right;\">\n      <th></th>\n      <th>a1</th>\n      <th>a2</th>\n      <th>a3</th>\n      <th>h2</th>\n    </tr>\n  </thead>\n  <tbody>\n    <tr>\n      <th>0</th>\n      <td>0.226960</td>\n      <td>-0.827501</td>\n      <td>-0.144660</td>\n      <td>0.757195</td>\n    </tr>\n    <tr>\n      <th>1</th>\n      <td>0.278447</td>\n      <td>0.691743</td>\n      <td>-0.631323</td>\n      <td>0.954610</td>\n    </tr>\n    <tr>\n      <th>2</th>\n      <td>0.404743</td>\n      <td>0.692776</td>\n      <td>0.463457</td>\n      <td>0.858548</td>\n    </tr>\n    <tr>\n      <th>3</th>\n      <td>-0.903374</td>\n      <td>0.020371</td>\n      <td>0.208206</td>\n      <td>0.859849</td>\n    </tr>\n    <tr>\n      <th>4</th>\n      <td>-0.900256</td>\n      <td>0.317215</td>\n      <td>-0.038483</td>\n      <td>0.912566</td>\n    </tr>\n    <tr>\n      <th>5</th>\n      <td>0.916463</td>\n      <td>0.020488</td>\n      <td>0.190388</td>\n      <td>0.876572</td>\n    </tr>\n  </tbody>\n</table>\n</div>"
     },
     "execution_count": 190,
     "metadata": {},
     "output_type": "execute_result"
    }
   ],
   "source": [
    "A = pd.DataFrame(np.dot(eigvec,np.diag(np.sqrt(eigval[0:3]))),columns=[\"a1\",\"a2\",\"a3\"])\n",
    "A[\"h2\"] = np.sum(A**2,axis=1)\n",
    "A"
   ],
   "metadata": {
    "collapsed": false
   }
  },
  {
   "cell_type": "markdown",
   "source": [
    "### step 5. 因子 varimax 旋转"
   ],
   "metadata": {
    "collapsed": false
   }
  },
  {
   "cell_type": "code",
   "execution_count": 198,
   "outputs": [
    {
     "name": "stdout",
     "output_type": "stream",
     "text": [
      "-3.5772856368055786e-08\n",
      "[[ 1.00000000e+00  3.57728564e-08]\n",
      " [-3.57728564e-08  1.00000000e+00]]\n",
      "[[1.00000000e+00 2.64027032e-24]\n",
      " [2.64027032e-24 1.00000000e+00]]\n",
      "         a1        a2        a3        h2\n",
      "0  0.327733 -0.764436 -0.255782  0.757195\n",
      "1  0.206206  0.806323 -0.511793  0.954610\n",
      "2  0.308884  0.657395  0.575300  0.858548\n",
      "3 -0.903366 -0.115917  0.174190  0.859849\n",
      "4 -0.930878  0.212977 -0.025943  0.912566\n",
      "5  0.903235  0.097633  0.226289  0.876572\n",
      "-1.35157407824267e-07\n",
      "[[ 1.00000000e+00  1.35157408e-07]\n",
      " [-1.35157408e-07  1.00000000e+00]]\n",
      "[[ 1.00000000e+00 -1.28400405e-23]\n",
      " [-1.28400405e-23  1.00000000e+00]]\n",
      "         a1        a2        a3        h2\n",
      "0  0.327733 -0.764436 -0.255782  0.757195\n",
      "1  0.206206  0.806323 -0.511793  0.954610\n",
      "2  0.308884  0.657395  0.575300  0.858548\n",
      "3 -0.903366 -0.115917  0.174190  0.859849\n",
      "4 -0.930878  0.212977 -0.025943  0.912566\n",
      "5  0.903235  0.097633  0.226289  0.876572\n",
      "4.6658361612757676e-08\n",
      "[[ 1.00000000e+00 -4.66583616e-08]\n",
      " [ 4.66583616e-08  1.00000000e+00]]\n",
      "[[ 1.00000000e+00 -1.13837185e-24]\n",
      " [-1.13837185e-24  1.00000000e+00]]\n",
      "         a1        a2        a3        h2\n",
      "0  0.327733 -0.764436 -0.255782  0.757195\n",
      "1  0.206206  0.806323 -0.511793  0.954610\n",
      "2  0.308884  0.657395  0.575300  0.858548\n",
      "3 -0.903366 -0.115917  0.174190  0.859849\n",
      "4 -0.930878  0.212977 -0.025943  0.912566\n",
      "5  0.903235  0.097633  0.226289  0.876572\n"
     ]
    }
   ],
   "source": [
    "def varimax(data,var1,var2):\n",
    "    uj = (data.iloc[:,var1]/np.sqrt(data.iloc[:,-1]))**2 - (data.iloc[:,var2]/np.sqrt(data.iloc[:,-1]))**2\n",
    "    vj = 2*(data.iloc[:,var1]/np.sqrt(data.iloc[:,-1])) * (data.iloc[:,var2]/np.sqrt(data.iloc[:,-1]))\n",
    "    A = np.sum(uj)\n",
    "    B = np.sum(vj)\n",
    "    C = np.sum(uj**2-vj**2)\n",
    "    D = np.sum(2*uj*vj)\n",
    "    p = uj.shape[0]\n",
    "    phi = np.tanh((D-2*A*B/p)/(C-(A**2-B**2)/p))/4\n",
    "    print(phi)\n",
    "    T = np.matrix([[np.cos(phi),-np.sin(phi)],[np.sin(phi),np.cos(phi)]])\n",
    "    print(T)\n",
    "    print(np.dot(T,T.transpose()))\n",
    "    data.iloc[:,[var1,var2]] = np.dot(data.iloc[:,[var1,var2]],T)\n",
    "    data[\"h2\"] = np.sum(data.iloc[:,:3]**2,axis=1)\n",
    "\n",
    "varimax(A,0,1)\n",
    "print(A)\n",
    "varimax(A,0,2)\n",
    "print(A)\n",
    "varimax(A,1,2)\n",
    "print(A)"
   ],
   "metadata": {
    "collapsed": false
   }
  },
  {
   "cell_type": "markdown",
   "source": [
    "# Step 6. 因子得分"
   ],
   "metadata": {
    "collapsed": false
   }
  },
  {
   "cell_type": "code",
   "execution_count": 199,
   "outputs": [
    {
     "data": {
      "text/plain": "array([[ 0.14282762,  0.07066788,  0.08450274, -0.33234546, -0.34457629,\n         0.32276081],\n       [-0.42576225,  0.53363429,  0.30946821, -0.0702019 ,  0.14881837,\n         0.00998812],\n       [-0.26636158, -0.81022582,  0.70427413,  0.2768544 , -0.03897366,\n         0.27750372]])"
     },
     "execution_count": 199,
     "metadata": {},
     "output_type": "execute_result"
    }
   ],
   "source": [
    "B = np.dot(A.iloc[:,0:3].transpose(),np.linalg.inv(rij))\n",
    "B"
   ],
   "metadata": {
    "collapsed": false
   }
  },
  {
   "cell_type": "code",
   "execution_count": 200,
   "outputs": [
    {
     "data": {
      "text/plain": "array([2.76378234, 2.67108403, 1.23538003, 0.98001904, 5.10048403,\n       1.60336757, 1.31197861, 3.89145731, 3.78269223, 1.80313989,\n       2.32661547, 1.36544963, 1.1870663 , 0.89107718, 1.60380938,\n       2.06014875, 1.01953125, 1.93117349, 1.81901119, 1.32626343,\n       1.67368109, 3.64289754, 1.82015722, 1.48715028, 5.93719805,\n       1.70934554, 3.18525926, 3.29408635, 1.80827246, 1.96652295])"
     },
     "execution_count": 200,
     "metadata": {},
     "output_type": "execute_result"
    }
   ],
   "source": [
    "np.sum(abs(np.dot(B,dt.transpose())),axis=0)"
   ],
   "metadata": {
    "collapsed": false
   }
  },
  {
   "cell_type": "code",
   "execution_count": 181,
   "outputs": [
    {
     "data": {
      "text/plain": "       a1      a2      a3      h2\n0  0.2433 -0.8236 -0.1564  0.7621\n1  0.2718  0.6954  0.6366  0.9629\n2  0.4035  0.6957  0.4529  0.8520\n3 -0.9103  0.0202  0.1961  0.8675\n4 -0.9089  0.3057 -0.0356  0.9210\n5  0.9086  0.0296  0.1920  0.8634",
      "text/html": "<div>\n<style scoped>\n    .dataframe tbody tr th:only-of-type {\n        vertical-align: middle;\n    }\n\n    .dataframe tbody tr th {\n        vertical-align: top;\n    }\n\n    .dataframe thead th {\n        text-align: right;\n    }\n</style>\n<table border=\"1\" class=\"dataframe\">\n  <thead>\n    <tr style=\"text-align: right;\">\n      <th></th>\n      <th>a1</th>\n      <th>a2</th>\n      <th>a3</th>\n      <th>h2</th>\n    </tr>\n  </thead>\n  <tbody>\n    <tr>\n      <th>0</th>\n      <td>0.2433</td>\n      <td>-0.8236</td>\n      <td>-0.1564</td>\n      <td>0.7621</td>\n    </tr>\n    <tr>\n      <th>1</th>\n      <td>0.2718</td>\n      <td>0.6954</td>\n      <td>0.6366</td>\n      <td>0.9629</td>\n    </tr>\n    <tr>\n      <th>2</th>\n      <td>0.4035</td>\n      <td>0.6957</td>\n      <td>0.4529</td>\n      <td>0.8520</td>\n    </tr>\n    <tr>\n      <th>3</th>\n      <td>-0.9103</td>\n      <td>0.0202</td>\n      <td>0.1961</td>\n      <td>0.8675</td>\n    </tr>\n    <tr>\n      <th>4</th>\n      <td>-0.9089</td>\n      <td>0.3057</td>\n      <td>-0.0356</td>\n      <td>0.9210</td>\n    </tr>\n    <tr>\n      <th>5</th>\n      <td>0.9086</td>\n      <td>0.0296</td>\n      <td>0.1920</td>\n      <td>0.8634</td>\n    </tr>\n  </tbody>\n</table>\n</div>"
     },
     "execution_count": 181,
     "metadata": {},
     "output_type": "execute_result"
    }
   ],
   "source": [
    "A = np.array([[0.2433,-0.8236,-0.1564,0.7621],\n",
    " [0.2718,0.6954,0.6366,0.9629],\n",
    "[0.4035,0.6957,0.4529,0.8520],\n",
    "[-0.9103,0.0202,0.1961,0.8675],\n",
    "[-0.9089,0.3057,-0.0356,0.9210],\n",
    "[0.9086,0.0296,0.1920,0.8634]])\n",
    "A = pd.DataFrame(A,columns=[\"a1\",\"a2\",\"a3\",\"h2\"])\n",
    "A"
   ],
   "metadata": {
    "collapsed": false
   }
  },
  {
   "cell_type": "code",
   "execution_count": null,
   "outputs": [],
   "source": [],
   "metadata": {
    "collapsed": false
   }
  }
 ],
 "metadata": {
  "kernelspec": {
   "display_name": "Python 3",
   "language": "python",
   "name": "python3"
  },
  "language_info": {
   "codemirror_mode": {
    "name": "ipython",
    "version": 2
   },
   "file_extension": ".py",
   "mimetype": "text/x-python",
   "name": "python",
   "nbconvert_exporter": "python",
   "pygments_lexer": "ipython2",
   "version": "2.7.6"
  }
 },
 "nbformat": 4,
 "nbformat_minor": 0
}
