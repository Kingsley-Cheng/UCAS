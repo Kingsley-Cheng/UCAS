{
 "cells": [
  {
   "attachments": {},
   "cell_type": "markdown",
   "metadata": {},
   "source": [
    "## 模型选择、欠拟合和过拟合\n",
    "### 多项式回归"
   ]
  },
  {
   "cell_type": "code",
   "execution_count": 1,
   "metadata": {},
   "outputs": [],
   "source": [
    "import math\n",
    "import numpy as np\n",
    "import torch\n",
    "from torch import nn \n",
    "import sys\n",
    "sys.path.append(r\"/Users/kingsleycheng/Documents/github/UCAS/DeepLearning/D2L/\")\n",
    "import mytorch"
   ]
  },
  {
   "attachments": {},
   "cell_type": "markdown",
   "metadata": {},
   "source": [
    "#### 生成数据集"
   ]
  },
  {
   "cell_type": "code",
   "execution_count": 3,
   "metadata": {},
   "outputs": [
    {
     "data": {
      "text/plain": [
       "(tensor([[-0.5785],\n",
       "         [ 1.4484]]),\n",
       " tensor([[ 1.0000e+00, -5.7848e-01,  1.6732e-01, -3.2263e-02,  4.6659e-03,\n",
       "          -5.3982e-04,  5.2045e-05, -4.3010e-06,  3.1100e-07, -1.9990e-08,\n",
       "           1.1564e-09, -6.0812e-11,  2.9315e-12, -1.3045e-13,  5.3901e-15,\n",
       "          -2.0787e-16,  7.5154e-18, -2.5574e-19,  8.2187e-21, -2.5023e-22],\n",
       "         [ 1.0000e+00,  1.4484e+00,  1.0489e+00,  5.0642e-01,  1.8337e-01,\n",
       "           5.3119e-02,  1.2823e-02,  2.6532e-03,  4.8037e-04,  7.7306e-05,\n",
       "           1.1197e-05,  1.4743e-06,  1.7795e-07,  1.9826e-08,  2.0512e-09,\n",
       "           1.9806e-10,  1.7929e-11,  1.5276e-12,  1.2292e-13,  9.3702e-15]]),\n",
       " tensor([3.5496, 6.0402]))"
      ]
     },
     "execution_count": 3,
     "metadata": {},
     "output_type": "execute_result"
    }
   ],
   "source": [
    "max_degree = 20 # 多项式的最大阶数\n",
    "n_train, n_test = 100, 100 # 训练和测试数据集大小\n",
    "true_w = np.zeros(max_degree) # 分配大量的空间\n",
    "true_w[0:4] = np.array([5, 1.2, -3.4, 5.6])\n",
    "\n",
    "features = np.random.normal(size=(n_train+n_test, 1))\n",
    "np.random.shuffle(features)\n",
    "poly_features = np.power(features, np.arange(max_degree).reshape(1, -1))\n",
    "for i in range(max_degree):\n",
    "    poly_features[:, i] /= math.gamma(i+1) # gamma(n)=(n-1)!\n",
    "# labels的维度:(n_train+n_test,)\n",
    "labels = np.dot(poly_features, true_w)\n",
    "labels += np.random.normal(scale=0.1, size=labels.shape)\n",
    "\n",
    "# NumPy ndarray转换为tensor\n",
    "true_w, features, poly_features, labels = [torch.tensor(x ,dtype=torch.float32)\n",
    "                                           for x in [true_w, features, poly_features, labels]]\n",
    "\n",
    "features[:2], poly_features[:2, :], labels[:2]"
   ]
  },
  {
   "cell_type": "code",
   "execution_count": null,
   "metadata": {},
   "outputs": [],
   "source": []
  }
 ],
 "metadata": {
  "kernelspec": {
   "display_name": "Python 3",
   "language": "python",
   "name": "python3"
  },
  "language_info": {
   "codemirror_mode": {
    "name": "ipython",
    "version": 3
   },
   "file_extension": ".py",
   "mimetype": "text/x-python",
   "name": "python",
   "nbconvert_exporter": "python",
   "pygments_lexer": "ipython3",
   "version": "3.9.13"
  },
  "orig_nbformat": 4
 },
 "nbformat": 4,
 "nbformat_minor": 2
}
